{
  "nbformat": 4,
  "nbformat_minor": 0,
  "metadata": {
    "colab": {
      "provenance": [],
      "toc_visible": true
    },
    "kernelspec": {
      "name": "python3",
      "display_name": "Python 3"
    },
    "language_info": {
      "name": "python"
    }
  },
  "cells": [
    {
      "cell_type": "code",
      "source": [
        "pip install --upgrade polars"
      ],
      "metadata": {
        "colab": {
          "base_uri": "https://localhost:8080/"
        },
        "id": "DDZ1QXmnQCGK",
        "outputId": "c5c106a3-110d-47e9-c403-0e73e425884a"
      },
      "execution_count": null,
      "outputs": [
        {
          "output_type": "stream",
          "name": "stdout",
          "text": [
            "Requirement already satisfied: polars in /usr/local/lib/python3.10/dist-packages (0.20.3)\n"
          ]
        }
      ]
    },
    {
      "cell_type": "code",
      "execution_count": null,
      "metadata": {
        "id": "PXVRsjUyOvX7"
      },
      "outputs": [],
      "source": [
        "#importing all libraries\n",
        "import pandas as pd\n",
        "import numpy as np\n",
        "from google.colab import drive\n",
        "import shutil\n",
        "import glob\n",
        "import gc\n",
        "import csv\n",
        "import os\n",
        "import datetime\n",
        "import json\n",
        "from urllib.request import urlopen\n",
        "import pprint\n",
        "import polars as pl\n",
        "#from zipfile import ZipFile"
      ]
    },
    {
      "cell_type": "code",
      "source": [
        "shutil.rmtree('/content/sample_data')\n",
        "drive.mount('/content/drive')"
      ],
      "metadata": {
        "colab": {
          "base_uri": "https://localhost:8080/"
        },
        "id": "cbNqZEYNPGA_",
        "outputId": "a33e3954-e13a-4386-d330-4001b78f6059"
      },
      "execution_count": null,
      "outputs": [
        {
          "output_type": "stream",
          "name": "stdout",
          "text": [
            "Mounted at /content/drive\n"
          ]
        }
      ]
    },
    {
      "cell_type": "markdown",
      "source": [
        "# Intro\n",
        "\n",
        "**Algorithm for Tableau** (to match limitations of public version)\n",
        "\n",
        "**Main idea:** aggregate up to number of violations\n",
        "\n",
        "**Additional assumption:** Time span to be limited to 12 months. Assumption: preprocessing is made on the whole dataset and the final result is limited to chosen date range.\n",
        "\n",
        "Columns of the input dataset:\n",
        "```\n",
        "['plate_id', 'plate_type', 'registration_state', 'vehicle_body_type', 'violation_description', 'violation_precinct', 'violation_county', 'house_number', 'street_name', 'issue_datetime']\n",
        "```\n",
        "Steps:\n",
        "1. 'plate_id': drop\n",
        "2. 'plate_type': aggretate to top3 or 5 and other map as other\n",
        "3. 'registration_state': aggretate to top3 or 5 and other map as other\n",
        "4. 'vehicle_body_type': keep aggregation as is\n",
        "5. 'violation_description': let's try to map to its sense (long|short, not parking) or just aggregate to top-10\n",
        "6. 'violation_precinct': check for validity accross counties and other drop\n",
        "7. 'violation_county': keep\n",
        "8. 'house_number'; drop as we cannot locate it with long|lat\n",
        "9. 'street_name': keep top-15 or in every precinct\n",
        "10. 'issue_datetime': split into date and time rounded to hour\n",
        "\n",
        "Then aggregate up to the number of violations"
      ],
      "metadata": {
        "id": "_kT5ZUrZPkWH"
      }
    },
    {
      "cell_type": "code",
      "source": [
        "# download as Polars DataFrame\n",
        "\n",
        "features = {\n",
        "    # 'plate_id':'str',\n",
        "    'registration_state':pl.Categorical,\n",
        "    'plate_type':pl.Categorical,\n",
        "    # 'Violation Code':'categorical',\n",
        "    'vehicle_body_type':pl.Categorical,\n",
        "    'violation_description': pl.Categorical,\n",
        "    #'Street Code1':'int32',\n",
        "    #'Street Code2':'int32',\n",
        "    #'Street Code3':'int32',\n",
        "    'violation_precinct': pl.UInt16,\n",
        "    'violation_county':pl.Categorical,\n",
        "    'house_number':str,\n",
        "    'street_name':str,\n",
        "    'issue_datetime': pl.Datetime\n",
        "}\n",
        "\n",
        "path = '/content/drive/MyDrive/DataAnalyst/Hackathon/'\n",
        "output_merged_file = 'data_source.csv'\n",
        "\n",
        "dfpl = pl.read_csv(path+output_merged_file, columns=list(features.keys()), dtypes=features)\n",
        "print('Est. memory_usage, mb: ', int(dfpl.estimated_size()/ 1024 / 1024) )\n",
        "print(dfpl)"
      ],
      "metadata": {
        "colab": {
          "base_uri": "https://localhost:8080/"
        },
        "id": "2PiYY65pPJfR",
        "outputId": "14e9793e-54d7-4437-df90-a4b346a061ac"
      },
      "execution_count": null,
      "outputs": [
        {
          "output_type": "stream",
          "name": "stdout",
          "text": [
            "Est. memory_usage, mb:  1890\n",
            "shape: (33_932_135, 9)\n",
            "┌───────────┬───────────┬───────────┬───────────┬───┬───────────┬───────────┬───────────┬──────────┐\n",
            "│ plate_typ ┆ registrat ┆ vehicle_b ┆ violation ┆ … ┆ violation ┆ house_num ┆ street_na ┆ issue_da │\n",
            "│ e         ┆ ion_state ┆ ody_type  ┆ _descript ┆   ┆ _county   ┆ ber       ┆ me        ┆ tetime   │\n",
            "│ ---       ┆ ---       ┆ ---       ┆ ion       ┆   ┆ ---       ┆ ---       ┆ ---       ┆ ---      │\n",
            "│ cat       ┆ cat       ┆ cat       ┆ ---       ┆   ┆ cat       ┆ str       ┆ str       ┆ datetime │\n",
            "│           ┆           ┆           ┆ cat       ┆   ┆           ┆           ┆           ┆ [μs]     │\n",
            "╞═══════════╪═══════════╪═══════════╪═══════════╪═══╪═══════════╪═══════════╪═══════════╪══════════╡\n",
            "│ PAS       ┆ NY        ┆ Suburban  ┆ 46-Double ┆ … ┆ Manhattan ┆ 712       ┆ 175th st  ┆ 2013-08- │\n",
            "│           ┆           ┆           ┆ Parking   ┆   ┆           ┆           ┆           ┆ 04       │\n",
            "│           ┆           ┆           ┆ (Com      ┆   ┆           ┆           ┆           ┆ 07:52:00 │\n",
            "│           ┆           ┆           ┆ Plate)    ┆   ┆           ┆           ┆           ┆          │\n",
            "│ COM       ┆ NY        ┆ Van       ┆ 46-Double ┆ … ┆ Manhattan ┆ 201       ┆ 177th st  ┆ 2013-08- │\n",
            "│           ┆           ┆           ┆ Parking   ┆   ┆           ┆           ┆           ┆ 04       │\n",
            "│           ┆           ┆           ┆ (Com      ┆   ┆           ┆           ┆           ┆ 12:40:00 │\n",
            "│           ┆           ┆           ┆ Plate)    ┆   ┆           ┆           ┆           ┆          │\n",
            "│ COM       ┆ NY        ┆ Pickup    ┆ 46-Double ┆ … ┆ Manhattan ┆ 520       ┆ 163rd st  ┆ 2013-08- │\n",
            "│           ┆           ┆           ┆ Parking   ┆   ┆           ┆           ┆           ┆ 05       │\n",
            "│           ┆           ┆           ┆ (Com      ┆   ┆           ┆           ┆           ┆ 12:43:00 │\n",
            "│           ┆           ┆           ┆ Plate)    ┆   ┆           ┆           ┆           ┆          │\n",
            "│ COM       ┆ NY        ┆ Van       ┆ 46-Double ┆ … ┆ Manhattan ┆ 517       ┆ 176th st  ┆ 2013-08- │\n",
            "│           ┆           ┆           ┆ Parking   ┆   ┆           ┆           ┆           ┆ 05       │\n",
            "│           ┆           ┆           ┆ (Com      ┆   ┆           ┆           ┆           ┆ 14:32:00 │\n",
            "│           ┆           ┆           ┆ Plate)    ┆   ┆           ┆           ┆           ┆          │\n",
            "│ …         ┆ …         ┆ …         ┆ …         ┆ … ┆ …         ┆ …         ┆ …         ┆ …        │\n",
            "│ PAS       ┆ NY        ┆ Suburban  ┆ 14-No     ┆ … ┆ Queens    ┆ null      ┆ terminal  ┆ 2016-06- │\n",
            "│           ┆           ┆           ┆ Standing  ┆   ┆           ┆           ┆ 8th       ┆ 30       │\n",
            "│           ┆           ┆           ┆           ┆   ┆           ┆           ┆ arrivals  ┆ 06:15:00 │\n",
            "│ PAS       ┆ NY        ┆ Sedan     ┆ 70-Reg.   ┆ … ┆ Bronx     ┆ 3400      ┆ 3rd ave   ┆ 2016-06- │\n",
            "│           ┆           ┆           ┆ Sticker   ┆   ┆           ┆           ┆           ┆ 30       │\n",
            "│           ┆           ┆           ┆ Missing   ┆   ┆           ┆           ┆           ┆ 06:23:00 │\n",
            "│           ┆           ┆           ┆ (NYS)     ┆   ┆           ┆           ┆           ┆          │\n",
            "│ PAS       ┆ NY        ┆ Suburban  ┆ 16-No Std ┆ … ┆ Bronx     ┆ 1489      ┆ ave       ┆ 2016-06- │\n",
            "│           ┆           ┆           ┆ (Com Veh) ┆   ┆           ┆           ┆           ┆ 30       │\n",
            "│           ┆           ┆           ┆ Com Plate ┆   ┆           ┆           ┆           ┆ 18:45:00 │\n",
            "│ PAS       ┆ NY        ┆ Suburban  ┆ 19-No     ┆ … ┆ Bronx     ┆ 1551      ┆ unionport ┆ 2016-06- │\n",
            "│           ┆           ┆           ┆ Stand     ┆   ┆           ┆           ┆ rd        ┆ 30       │\n",
            "│           ┆           ┆           ┆ (bus      ┆   ┆           ┆           ┆           ┆ 02:17:00 │\n",
            "│           ┆           ┆           ┆ stop)     ┆   ┆           ┆           ┆           ┆          │\n",
            "└───────────┴───────────┴───────────┴───────────┴───┴───────────┴───────────┴───────────┴──────────┘\n"
          ]
        }
      ]
    },
    {
      "cell_type": "markdown",
      "source": [
        "# Mapping"
      ],
      "metadata": {
        "id": "kkRJ_aU5ia1z"
      }
    },
    {
      "cell_type": "markdown",
      "source": [
        "## Plate type"
      ],
      "metadata": {
        "id": "Rs4XsOxTigU3"
      }
    },
    {
      "cell_type": "code",
      "source": [
        "dfpl['plate_type'].value_counts(sort=True).select(\n",
        "    pl.col(\"plate_type\"),\n",
        "    pl.col(\"count\"),\n",
        "    pl.col('count').map_elements(lambda x: x/dfpl.shape[0]).round(4).alias(\"percent_count\"),\n",
        "    pl.col('count').map_elements(lambda x: x/dfpl.shape[0]).cum_sum().round(4).alias(\"percent_cumm\"),\n",
        ").head(15)\n"
      ],
      "metadata": {
        "colab": {
          "base_uri": "https://localhost:8080/",
          "height": 568
        },
        "id": "7xtPZp8HYHFb",
        "outputId": "d4ce74b3-32d3-4cf6-8ed1-be00950b89a9"
      },
      "execution_count": null,
      "outputs": [
        {
          "output_type": "execute_result",
          "data": {
            "text/plain": [
              "shape: (15, 4)\n",
              "┌────────────┬──────────┬───────────────┬──────────────┐\n",
              "│ plate_type ┆ count    ┆ percent_count ┆ percent_cumm │\n",
              "│ ---        ┆ ---      ┆ ---           ┆ ---          │\n",
              "│ cat        ┆ u32      ┆ f64           ┆ f64          │\n",
              "╞════════════╪══════════╪═══════════════╪══════════════╡\n",
              "│ PAS        ┆ 24017971 ┆ 0.7078        ┆ 0.7078       │\n",
              "│ COM        ┆ 7463627  ┆ 0.22          ┆ 0.9278       │\n",
              "│ OMT        ┆ 879686   ┆ 0.0259        ┆ 0.9537       │\n",
              "│ SRF        ┆ 285610   ┆ 0.0084        ┆ 0.9621       │\n",
              "│ …          ┆ …        ┆ …             ┆ …            │\n",
              "│ APP        ┆ 50942    ┆ 0.0015        ┆ 0.9919       │\n",
              "│ ORG        ┆ 42858    ┆ 0.0013        ┆ 0.9932       │\n",
              "│ MED        ┆ 35467    ┆ 0.001         ┆ 0.9942       │\n",
              "│ OML        ┆ 23109    ┆ 0.0007        ┆ 0.9949       │\n",
              "└────────────┴──────────┴───────────────┴──────────────┘"
            ],
            "text/html": [
              "<div><style>\n",
              ".dataframe > thead > tr,\n",
              ".dataframe > tbody > tr {\n",
              "  text-align: right;\n",
              "  white-space: pre-wrap;\n",
              "}\n",
              "</style>\n",
              "<small>shape: (15, 4)</small><table border=\"1\" class=\"dataframe\"><thead><tr><th>plate_type</th><th>count</th><th>percent_count</th><th>percent_cumm</th></tr><tr><td>cat</td><td>u32</td><td>f64</td><td>f64</td></tr></thead><tbody><tr><td>&quot;PAS&quot;</td><td>24017971</td><td>0.7078</td><td>0.7078</td></tr><tr><td>&quot;COM&quot;</td><td>7463627</td><td>0.22</td><td>0.9278</td></tr><tr><td>&quot;OMT&quot;</td><td>879686</td><td>0.0259</td><td>0.9537</td></tr><tr><td>&quot;SRF&quot;</td><td>285610</td><td>0.0084</td><td>0.9621</td></tr><tr><td>&quot;OMS&quot;</td><td>275961</td><td>0.0081</td><td>0.9703</td></tr><tr><td>&quot;IRP&quot;</td><td>221618</td><td>0.0065</td><td>0.9768</td></tr><tr><td>&quot;999&quot;</td><td>167137</td><td>0.0049</td><td>0.9817</td></tr><tr><td>&quot;TRC&quot;</td><td>103487</td><td>0.003</td><td>0.9848</td></tr><tr><td>&quot;MOT&quot;</td><td>82558</td><td>0.0024</td><td>0.9872</td></tr><tr><td>&quot;OMR&quot;</td><td>55042</td><td>0.0016</td><td>0.9888</td></tr><tr><td>&quot;CMB&quot;</td><td>54834</td><td>0.0016</td><td>0.9904</td></tr><tr><td>&quot;APP&quot;</td><td>50942</td><td>0.0015</td><td>0.9919</td></tr><tr><td>&quot;ORG&quot;</td><td>42858</td><td>0.0013</td><td>0.9932</td></tr><tr><td>&quot;MED&quot;</td><td>35467</td><td>0.001</td><td>0.9942</td></tr><tr><td>&quot;OML&quot;</td><td>23109</td><td>0.0007</td><td>0.9949</td></tr></tbody></table></div>"
            ]
          },
          "metadata": {},
          "execution_count": 3
        }
      ]
    },
    {
      "cell_type": "markdown",
      "source": [
        "Top 15 `plate_types` cover 99.5% of all occurances. We will map them and the rest to `other`"
      ],
      "metadata": {
        "id": "lnPpg8BKocti"
      }
    },
    {
      "cell_type": "code",
      "source": [
        "plate_type_dict = {\n",
        "    'PAS': 'Passenger',\n",
        "    'COM': 'Commercial',\n",
        "    'OMT': 'Omnibus',\n",
        "    'SRF': 'Special',\n",
        "    'OMS': 'Omnibus',\n",
        "    'IRP': 'International',\n",
        "    'TRC': 'Tractor',\n",
        "    'MOT': 'Motorcycle',\n",
        "    'OMR': 'Omnibus',\n",
        "    'ORG': 'Commercial',\n",
        "    'MED': 'Medical',\n",
        "    'OML': 'Omnibus'\n",
        "}\n",
        "\n",
        "dfpl = dfpl.with_columns(pl.col('plate_type').cast(pl.Utf8).replace(plate_type_dict, default='other', return_dtype=pl.Categorical))"
      ],
      "metadata": {
        "colab": {
          "base_uri": "https://localhost:8080/"
        },
        "id": "UcCAG7F6ivIA",
        "outputId": "29448ac9-9ae9-4277-d121-41feebcfbcaf"
      },
      "execution_count": null,
      "outputs": [
        {
          "output_type": "stream",
          "name": "stderr",
          "text": [
            "<ipython-input-4-0500e8f7df94>:16: CategoricalRemappingWarning: Local categoricals have different encodings, expensive re-encoding is done to perform this merge operation. Consider using a StringCache or an Enum type if the categories are known in advance\n",
            "  dfpl = dfpl.with_columns(pl.col('plate_type').cast(pl.Utf8).replace(plate_type_dict, default='other', return_dtype=pl.Categorical))\n"
          ]
        }
      ]
    },
    {
      "cell_type": "code",
      "source": [
        "print('Est. memory_usage, mb: ', int(dfpl.estimated_size()/ 1024 / 1024) )\n",
        "dfpl.head(5)"
      ],
      "metadata": {
        "colab": {
          "base_uri": "https://localhost:8080/",
          "height": 272
        },
        "id": "rc7GUUZKln0G",
        "outputId": "1288db08-8c23-4e3e-e530-b8d6cb63c9c4"
      },
      "execution_count": null,
      "outputs": [
        {
          "output_type": "stream",
          "name": "stdout",
          "text": [
            "Est. memory_usage, mb:  1894\n"
          ]
        },
        {
          "output_type": "execute_result",
          "data": {
            "text/plain": [
              "shape: (5, 9)\n",
              "┌───────────┬───────────┬───────────┬───────────┬───┬───────────┬───────────┬───────────┬──────────┐\n",
              "│ plate_typ ┆ registrat ┆ vehicle_b ┆ violation ┆ … ┆ violation ┆ house_num ┆ street_na ┆ issue_da │\n",
              "│ e         ┆ ion_state ┆ ody_type  ┆ _descript ┆   ┆ _county   ┆ ber       ┆ me        ┆ tetime   │\n",
              "│ ---       ┆ ---       ┆ ---       ┆ ion       ┆   ┆ ---       ┆ ---       ┆ ---       ┆ ---      │\n",
              "│ cat       ┆ cat       ┆ cat       ┆ ---       ┆   ┆ cat       ┆ str       ┆ str       ┆ datetime │\n",
              "│           ┆           ┆           ┆ cat       ┆   ┆           ┆           ┆           ┆ [μs]     │\n",
              "╞═══════════╪═══════════╪═══════════╪═══════════╪═══╪═══════════╪═══════════╪═══════════╪══════════╡\n",
              "│ Passenger ┆ NY        ┆ Suburban  ┆ 46-Double ┆ … ┆ Manhattan ┆ 712       ┆ 175th st  ┆ 2013-08- │\n",
              "│           ┆           ┆           ┆ Parking   ┆   ┆           ┆           ┆           ┆ 04       │\n",
              "│           ┆           ┆           ┆ (Com      ┆   ┆           ┆           ┆           ┆ 07:52:00 │\n",
              "│           ┆           ┆           ┆ Plate)    ┆   ┆           ┆           ┆           ┆          │\n",
              "│ Commercia ┆ NY        ┆ Van       ┆ 46-Double ┆ … ┆ Manhattan ┆ 201       ┆ 177th st  ┆ 2013-08- │\n",
              "│ l         ┆           ┆           ┆ Parking   ┆   ┆           ┆           ┆           ┆ 04       │\n",
              "│           ┆           ┆           ┆ (Com      ┆   ┆           ┆           ┆           ┆ 12:40:00 │\n",
              "│           ┆           ┆           ┆ Plate)    ┆   ┆           ┆           ┆           ┆          │\n",
              "│ Commercia ┆ NY        ┆ Pickup    ┆ 46-Double ┆ … ┆ Manhattan ┆ 520       ┆ 163rd st  ┆ 2013-08- │\n",
              "│ l         ┆           ┆           ┆ Parking   ┆   ┆           ┆           ┆           ┆ 05       │\n",
              "│           ┆           ┆           ┆ (Com      ┆   ┆           ┆           ┆           ┆ 12:43:00 │\n",
              "│           ┆           ┆           ┆ Plate)    ┆   ┆           ┆           ┆           ┆          │\n",
              "│ Commercia ┆ NY        ┆ Van       ┆ 46-Double ┆ … ┆ Manhattan ┆ 517       ┆ 176th st  ┆ 2013-08- │\n",
              "│ l         ┆           ┆           ┆ Parking   ┆   ┆           ┆           ┆           ┆ 05       │\n",
              "│           ┆           ┆           ┆ (Com      ┆   ┆           ┆           ┆           ┆ 14:32:00 │\n",
              "│           ┆           ┆           ┆ Plate)    ┆   ┆           ┆           ┆           ┆          │\n",
              "│ Passenger ┆ NJ        ┆ Pickup    ┆ 14-No     ┆ … ┆ Manhattan ┆ 525       ┆ 175th st  ┆ 2013-08- │\n",
              "│           ┆           ┆           ┆ Standing  ┆   ┆           ┆           ┆           ┆ 11       │\n",
              "│           ┆           ┆           ┆           ┆   ┆           ┆           ┆           ┆ 18:17:00 │\n",
              "└───────────┴───────────┴───────────┴───────────┴───┴───────────┴───────────┴───────────┴──────────┘"
            ],
            "text/html": [
              "<div><style>\n",
              ".dataframe > thead > tr,\n",
              ".dataframe > tbody > tr {\n",
              "  text-align: right;\n",
              "  white-space: pre-wrap;\n",
              "}\n",
              "</style>\n",
              "<small>shape: (5, 9)</small><table border=\"1\" class=\"dataframe\"><thead><tr><th>plate_type</th><th>registration_state</th><th>vehicle_body_type</th><th>violation_description</th><th>violation_precinct</th><th>violation_county</th><th>house_number</th><th>street_name</th><th>issue_datetime</th></tr><tr><td>cat</td><td>cat</td><td>cat</td><td>cat</td><td>u16</td><td>cat</td><td>str</td><td>str</td><td>datetime[μs]</td></tr></thead><tbody><tr><td>&quot;Passenger&quot;</td><td>&quot;NY&quot;</td><td>&quot;Suburban&quot;</td><td>&quot;46-Double Park…</td><td>33</td><td>&quot;Manhattan&quot;</td><td>&quot;712&quot;</td><td>&quot;175th st&quot;</td><td>2013-08-04 07:52:00</td></tr><tr><td>&quot;Commercial&quot;</td><td>&quot;NY&quot;</td><td>&quot;Van&quot;</td><td>&quot;46-Double Park…</td><td>33</td><td>&quot;Manhattan&quot;</td><td>&quot;201&quot;</td><td>&quot;177th st&quot;</td><td>2013-08-04 12:40:00</td></tr><tr><td>&quot;Commercial&quot;</td><td>&quot;NY&quot;</td><td>&quot;Pickup&quot;</td><td>&quot;46-Double Park…</td><td>33</td><td>&quot;Manhattan&quot;</td><td>&quot;520&quot;</td><td>&quot;163rd st&quot;</td><td>2013-08-05 12:43:00</td></tr><tr><td>&quot;Commercial&quot;</td><td>&quot;NY&quot;</td><td>&quot;Van&quot;</td><td>&quot;46-Double Park…</td><td>33</td><td>&quot;Manhattan&quot;</td><td>&quot;517&quot;</td><td>&quot;176th st&quot;</td><td>2013-08-05 14:32:00</td></tr><tr><td>&quot;Passenger&quot;</td><td>&quot;NJ&quot;</td><td>&quot;Pickup&quot;</td><td>&quot;14-No Standing…</td><td>33</td><td>&quot;Manhattan&quot;</td><td>&quot;525&quot;</td><td>&quot;175th st&quot;</td><td>2013-08-11 18:17:00</td></tr></tbody></table></div>"
            ]
          },
          "metadata": {},
          "execution_count": 6
        }
      ]
    },
    {
      "cell_type": "markdown",
      "source": [
        "## Registration state"
      ],
      "metadata": {
        "id": "gNzpnAnXHLf3"
      }
    },
    {
      "cell_type": "code",
      "source": [
        "dfpl['registration_state'].value_counts(sort=True).select(\n",
        "    pl.col(\"registration_state\"),\n",
        "    pl.col(\"count\"),\n",
        "    pl.col('count').map_elements(lambda x: x/dfpl.shape[0]).round(4).alias(\"percent_count\"),\n",
        "    pl.col('count').map_elements(lambda x: x/dfpl.shape[0]).cum_sum().round(4).alias(\"percent_cumm\"),\n",
        ").head(15)"
      ],
      "metadata": {
        "colab": {
          "base_uri": "https://localhost:8080/",
          "height": 568
        },
        "id": "jcEL_jEOloIn",
        "outputId": "c6772501-4a25-45a7-a70c-6e4456813456"
      },
      "execution_count": null,
      "outputs": [
        {
          "output_type": "execute_result",
          "data": {
            "text/plain": [
              "shape: (15, 4)\n",
              "┌────────────────────┬──────────┬───────────────┬──────────────┐\n",
              "│ registration_state ┆ count    ┆ percent_count ┆ percent_cumm │\n",
              "│ ---                ┆ ---      ┆ ---           ┆ ---          │\n",
              "│ cat                ┆ u32      ┆ f64           ┆ f64          │\n",
              "╞════════════════════╪══════════╪═══════════════╪══════════════╡\n",
              "│ NY                 ┆ 26103695 ┆ 0.7693        ┆ 0.7693       │\n",
              "│ NJ                 ┆ 3291929  ┆ 0.097         ┆ 0.8663       │\n",
              "│ PA                 ┆ 852419   ┆ 0.0251        ┆ 0.8914       │\n",
              "│ CT                 ┆ 493915   ┆ 0.0146        ┆ 0.906        │\n",
              "│ …                  ┆ …        ┆ …             ┆ …            │\n",
              "│ GA                 ┆ 108737   ┆ 0.0032        ┆ 0.9606       │\n",
              "│ TX                 ┆ 108575   ┆ 0.0032        ┆ 0.9638       │\n",
              "│ 99                 ┆ 93584    ┆ 0.0028        ┆ 0.9665       │\n",
              "│ AZ                 ┆ 92874    ┆ 0.0027        ┆ 0.9693       │\n",
              "└────────────────────┴──────────┴───────────────┴──────────────┘"
            ],
            "text/html": [
              "<div><style>\n",
              ".dataframe > thead > tr,\n",
              ".dataframe > tbody > tr {\n",
              "  text-align: right;\n",
              "  white-space: pre-wrap;\n",
              "}\n",
              "</style>\n",
              "<small>shape: (15, 4)</small><table border=\"1\" class=\"dataframe\"><thead><tr><th>registration_state</th><th>count</th><th>percent_count</th><th>percent_cumm</th></tr><tr><td>cat</td><td>u32</td><td>f64</td><td>f64</td></tr></thead><tbody><tr><td>&quot;NY&quot;</td><td>26103695</td><td>0.7693</td><td>0.7693</td></tr><tr><td>&quot;NJ&quot;</td><td>3291929</td><td>0.097</td><td>0.8663</td></tr><tr><td>&quot;PA&quot;</td><td>852419</td><td>0.0251</td><td>0.8914</td></tr><tr><td>&quot;CT&quot;</td><td>493915</td><td>0.0146</td><td>0.906</td></tr><tr><td>&quot;FL&quot;</td><td>428982</td><td>0.0126</td><td>0.9186</td></tr><tr><td>&quot;MA&quot;</td><td>309348</td><td>0.0091</td><td>0.9277</td></tr><tr><td>&quot;IN&quot;</td><td>277854</td><td>0.0082</td><td>0.9359</td></tr><tr><td>&quot;VA&quot;</td><td>231801</td><td>0.0068</td><td>0.9428</td></tr><tr><td>&quot;MD&quot;</td><td>193144</td><td>0.0057</td><td>0.9485</td></tr><tr><td>&quot;NC&quot;</td><td>175158</td><td>0.0052</td><td>0.9536</td></tr><tr><td>&quot;IL&quot;</td><td>127901</td><td>0.0038</td><td>0.9574</td></tr><tr><td>&quot;GA&quot;</td><td>108737</td><td>0.0032</td><td>0.9606</td></tr><tr><td>&quot;TX&quot;</td><td>108575</td><td>0.0032</td><td>0.9638</td></tr><tr><td>&quot;99&quot;</td><td>93584</td><td>0.0028</td><td>0.9665</td></tr><tr><td>&quot;AZ&quot;</td><td>92874</td><td>0.0027</td><td>0.9693</td></tr></tbody></table></div>"
            ]
          },
          "metadata": {},
          "execution_count": 7
        }
      ]
    },
    {
      "cell_type": "markdown",
      "source": [
        "In TOP 5 states, in addition to NY, we have NJ, PA, CT and MA that share border with New York. Let's map them and leave other as `other`"
      ],
      "metadata": {
        "id": "xx20BFzPI26n"
      }
    },
    {
      "cell_type": "code",
      "source": [
        "registration_dict = {\n",
        "    'NY': 'New York',\n",
        "    'NJ': 'New Jersey',\n",
        "    'PA': 'Pennsylvania',\n",
        "    'CT': 'Connecticut',\n",
        "    'MA': 'Massachusetts '\n",
        "}\n",
        "\n",
        "dfpl = dfpl.with_columns(pl.col('registration_state').cast(pl.Utf8).replace(registration_dict, default='other', return_dtype=pl.Categorical))"
      ],
      "metadata": {
        "colab": {
          "base_uri": "https://localhost:8080/"
        },
        "id": "4MxUDdT-urAK",
        "outputId": "439cbab4-8626-46ca-a477-1df3eec04e4b"
      },
      "execution_count": null,
      "outputs": [
        {
          "output_type": "stream",
          "name": "stderr",
          "text": [
            "<ipython-input-8-69535ebca7ac>:9: CategoricalRemappingWarning: Local categoricals have different encodings, expensive re-encoding is done to perform this merge operation. Consider using a StringCache or an Enum type if the categories are known in advance\n",
            "  dfpl = dfpl.with_columns(pl.col('registration_state').cast(pl.Utf8).replace(registration_dict, default='other', return_dtype=pl.Categorical))\n"
          ]
        }
      ]
    },
    {
      "cell_type": "code",
      "source": [
        "print('Est. memory_usage, mb: ', int(dfpl.estimated_size()/ 1024 / 1024) )\n",
        "dfpl.head(5)"
      ],
      "metadata": {
        "colab": {
          "base_uri": "https://localhost:8080/",
          "height": 272
        },
        "id": "FFCXsgRZKXtx",
        "outputId": "21e326c6-2a43-4dab-842c-fdd5cab7c839"
      },
      "execution_count": null,
      "outputs": [
        {
          "output_type": "stream",
          "name": "stdout",
          "text": [
            "Est. memory_usage, mb:  1898\n"
          ]
        },
        {
          "output_type": "execute_result",
          "data": {
            "text/plain": [
              "shape: (5, 9)\n",
              "┌───────────┬───────────┬───────────┬───────────┬───┬───────────┬───────────┬───────────┬──────────┐\n",
              "│ plate_typ ┆ registrat ┆ vehicle_b ┆ violation ┆ … ┆ violation ┆ house_num ┆ street_na ┆ issue_da │\n",
              "│ e         ┆ ion_state ┆ ody_type  ┆ _descript ┆   ┆ _county   ┆ ber       ┆ me        ┆ tetime   │\n",
              "│ ---       ┆ ---       ┆ ---       ┆ ion       ┆   ┆ ---       ┆ ---       ┆ ---       ┆ ---      │\n",
              "│ cat       ┆ cat       ┆ cat       ┆ ---       ┆   ┆ cat       ┆ str       ┆ str       ┆ datetime │\n",
              "│           ┆           ┆           ┆ cat       ┆   ┆           ┆           ┆           ┆ [μs]     │\n",
              "╞═══════════╪═══════════╪═══════════╪═══════════╪═══╪═══════════╪═══════════╪═══════════╪══════════╡\n",
              "│ Passenger ┆ New York  ┆ Suburban  ┆ 46-Double ┆ … ┆ Manhattan ┆ 712       ┆ 175th st  ┆ 2013-08- │\n",
              "│           ┆           ┆           ┆ Parking   ┆   ┆           ┆           ┆           ┆ 04       │\n",
              "│           ┆           ┆           ┆ (Com      ┆   ┆           ┆           ┆           ┆ 07:52:00 │\n",
              "│           ┆           ┆           ┆ Plate)    ┆   ┆           ┆           ┆           ┆          │\n",
              "│ Commercia ┆ New York  ┆ Van       ┆ 46-Double ┆ … ┆ Manhattan ┆ 201       ┆ 177th st  ┆ 2013-08- │\n",
              "│ l         ┆           ┆           ┆ Parking   ┆   ┆           ┆           ┆           ┆ 04       │\n",
              "│           ┆           ┆           ┆ (Com      ┆   ┆           ┆           ┆           ┆ 12:40:00 │\n",
              "│           ┆           ┆           ┆ Plate)    ┆   ┆           ┆           ┆           ┆          │\n",
              "│ Commercia ┆ New York  ┆ Pickup    ┆ 46-Double ┆ … ┆ Manhattan ┆ 520       ┆ 163rd st  ┆ 2013-08- │\n",
              "│ l         ┆           ┆           ┆ Parking   ┆   ┆           ┆           ┆           ┆ 05       │\n",
              "│           ┆           ┆           ┆ (Com      ┆   ┆           ┆           ┆           ┆ 12:43:00 │\n",
              "│           ┆           ┆           ┆ Plate)    ┆   ┆           ┆           ┆           ┆          │\n",
              "│ Commercia ┆ New York  ┆ Van       ┆ 46-Double ┆ … ┆ Manhattan ┆ 517       ┆ 176th st  ┆ 2013-08- │\n",
              "│ l         ┆           ┆           ┆ Parking   ┆   ┆           ┆           ┆           ┆ 05       │\n",
              "│           ┆           ┆           ┆ (Com      ┆   ┆           ┆           ┆           ┆ 14:32:00 │\n",
              "│           ┆           ┆           ┆ Plate)    ┆   ┆           ┆           ┆           ┆          │\n",
              "│ Passenger ┆ New       ┆ Pickup    ┆ 14-No     ┆ … ┆ Manhattan ┆ 525       ┆ 175th st  ┆ 2013-08- │\n",
              "│           ┆ Jersey    ┆           ┆ Standing  ┆   ┆           ┆           ┆           ┆ 11       │\n",
              "│           ┆           ┆           ┆           ┆   ┆           ┆           ┆           ┆ 18:17:00 │\n",
              "└───────────┴───────────┴───────────┴───────────┴───┴───────────┴───────────┴───────────┴──────────┘"
            ],
            "text/html": [
              "<div><style>\n",
              ".dataframe > thead > tr,\n",
              ".dataframe > tbody > tr {\n",
              "  text-align: right;\n",
              "  white-space: pre-wrap;\n",
              "}\n",
              "</style>\n",
              "<small>shape: (5, 9)</small><table border=\"1\" class=\"dataframe\"><thead><tr><th>plate_type</th><th>registration_state</th><th>vehicle_body_type</th><th>violation_description</th><th>violation_precinct</th><th>violation_county</th><th>house_number</th><th>street_name</th><th>issue_datetime</th></tr><tr><td>cat</td><td>cat</td><td>cat</td><td>cat</td><td>u16</td><td>cat</td><td>str</td><td>str</td><td>datetime[μs]</td></tr></thead><tbody><tr><td>&quot;Passenger&quot;</td><td>&quot;New York&quot;</td><td>&quot;Suburban&quot;</td><td>&quot;46-Double Park…</td><td>33</td><td>&quot;Manhattan&quot;</td><td>&quot;712&quot;</td><td>&quot;175th st&quot;</td><td>2013-08-04 07:52:00</td></tr><tr><td>&quot;Commercial&quot;</td><td>&quot;New York&quot;</td><td>&quot;Van&quot;</td><td>&quot;46-Double Park…</td><td>33</td><td>&quot;Manhattan&quot;</td><td>&quot;201&quot;</td><td>&quot;177th st&quot;</td><td>2013-08-04 12:40:00</td></tr><tr><td>&quot;Commercial&quot;</td><td>&quot;New York&quot;</td><td>&quot;Pickup&quot;</td><td>&quot;46-Double Park…</td><td>33</td><td>&quot;Manhattan&quot;</td><td>&quot;520&quot;</td><td>&quot;163rd st&quot;</td><td>2013-08-05 12:43:00</td></tr><tr><td>&quot;Commercial&quot;</td><td>&quot;New York&quot;</td><td>&quot;Van&quot;</td><td>&quot;46-Double Park…</td><td>33</td><td>&quot;Manhattan&quot;</td><td>&quot;517&quot;</td><td>&quot;176th st&quot;</td><td>2013-08-05 14:32:00</td></tr><tr><td>&quot;Passenger&quot;</td><td>&quot;New Jersey&quot;</td><td>&quot;Pickup&quot;</td><td>&quot;14-No Standing…</td><td>33</td><td>&quot;Manhattan&quot;</td><td>&quot;525&quot;</td><td>&quot;175th st&quot;</td><td>2013-08-11 18:17:00</td></tr></tbody></table></div>"
            ]
          },
          "metadata": {},
          "execution_count": 9
        }
      ]
    },
    {
      "cell_type": "markdown",
      "source": [
        "## Violation description"
      ],
      "metadata": {
        "id": "9eIZkc1eKryN"
      }
    },
    {
      "cell_type": "code",
      "source": [
        "with pl.Config(set_fmt_str_lengths=50, set_tbl_rows=30):\n",
        "    # cfg.set_fmt_str_lengths=100\n",
        "    # cfg.set_tbl_rows=30\n",
        "    display(\n",
        "        dfpl['violation_description'].value_counts(sort=True).select(\n",
        "            pl.col(\"violation_description\").cast(pl.Utf8),\n",
        "            pl.col(\"count\"),\n",
        "            pl.col('count').map_elements(lambda x: x/dfpl.shape[0]).round(4).alias(\"percent_count\"),\n",
        "            pl.col('count').map_elements(lambda x: x/dfpl.shape[0]).cum_sum().round(4).alias(\"percent_cumm\"),\n",
        "    ).head(40)\n",
        "    )"
      ],
      "metadata": {
        "colab": {
          "base_uri": "https://localhost:8080/",
          "height": 1000
        },
        "id": "xT5YM_03Kbr8",
        "outputId": "0e12988d-5c01-41e1-f70b-39ab334312ff"
      },
      "execution_count": null,
      "outputs": [
        {
          "output_type": "display_data",
          "data": {
            "text/plain": [
              "shape: (40, 4)\n",
              "┌────────────────────────────────┬─────────┬───────────────┬──────────────┐\n",
              "│ violation_description          ┆ count   ┆ percent_count ┆ percent_cumm │\n",
              "│ ---                            ┆ ---     ┆ ---           ┆ ---          │\n",
              "│ str                            ┆ u32     ┆ f64           ┆ f64          │\n",
              "╞════════════════════════════════╪═════════╪═══════════════╪══════════════╡\n",
              "│ 21-No Parking (street clean)   ┆ 5684051 ┆ 0.1675        ┆ 0.1675       │\n",
              "│ 38-Failure to Display Muni Rec ┆ 4748736 ┆ 0.1399        ┆ 0.3075       │\n",
              "│ 14-No Standing                 ┆ 3473546 ┆ 0.1024        ┆ 0.4098       │\n",
              "│ 37-Expired Muni Meter          ┆ 2755433 ┆ 0.0812        ┆ 0.491        │\n",
              "│ 20-No Parking (Com Plate)      ┆ 2341966 ┆ 0.069         ┆ 0.5601       │\n",
              "│ 46-Double Parking (Com Plate)  ┆ 2050460 ┆ 0.0604        ┆ 0.6205       │\n",
              "│ 20A-No Parking (Non-COM)       ┆ 2039138 ┆ 0.0601        ┆ 0.6806       │\n",
              "│ 40-Fire Hydrant                ┆ 1876396 ┆ 0.0553        ┆ 0.7359       │\n",
              "│ 19-No Stand (bus stop)         ┆ 1151262 ┆ 0.0339        ┆ 0.7698       │\n",
              "│ 70-Reg. Sticker Missing (NYS)  ┆ 946024  ┆ 0.0279        ┆ 0.7977       │\n",
              "│ 69-Failure to Disp Muni Recpt  ┆ 938517  ┆ 0.0277        ┆ 0.8253       │\n",
              "│ 16-No Std (Com Veh) Com Plate  ┆ 808137  ┆ 0.0238        ┆ 0.8492       │\n",
              "│ 31-No Stand (Com. Mtr. Zone)   ┆ 613040  ┆ 0.0181        ┆ 0.8672       │\n",
              "│ 47-Double PKG-Midtown          ┆ 467690  ┆ 0.0138        ┆ 0.881        │\n",
              "│ 50-Crosswalk                   ┆ 359907  ┆ 0.0106        ┆ 0.8916       │\n",
              "│ …                              ┆ …       ┆ …             ┆ …            │\n",
              "│ 53-Safety Zone                 ┆ 122721  ┆ 0.0036        ┆ 0.9636       │\n",
              "│ 13-No Stand (taxi stand)       ┆ 108316  ┆ 0.0032        ┆ 0.9668       │\n",
              "│ 67-Blocking Ped. Ramp          ┆ 104849  ┆ 0.0031        ┆ 0.9699       │\n",
              "│ 85-Storage-3 hour Commercial   ┆ 104031  ┆ 0.0031        ┆ 0.9729       │\n",
              "│ 45-Traffic Lane                ┆ 98392   ┆ 0.0029        ┆ 0.9758       │\n",
              "│ 68-Not Pkg. Comp. w Psted Sign ┆ 88125   ┆ 0.0026        ┆ 0.9784       │\n",
              "│ 66-Detached Trailer            ┆ 71117   ┆ 0.0021        ┆ 0.9805       │\n",
              "│ 18-No Stand (bus lane)         ┆ 66137   ┆ 0.0019        ┆ 0.9825       │\n",
              "│ 77-Parked Bus (exc desig area) ┆ 62459   ┆ 0.0018        ┆ 0.9843       │\n",
              "│ 72-Insp Stkr Mutilated         ┆ 56221   ┆ 0.0017        ┆ 0.986        │\n",
              "│ 83-Improper Registration       ┆ 54897   ┆ 0.0016        ┆ 0.9876       │\n",
              "│ 64-No STD Ex Con/DPL, D/S Dec  ┆ 51847   ┆ 0.0015        ┆ 0.9891       │\n",
              "│ 61-Wrong Way                   ┆ 47905   ┆ 0.0014        ┆ 0.9905       │\n",
              "│ 60-Angle Parking               ┆ 37071   ┆ 0.0011        ┆ 0.9916       │\n",
              "│ 23-No Parking (taxi stand)     ┆ 35311   ┆ 0.001         ┆ 0.9927       │\n",
              "└────────────────────────────────┴─────────┴───────────────┴──────────────┘"
            ],
            "text/html": [
              "<div><style>\n",
              ".dataframe > thead > tr,\n",
              ".dataframe > tbody > tr {\n",
              "  text-align: right;\n",
              "  white-space: pre-wrap;\n",
              "}\n",
              "</style>\n",
              "<small>shape: (40, 4)</small><table border=\"1\" class=\"dataframe\"><thead><tr><th>violation_description</th><th>count</th><th>percent_count</th><th>percent_cumm</th></tr><tr><td>str</td><td>u32</td><td>f64</td><td>f64</td></tr></thead><tbody><tr><td>&quot;21-No Parking (street clean)&quot;</td><td>5684051</td><td>0.1675</td><td>0.1675</td></tr><tr><td>&quot;38-Failure to Display Muni Rec&quot;</td><td>4748736</td><td>0.1399</td><td>0.3075</td></tr><tr><td>&quot;14-No Standing&quot;</td><td>3473546</td><td>0.1024</td><td>0.4098</td></tr><tr><td>&quot;37-Expired Muni Meter&quot;</td><td>2755433</td><td>0.0812</td><td>0.491</td></tr><tr><td>&quot;20-No Parking (Com Plate)&quot;</td><td>2341966</td><td>0.069</td><td>0.5601</td></tr><tr><td>&quot;46-Double Parking (Com Plate)&quot;</td><td>2050460</td><td>0.0604</td><td>0.6205</td></tr><tr><td>&quot;20A-No Parking (Non-COM)&quot;</td><td>2039138</td><td>0.0601</td><td>0.6806</td></tr><tr><td>&quot;40-Fire Hydrant&quot;</td><td>1876396</td><td>0.0553</td><td>0.7359</td></tr><tr><td>&quot;19-No Stand (bus stop)&quot;</td><td>1151262</td><td>0.0339</td><td>0.7698</td></tr><tr><td>&quot;70-Reg. Sticker Missing (NYS)&quot;</td><td>946024</td><td>0.0279</td><td>0.7977</td></tr><tr><td>&quot;69-Failure to Disp Muni Recpt&quot;</td><td>938517</td><td>0.0277</td><td>0.8253</td></tr><tr><td>&quot;16-No Std (Com Veh) Com Plate&quot;</td><td>808137</td><td>0.0238</td><td>0.8492</td></tr><tr><td>&quot;31-No Stand (Com. Mtr. Zone)&quot;</td><td>613040</td><td>0.0181</td><td>0.8672</td></tr><tr><td>&quot;47-Double PKG-Midtown&quot;</td><td>467690</td><td>0.0138</td><td>0.881</td></tr><tr><td>&quot;50-Crosswalk&quot;</td><td>359907</td><td>0.0106</td><td>0.8916</td></tr><tr><td>&hellip;</td><td>&hellip;</td><td>&hellip;</td><td>&hellip;</td></tr><tr><td>&quot;53-Safety Zone&quot;</td><td>122721</td><td>0.0036</td><td>0.9636</td></tr><tr><td>&quot;13-No Stand (taxi stand)&quot;</td><td>108316</td><td>0.0032</td><td>0.9668</td></tr><tr><td>&quot;67-Blocking Ped. Ramp&quot;</td><td>104849</td><td>0.0031</td><td>0.9699</td></tr><tr><td>&quot;85-Storage-3 hour Commercial&quot;</td><td>104031</td><td>0.0031</td><td>0.9729</td></tr><tr><td>&quot;45-Traffic Lane&quot;</td><td>98392</td><td>0.0029</td><td>0.9758</td></tr><tr><td>&quot;68-Not Pkg. Comp. w Psted Sign&quot;</td><td>88125</td><td>0.0026</td><td>0.9784</td></tr><tr><td>&quot;66-Detached Trailer&quot;</td><td>71117</td><td>0.0021</td><td>0.9805</td></tr><tr><td>&quot;18-No Stand (bus lane)&quot;</td><td>66137</td><td>0.0019</td><td>0.9825</td></tr><tr><td>&quot;77-Parked Bus (exc desig area)&quot;</td><td>62459</td><td>0.0018</td><td>0.9843</td></tr><tr><td>&quot;72-Insp Stkr Mutilated&quot;</td><td>56221</td><td>0.0017</td><td>0.986</td></tr><tr><td>&quot;83-Improper Registration&quot;</td><td>54897</td><td>0.0016</td><td>0.9876</td></tr><tr><td>&quot;64-No STD Ex Con/DPL, D/S Dec&quot;</td><td>51847</td><td>0.0015</td><td>0.9891</td></tr><tr><td>&quot;61-Wrong Way&quot;</td><td>47905</td><td>0.0014</td><td>0.9905</td></tr><tr><td>&quot;60-Angle Parking&quot;</td><td>37071</td><td>0.0011</td><td>0.9916</td></tr><tr><td>&quot;23-No Parking (taxi stand)&quot;</td><td>35311</td><td>0.001</td><td>0.9927</td></tr></tbody></table></div>"
            ]
          },
          "metadata": {}
        }
      ]
    },
    {
      "cell_type": "code",
      "source": [
        "violations_dict = {\n",
        "    '21-No Parking (street clean)': 'No parking',\n",
        "    '38-Failure to Display Muni Rec': 'Unpaid',\n",
        "    '14-No Standing': 'No standing',\n",
        "    '37-Expired Muni Meter': 'Expired',\n",
        "    '20-No Parking (Com Plate)': 'No parking',\n",
        "    '46-Double Parking (Com Plate)': 'Wrong place',\n",
        "    '20A-No Parking (Non-COM)': 'No parking',\n",
        "    '40-Fire Hydrant': 'Wrong place',\n",
        "    '19-No Stand (bus stop)': 'Wrong place',\n",
        "    '70-Reg. Sticker Missing (NYS)': 'Not applicable',\n",
        "    '69-Failure to Disp Muni Recpt': 'Unpaid',\n",
        "    '16-No Std (Com Veh) Com Plate': 'No standing',\n",
        "    '31-No Stand (Com. Mtr. Zone)': 'No standing',\n",
        "    '47-Double PKG-Midtown': 'Wrong place',\n",
        "    '50-Crosswalk': 'Wrong place',\n",
        "    '17-No Stand (exc auth veh)': 'No standing',\n",
        "    '42-Exp. Muni-Mtr (Com. Mtr. Z)': 'Expired',\n",
        "    '48-Bike Lane': 'Wrong place',\n",
        "    '84-Platform lifts in low posit': 'Not applicable' ,\n",
        "    '51-Sidewalk': 'Wrong place',\n",
        "    '78-Nighttime PKG on Res Street': 'No parking',\n",
        "    '24-No Parking (exc auth veh)': 'No parking',\n",
        "    '98-Obstructing Driveway': 'Wrong place',\n",
        "    '10-No Stopping': 'No standing',\n",
        "    '82-Unaltered Commerc Vehicle': 'Not applicable',\n",
        "    '53-Safety Zone': 'Wrong place',\n",
        "    '13-No Stand (taxi stand)': 'No standing',\n",
        "    '67-Blocking Ped. Ramp': 'Wrong place',\n",
        "    '85-Storage-3 hour Commercial': 'Long-term parking',\n",
        "    '45-Traffic Lane': 'Wrong place',\n",
        "    '68-Not Pkg. Comp. w Psted Sign': 'Not applicable',\n",
        "    '66-Detached Trailer': 'Long-term parking',\n",
        "    '18-No Stand (bus lane)': 'Wrong place',\n",
        "    '77-Parked Bus (exc desig area)': 'Wrong place',\n",
        "    '72-Insp Stkr Mutilated': 'Not applicable',\n",
        "    '83-Improper Registration': 'Not applicable',\n",
        "    '64-No STD Ex Con/DPL, D/S Dec': 'No standing',\n",
        "    '61-Wrong Way': 'Not applicable',\n",
        "    '60-Angle Parking': 'Not applicable',\n",
        "    '23-No Parking (taxi stand)': 'No parking'\n",
        "}\n",
        "\n",
        "dfpl = dfpl.with_columns(pl.col('violation_description').cast(pl.Utf8).replace(violations_dict, default='other', return_dtype=pl.Categorical))\n"
      ],
      "metadata": {
        "colab": {
          "base_uri": "https://localhost:8080/"
        },
        "id": "gpHyjAYWK2z4",
        "outputId": "78ab7976-0de8-4e86-c78c-9f7f9e37ecf9"
      },
      "execution_count": null,
      "outputs": [
        {
          "output_type": "stream",
          "name": "stderr",
          "text": [
            "<ipython-input-11-ec01a7a597d8>:44: CategoricalRemappingWarning: Local categoricals have different encodings, expensive re-encoding is done to perform this merge operation. Consider using a StringCache or an Enum type if the categories are known in advance\n",
            "  dfpl = dfpl.with_columns(pl.col('violation_description').cast(pl.Utf8).replace(violations_dict, default='other', return_dtype=pl.Categorical))\n"
          ]
        }
      ]
    },
    {
      "cell_type": "markdown",
      "source": [
        "## Delete unnecessary rows"
      ],
      "metadata": {
        "id": "12pEuTNZ1dmn"
      }
    },
    {
      "cell_type": "code",
      "source": [
        "# Not applicable violations\n",
        "\n",
        "dfpl = dfpl.filter(~(pl.col('violation_description')=='Not applicable'))\n",
        "dfpl"
      ],
      "metadata": {
        "colab": {
          "base_uri": "https://localhost:8080/",
          "height": 882
        },
        "id": "-P6q5mf616tS",
        "outputId": "0c80a9ca-65ac-40f2-dad5-304eb14ba4dd"
      },
      "execution_count": null,
      "outputs": [
        {
          "output_type": "execute_result",
          "data": {
            "text/plain": [
              "shape: (32_316_346, 9)\n",
              "┌───────────┬───────────┬───────────┬───────────┬───┬───────────┬───────────┬───────────┬──────────┐\n",
              "│ plate_typ ┆ registrat ┆ vehicle_b ┆ violation ┆ … ┆ violation ┆ house_num ┆ street_na ┆ issue_da │\n",
              "│ e         ┆ ion_state ┆ ody_type  ┆ _descript ┆   ┆ _county   ┆ ber       ┆ me        ┆ tetime   │\n",
              "│ ---       ┆ ---       ┆ ---       ┆ ion       ┆   ┆ ---       ┆ ---       ┆ ---       ┆ ---      │\n",
              "│ cat       ┆ cat       ┆ cat       ┆ ---       ┆   ┆ cat       ┆ str       ┆ str       ┆ datetime │\n",
              "│           ┆           ┆           ┆ cat       ┆   ┆           ┆           ┆           ┆ [μs]     │\n",
              "╞═══════════╪═══════════╪═══════════╪═══════════╪═══╪═══════════╪═══════════╪═══════════╪══════════╡\n",
              "│ Passenger ┆ New York  ┆ Suburban  ┆ Wrong     ┆ … ┆ Manhattan ┆ 712       ┆ 175th st  ┆ 2013-08- │\n",
              "│           ┆           ┆           ┆ place     ┆   ┆           ┆           ┆           ┆ 04       │\n",
              "│           ┆           ┆           ┆           ┆   ┆           ┆           ┆           ┆ 07:52:00 │\n",
              "│ Commercia ┆ New York  ┆ Van       ┆ Wrong     ┆ … ┆ Manhattan ┆ 201       ┆ 177th st  ┆ 2013-08- │\n",
              "│ l         ┆           ┆           ┆ place     ┆   ┆           ┆           ┆           ┆ 04       │\n",
              "│           ┆           ┆           ┆           ┆   ┆           ┆           ┆           ┆ 12:40:00 │\n",
              "│ Commercia ┆ New York  ┆ Pickup    ┆ Wrong     ┆ … ┆ Manhattan ┆ 520       ┆ 163rd st  ┆ 2013-08- │\n",
              "│ l         ┆           ┆           ┆ place     ┆   ┆           ┆           ┆           ┆ 05       │\n",
              "│           ┆           ┆           ┆           ┆   ┆           ┆           ┆           ┆ 12:43:00 │\n",
              "│ Commercia ┆ New York  ┆ Van       ┆ Wrong     ┆ … ┆ Manhattan ┆ 517       ┆ 176th st  ┆ 2013-08- │\n",
              "│ l         ┆           ┆           ┆ place     ┆   ┆           ┆           ┆           ┆ 05       │\n",
              "│           ┆           ┆           ┆           ┆   ┆           ┆           ┆           ┆ 14:32:00 │\n",
              "│ …         ┆ …         ┆ …         ┆ …         ┆ … ┆ …         ┆ …         ┆ …         ┆ …        │\n",
              "│ other     ┆ New York  ┆ Sedan     ┆ Wrong     ┆ … ┆ Queens    ┆ null      ┆ terminal  ┆ 2016-06- │\n",
              "│           ┆           ┆           ┆ place     ┆   ┆           ┆           ┆ 7th       ┆ 30       │\n",
              "│           ┆           ┆           ┆           ┆   ┆           ┆           ┆ arrivals  ┆ 04:12:00 │\n",
              "│ Passenger ┆ New York  ┆ Suburban  ┆ No        ┆ … ┆ Queens    ┆ null      ┆ terminal  ┆ 2016-06- │\n",
              "│           ┆           ┆           ┆ standing  ┆   ┆           ┆           ┆ 8th       ┆ 30       │\n",
              "│           ┆           ┆           ┆           ┆   ┆           ┆           ┆ arrivals  ┆ 06:15:00 │\n",
              "│ Passenger ┆ New York  ┆ Suburban  ┆ No        ┆ … ┆ Bronx     ┆ 1489      ┆ ave       ┆ 2016-06- │\n",
              "│           ┆           ┆           ┆ standing  ┆   ┆           ┆           ┆           ┆ 30       │\n",
              "│           ┆           ┆           ┆           ┆   ┆           ┆           ┆           ┆ 18:45:00 │\n",
              "│ Passenger ┆ New York  ┆ Suburban  ┆ Wrong     ┆ … ┆ Bronx     ┆ 1551      ┆ unionport ┆ 2016-06- │\n",
              "│           ┆           ┆           ┆ place     ┆   ┆           ┆           ┆ rd        ┆ 30       │\n",
              "│           ┆           ┆           ┆           ┆   ┆           ┆           ┆           ┆ 02:17:00 │\n",
              "└───────────┴───────────┴───────────┴───────────┴───┴───────────┴───────────┴───────────┴──────────┘"
            ],
            "text/html": [
              "<div><style>\n",
              ".dataframe > thead > tr,\n",
              ".dataframe > tbody > tr {\n",
              "  text-align: right;\n",
              "  white-space: pre-wrap;\n",
              "}\n",
              "</style>\n",
              "<small>shape: (32_316_346, 9)</small><table border=\"1\" class=\"dataframe\"><thead><tr><th>plate_type</th><th>registration_state</th><th>vehicle_body_type</th><th>violation_description</th><th>violation_precinct</th><th>violation_county</th><th>house_number</th><th>street_name</th><th>issue_datetime</th></tr><tr><td>cat</td><td>cat</td><td>cat</td><td>cat</td><td>u16</td><td>cat</td><td>str</td><td>str</td><td>datetime[μs]</td></tr></thead><tbody><tr><td>&quot;Passenger&quot;</td><td>&quot;New York&quot;</td><td>&quot;Suburban&quot;</td><td>&quot;Wrong place&quot;</td><td>33</td><td>&quot;Manhattan&quot;</td><td>&quot;712&quot;</td><td>&quot;175th st&quot;</td><td>2013-08-04 07:52:00</td></tr><tr><td>&quot;Commercial&quot;</td><td>&quot;New York&quot;</td><td>&quot;Van&quot;</td><td>&quot;Wrong place&quot;</td><td>33</td><td>&quot;Manhattan&quot;</td><td>&quot;201&quot;</td><td>&quot;177th st&quot;</td><td>2013-08-04 12:40:00</td></tr><tr><td>&quot;Commercial&quot;</td><td>&quot;New York&quot;</td><td>&quot;Pickup&quot;</td><td>&quot;Wrong place&quot;</td><td>33</td><td>&quot;Manhattan&quot;</td><td>&quot;520&quot;</td><td>&quot;163rd st&quot;</td><td>2013-08-05 12:43:00</td></tr><tr><td>&quot;Commercial&quot;</td><td>&quot;New York&quot;</td><td>&quot;Van&quot;</td><td>&quot;Wrong place&quot;</td><td>33</td><td>&quot;Manhattan&quot;</td><td>&quot;517&quot;</td><td>&quot;176th st&quot;</td><td>2013-08-05 14:32:00</td></tr><tr><td>&quot;Passenger&quot;</td><td>&quot;New Jersey&quot;</td><td>&quot;Pickup&quot;</td><td>&quot;No standing&quot;</td><td>33</td><td>&quot;Manhattan&quot;</td><td>&quot;525&quot;</td><td>&quot;175th st&quot;</td><td>2013-08-11 18:17:00</td></tr><tr><td>&quot;Passenger&quot;</td><td>&quot;New Jersey&quot;</td><td>&quot;Delivery Truck…</td><td>&quot;No parking&quot;</td><td>88</td><td>&quot;Brooklyn&quot;</td><td>&quot;100&quot;</td><td>&quot;nportland ave&quot;</td><td>2013-08-07 04:25:00</td></tr><tr><td>&quot;Passenger&quot;</td><td>&quot;New York&quot;</td><td>&quot;Sedan&quot;</td><td>&quot;No parking&quot;</td><td>88</td><td>&quot;Brooklyn&quot;</td><td>&quot;100&quot;</td><td>&quot;nportland ave&quot;</td><td>2013-08-07 04:37:00</td></tr><tr><td>&quot;Passenger&quot;</td><td>&quot;New Jersey&quot;</td><td>&quot;Sedan&quot;</td><td>&quot;No parking&quot;</td><td>79</td><td>&quot;Brooklyn&quot;</td><td>null</td><td>&quot;760th broadway…</td><td>2013-07-18 08:39:00</td></tr><tr><td>&quot;Passenger&quot;</td><td>&quot;New York&quot;</td><td>&quot;Sedan&quot;</td><td>&quot;No parking&quot;</td><td>79</td><td>&quot;Brooklyn&quot;</td><td>null</td><td>&quot;760th broadway…</td><td>2013-07-18 08:45:00</td></tr><tr><td>&quot;Passenger&quot;</td><td>&quot;New York&quot;</td><td>&quot;Sedan&quot;</td><td>&quot;No parking&quot;</td><td>79</td><td>&quot;Brooklyn&quot;</td><td>null</td><td>&quot;760th broadway…</td><td>2013-07-18 09:07:00</td></tr><tr><td>&quot;Passenger&quot;</td><td>&quot;New York&quot;</td><td>&quot;Sedan&quot;</td><td>&quot;No parking&quot;</td><td>79</td><td>&quot;Brooklyn&quot;</td><td>&quot;760&quot;</td><td>&quot;bwy&quot;</td><td>2013-08-12 18:56:00</td></tr><tr><td>&quot;Commercial&quot;</td><td>&quot;New York&quot;</td><td>&quot;Van&quot;</td><td>&quot;No standing&quot;</td><td>13</td><td>&quot;Manhattan&quot;</td><td>&quot;59&quot;</td><td>&quot;21st st&quot;</td><td>2013-07-05 23:45:00</td></tr><tr><td>&hellip;</td><td>&hellip;</td><td>&hellip;</td><td>&hellip;</td><td>&hellip;</td><td>&hellip;</td><td>&hellip;</td><td>&hellip;</td><td>&hellip;</td></tr><tr><td>&quot;Passenger&quot;</td><td>&quot;New York&quot;</td><td>&quot;Sedan&quot;</td><td>&quot;No parking&quot;</td><td>47</td><td>&quot;Bronx&quot;</td><td>&quot;678&quot;</td><td>&quot;223rd st&quot;</td><td>2016-06-30 07:50:00</td></tr><tr><td>&quot;Passenger&quot;</td><td>&quot;New York&quot;</td><td>&quot;Suburban&quot;</td><td>&quot;No parking&quot;</td><td>47</td><td>&quot;Bronx&quot;</td><td>&quot;4234&quot;</td><td>&quot;bronx blvd&quot;</td><td>2016-06-30 07:40:00</td></tr><tr><td>&quot;Passenger&quot;</td><td>&quot;New York&quot;</td><td>&quot;Suburban&quot;</td><td>&quot;Wrong place&quot;</td><td>88</td><td>&quot;Brooklyn&quot;</td><td>&quot;36&quot;</td><td>&quot;st edwards st&quot;</td><td>2016-06-30 04:35:00</td></tr><tr><td>&quot;Omnibus&quot;</td><td>&quot;New York&quot;</td><td>&quot;Sedan&quot;</td><td>&quot;No standing&quot;</td><td>113</td><td>&quot;Queens&quot;</td><td>null</td><td>&quot;terminal 8th o…</td><td>2016-06-30 14:50:00</td></tr><tr><td>&quot;Omnibus&quot;</td><td>&quot;New York&quot;</td><td>&quot;Suburban&quot;</td><td>&quot;Wrong place&quot;</td><td>113</td><td>&quot;Queens&quot;</td><td>null</td><td>&quot;terminal 2nd b…</td><td>2016-06-30 16:30:00</td></tr><tr><td>&quot;Omnibus&quot;</td><td>&quot;New York&quot;</td><td>&quot;Suburban&quot;</td><td>&quot;No standing&quot;</td><td>113</td><td>&quot;Queens&quot;</td><td>null</td><td>&quot;terminal 1st a…</td><td>2016-06-30 15:03:00</td></tr><tr><td>&quot;Omnibus&quot;</td><td>&quot;New York&quot;</td><td>&quot;Van&quot;</td><td>&quot;No standing&quot;</td><td>113</td><td>&quot;Queens&quot;</td><td>null</td><td>&quot;terminal 7th a…</td><td>2016-06-30 14:50:00</td></tr><tr><td>&quot;Passenger&quot;</td><td>&quot;New Jersey&quot;</td><td>&quot;Suburban&quot;</td><td>&quot;No standing&quot;</td><td>113</td><td>&quot;Queens&quot;</td><td>null</td><td>&quot;terminal 8th o…</td><td>2016-06-30 06:20:00</td></tr><tr><td>&quot;other&quot;</td><td>&quot;New York&quot;</td><td>&quot;Sedan&quot;</td><td>&quot;Wrong place&quot;</td><td>113</td><td>&quot;Queens&quot;</td><td>null</td><td>&quot;terminal 7th a…</td><td>2016-06-30 04:12:00</td></tr><tr><td>&quot;Passenger&quot;</td><td>&quot;New York&quot;</td><td>&quot;Suburban&quot;</td><td>&quot;No standing&quot;</td><td>113</td><td>&quot;Queens&quot;</td><td>null</td><td>&quot;terminal 8th a…</td><td>2016-06-30 06:15:00</td></tr><tr><td>&quot;Passenger&quot;</td><td>&quot;New York&quot;</td><td>&quot;Suburban&quot;</td><td>&quot;No standing&quot;</td><td>43</td><td>&quot;Bronx&quot;</td><td>&quot;1489&quot;</td><td>&quot;ave&quot;</td><td>2016-06-30 18:45:00</td></tr><tr><td>&quot;Passenger&quot;</td><td>&quot;New York&quot;</td><td>&quot;Suburban&quot;</td><td>&quot;Wrong place&quot;</td><td>43</td><td>&quot;Bronx&quot;</td><td>&quot;1551&quot;</td><td>&quot;unionport rd&quot;</td><td>2016-06-30 02:17:00</td></tr></tbody></table></div>"
            ]
          },
          "metadata": {},
          "execution_count": 12
        }
      ]
    },
    {
      "cell_type": "code",
      "source": [
        "print('Est. memory_usage, mb: ', int(dfpl.estimated_size()/ 1024 / 1024) )\n",
        "dfpl.head(5)"
      ],
      "metadata": {
        "colab": {
          "base_uri": "https://localhost:8080/",
          "height": 272
        },
        "id": "SUzDUmUvdl6C",
        "outputId": "b521889e-a29b-4e32-cf5a-773458c3db95"
      },
      "execution_count": null,
      "outputs": [
        {
          "output_type": "stream",
          "name": "stdout",
          "text": [
            "Est. memory_usage, mb:  1800\n"
          ]
        },
        {
          "output_type": "execute_result",
          "data": {
            "text/plain": [
              "shape: (5, 9)\n",
              "┌───────────┬───────────┬───────────┬───────────┬───┬───────────┬───────────┬───────────┬──────────┐\n",
              "│ plate_typ ┆ registrat ┆ vehicle_b ┆ violation ┆ … ┆ violation ┆ house_num ┆ street_na ┆ issue_da │\n",
              "│ e         ┆ ion_state ┆ ody_type  ┆ _descript ┆   ┆ _county   ┆ ber       ┆ me        ┆ tetime   │\n",
              "│ ---       ┆ ---       ┆ ---       ┆ ion       ┆   ┆ ---       ┆ ---       ┆ ---       ┆ ---      │\n",
              "│ cat       ┆ cat       ┆ cat       ┆ ---       ┆   ┆ cat       ┆ str       ┆ str       ┆ datetime │\n",
              "│           ┆           ┆           ┆ cat       ┆   ┆           ┆           ┆           ┆ [μs]     │\n",
              "╞═══════════╪═══════════╪═══════════╪═══════════╪═══╪═══════════╪═══════════╪═══════════╪══════════╡\n",
              "│ Passenger ┆ New York  ┆ Suburban  ┆ Wrong     ┆ … ┆ Manhattan ┆ 712       ┆ 175th st  ┆ 2013-08- │\n",
              "│           ┆           ┆           ┆ place     ┆   ┆           ┆           ┆           ┆ 04       │\n",
              "│           ┆           ┆           ┆           ┆   ┆           ┆           ┆           ┆ 07:52:00 │\n",
              "│ Commercia ┆ New York  ┆ Van       ┆ Wrong     ┆ … ┆ Manhattan ┆ 201       ┆ 177th st  ┆ 2013-08- │\n",
              "│ l         ┆           ┆           ┆ place     ┆   ┆           ┆           ┆           ┆ 04       │\n",
              "│           ┆           ┆           ┆           ┆   ┆           ┆           ┆           ┆ 12:40:00 │\n",
              "│ Commercia ┆ New York  ┆ Pickup    ┆ Wrong     ┆ … ┆ Manhattan ┆ 520       ┆ 163rd st  ┆ 2013-08- │\n",
              "│ l         ┆           ┆           ┆ place     ┆   ┆           ┆           ┆           ┆ 05       │\n",
              "│           ┆           ┆           ┆           ┆   ┆           ┆           ┆           ┆ 12:43:00 │\n",
              "│ Commercia ┆ New York  ┆ Van       ┆ Wrong     ┆ … ┆ Manhattan ┆ 517       ┆ 176th st  ┆ 2013-08- │\n",
              "│ l         ┆           ┆           ┆ place     ┆   ┆           ┆           ┆           ┆ 05       │\n",
              "│           ┆           ┆           ┆           ┆   ┆           ┆           ┆           ┆ 14:32:00 │\n",
              "│ Passenger ┆ New       ┆ Pickup    ┆ No        ┆ … ┆ Manhattan ┆ 525       ┆ 175th st  ┆ 2013-08- │\n",
              "│           ┆ Jersey    ┆           ┆ standing  ┆   ┆           ┆           ┆           ┆ 11       │\n",
              "│           ┆           ┆           ┆           ┆   ┆           ┆           ┆           ┆ 18:17:00 │\n",
              "└───────────┴───────────┴───────────┴───────────┴───┴───────────┴───────────┴───────────┴──────────┘"
            ],
            "text/html": [
              "<div><style>\n",
              ".dataframe > thead > tr,\n",
              ".dataframe > tbody > tr {\n",
              "  text-align: right;\n",
              "  white-space: pre-wrap;\n",
              "}\n",
              "</style>\n",
              "<small>shape: (5, 9)</small><table border=\"1\" class=\"dataframe\"><thead><tr><th>plate_type</th><th>registration_state</th><th>vehicle_body_type</th><th>violation_description</th><th>violation_precinct</th><th>violation_county</th><th>house_number</th><th>street_name</th><th>issue_datetime</th></tr><tr><td>cat</td><td>cat</td><td>cat</td><td>cat</td><td>u16</td><td>cat</td><td>str</td><td>str</td><td>datetime[μs]</td></tr></thead><tbody><tr><td>&quot;Passenger&quot;</td><td>&quot;New York&quot;</td><td>&quot;Suburban&quot;</td><td>&quot;Wrong place&quot;</td><td>33</td><td>&quot;Manhattan&quot;</td><td>&quot;712&quot;</td><td>&quot;175th st&quot;</td><td>2013-08-04 07:52:00</td></tr><tr><td>&quot;Commercial&quot;</td><td>&quot;New York&quot;</td><td>&quot;Van&quot;</td><td>&quot;Wrong place&quot;</td><td>33</td><td>&quot;Manhattan&quot;</td><td>&quot;201&quot;</td><td>&quot;177th st&quot;</td><td>2013-08-04 12:40:00</td></tr><tr><td>&quot;Commercial&quot;</td><td>&quot;New York&quot;</td><td>&quot;Pickup&quot;</td><td>&quot;Wrong place&quot;</td><td>33</td><td>&quot;Manhattan&quot;</td><td>&quot;520&quot;</td><td>&quot;163rd st&quot;</td><td>2013-08-05 12:43:00</td></tr><tr><td>&quot;Commercial&quot;</td><td>&quot;New York&quot;</td><td>&quot;Van&quot;</td><td>&quot;Wrong place&quot;</td><td>33</td><td>&quot;Manhattan&quot;</td><td>&quot;517&quot;</td><td>&quot;176th st&quot;</td><td>2013-08-05 14:32:00</td></tr><tr><td>&quot;Passenger&quot;</td><td>&quot;New Jersey&quot;</td><td>&quot;Pickup&quot;</td><td>&quot;No standing&quot;</td><td>33</td><td>&quot;Manhattan&quot;</td><td>&quot;525&quot;</td><td>&quot;175th st&quot;</td><td>2013-08-11 18:17:00</td></tr></tbody></table></div>"
            ]
          },
          "metadata": {},
          "execution_count": 13
        }
      ]
    },
    {
      "cell_type": "markdown",
      "source": [
        "## Check precincts for validity"
      ],
      "metadata": {
        "id": "iL5grRyyeqMw"
      }
    },
    {
      "cell_type": "code",
      "source": [
        "precinct_geo = 'https://data.cityofnewyork.us/api/geospatial/78dh-3ptz?method=export&format=GeoJSON'\n",
        "\n",
        "with urlopen(precinct_geo) as response:\n",
        "    precincts = json.load(response)"
      ],
      "metadata": {
        "id": "LxjoQmbheZxP"
      },
      "execution_count": null,
      "outputs": []
    },
    {
      "cell_type": "code",
      "source": [
        "valid_precincts=[]\n",
        "for i in range(len(precincts['features'])):\n",
        "  valid_precincts.append(int(precincts['features'][i]['properties']['precinct']))\n",
        "\n",
        "print(valid_precincts)"
      ],
      "metadata": {
        "colab": {
          "base_uri": "https://localhost:8080/"
        },
        "id": "KmS5eSWFe14a",
        "outputId": "9b6b0179-38cd-4153-90aa-6409af5e4547"
      },
      "execution_count": null,
      "outputs": [
        {
          "output_type": "stream",
          "name": "stdout",
          "text": [
            "[1, 5, 6, 7, 9, 10, 13, 14, 17, 18, 19, 20, 22, 23, 24, 25, 26, 28, 30, 32, 33, 34, 40, 41, 42, 43, 44, 45, 46, 47, 48, 49, 50, 52, 60, 61, 62, 63, 66, 67, 68, 69, 70, 71, 72, 73, 75, 76, 77, 78, 79, 81, 83, 84, 88, 90, 94, 100, 101, 102, 103, 104, 105, 106, 107, 108, 109, 110, 111, 112, 113, 114, 115, 120, 121, 122, 123]\n"
          ]
        }
      ]
    },
    {
      "cell_type": "code",
      "source": [
        "dfpl = dfpl.filter(pl.col('violation_precinct').is_in(valid_precincts))"
      ],
      "metadata": {
        "id": "21w8-PtJe23a"
      },
      "execution_count": null,
      "outputs": []
    },
    {
      "cell_type": "code",
      "source": [
        "print('Est. memory_usage, mb: ', int(dfpl.estimated_size()/ 1024 / 1024) )\n",
        "dfpl.head(5)"
      ],
      "metadata": {
        "colab": {
          "base_uri": "https://localhost:8080/",
          "height": 272
        },
        "id": "GcvOvMq_f8-G",
        "outputId": "2e11678b-14c9-43c2-e4c9-7a857608191a"
      },
      "execution_count": null,
      "outputs": [
        {
          "output_type": "stream",
          "name": "stdout",
          "text": [
            "Est. memory_usage, mb:  1800\n"
          ]
        },
        {
          "output_type": "execute_result",
          "data": {
            "text/plain": [
              "shape: (5, 9)\n",
              "┌───────────┬───────────┬───────────┬───────────┬───┬───────────┬───────────┬───────────┬──────────┐\n",
              "│ plate_typ ┆ registrat ┆ vehicle_b ┆ violation ┆ … ┆ violation ┆ house_num ┆ street_na ┆ issue_da │\n",
              "│ e         ┆ ion_state ┆ ody_type  ┆ _descript ┆   ┆ _county   ┆ ber       ┆ me        ┆ tetime   │\n",
              "│ ---       ┆ ---       ┆ ---       ┆ ion       ┆   ┆ ---       ┆ ---       ┆ ---       ┆ ---      │\n",
              "│ cat       ┆ cat       ┆ cat       ┆ ---       ┆   ┆ cat       ┆ str       ┆ str       ┆ datetime │\n",
              "│           ┆           ┆           ┆ cat       ┆   ┆           ┆           ┆           ┆ [μs]     │\n",
              "╞═══════════╪═══════════╪═══════════╪═══════════╪═══╪═══════════╪═══════════╪═══════════╪══════════╡\n",
              "│ Passenger ┆ New York  ┆ Suburban  ┆ Wrong     ┆ … ┆ Manhattan ┆ 712       ┆ 175th st  ┆ 2013-08- │\n",
              "│           ┆           ┆           ┆ place     ┆   ┆           ┆           ┆           ┆ 04       │\n",
              "│           ┆           ┆           ┆           ┆   ┆           ┆           ┆           ┆ 07:52:00 │\n",
              "│ Commercia ┆ New York  ┆ Van       ┆ Wrong     ┆ … ┆ Manhattan ┆ 201       ┆ 177th st  ┆ 2013-08- │\n",
              "│ l         ┆           ┆           ┆ place     ┆   ┆           ┆           ┆           ┆ 04       │\n",
              "│           ┆           ┆           ┆           ┆   ┆           ┆           ┆           ┆ 12:40:00 │\n",
              "│ Commercia ┆ New York  ┆ Pickup    ┆ Wrong     ┆ … ┆ Manhattan ┆ 520       ┆ 163rd st  ┆ 2013-08- │\n",
              "│ l         ┆           ┆           ┆ place     ┆   ┆           ┆           ┆           ┆ 05       │\n",
              "│           ┆           ┆           ┆           ┆   ┆           ┆           ┆           ┆ 12:43:00 │\n",
              "│ Commercia ┆ New York  ┆ Van       ┆ Wrong     ┆ … ┆ Manhattan ┆ 517       ┆ 176th st  ┆ 2013-08- │\n",
              "│ l         ┆           ┆           ┆ place     ┆   ┆           ┆           ┆           ┆ 05       │\n",
              "│           ┆           ┆           ┆           ┆   ┆           ┆           ┆           ┆ 14:32:00 │\n",
              "│ Passenger ┆ New       ┆ Pickup    ┆ No        ┆ … ┆ Manhattan ┆ 525       ┆ 175th st  ┆ 2013-08- │\n",
              "│           ┆ Jersey    ┆           ┆ standing  ┆   ┆           ┆           ┆           ┆ 11       │\n",
              "│           ┆           ┆           ┆           ┆   ┆           ┆           ┆           ┆ 18:17:00 │\n",
              "└───────────┴───────────┴───────────┴───────────┴───┴───────────┴───────────┴───────────┴──────────┘"
            ],
            "text/html": [
              "<div><style>\n",
              ".dataframe > thead > tr,\n",
              ".dataframe > tbody > tr {\n",
              "  text-align: right;\n",
              "  white-space: pre-wrap;\n",
              "}\n",
              "</style>\n",
              "<small>shape: (5, 9)</small><table border=\"1\" class=\"dataframe\"><thead><tr><th>plate_type</th><th>registration_state</th><th>vehicle_body_type</th><th>violation_description</th><th>violation_precinct</th><th>violation_county</th><th>house_number</th><th>street_name</th><th>issue_datetime</th></tr><tr><td>cat</td><td>cat</td><td>cat</td><td>cat</td><td>u16</td><td>cat</td><td>str</td><td>str</td><td>datetime[μs]</td></tr></thead><tbody><tr><td>&quot;Passenger&quot;</td><td>&quot;New York&quot;</td><td>&quot;Suburban&quot;</td><td>&quot;Wrong place&quot;</td><td>33</td><td>&quot;Manhattan&quot;</td><td>&quot;712&quot;</td><td>&quot;175th st&quot;</td><td>2013-08-04 07:52:00</td></tr><tr><td>&quot;Commercial&quot;</td><td>&quot;New York&quot;</td><td>&quot;Van&quot;</td><td>&quot;Wrong place&quot;</td><td>33</td><td>&quot;Manhattan&quot;</td><td>&quot;201&quot;</td><td>&quot;177th st&quot;</td><td>2013-08-04 12:40:00</td></tr><tr><td>&quot;Commercial&quot;</td><td>&quot;New York&quot;</td><td>&quot;Pickup&quot;</td><td>&quot;Wrong place&quot;</td><td>33</td><td>&quot;Manhattan&quot;</td><td>&quot;520&quot;</td><td>&quot;163rd st&quot;</td><td>2013-08-05 12:43:00</td></tr><tr><td>&quot;Commercial&quot;</td><td>&quot;New York&quot;</td><td>&quot;Van&quot;</td><td>&quot;Wrong place&quot;</td><td>33</td><td>&quot;Manhattan&quot;</td><td>&quot;517&quot;</td><td>&quot;176th st&quot;</td><td>2013-08-05 14:32:00</td></tr><tr><td>&quot;Passenger&quot;</td><td>&quot;New Jersey&quot;</td><td>&quot;Pickup&quot;</td><td>&quot;No standing&quot;</td><td>33</td><td>&quot;Manhattan&quot;</td><td>&quot;525&quot;</td><td>&quot;175th st&quot;</td><td>2013-08-11 18:17:00</td></tr></tbody></table></div>"
            ]
          },
          "metadata": {},
          "execution_count": 17
        }
      ]
    },
    {
      "cell_type": "markdown",
      "source": [
        "## Top `street_name` in every precinct"
      ],
      "metadata": {
        "id": "VBpKa3ici3PE"
      }
    },
    {
      "cell_type": "code",
      "source": [
        "top_streets = sum( # to convert nested list into flat one\n",
        "    dfpl.group_by(['violation_precinct']).agg(pl.col('street_name').value_counts(sort=True).head(15))['street_name'].to_list(),\n",
        "[])\n",
        "\n",
        "\n",
        "top_streets_list = []\n",
        "for street in top_streets:\n",
        "    if street['street_name'] not in top_streets_list:\n",
        "        top_streets_list.append(street['street_name'])\n",
        "\n",
        "top_streets_list"
      ],
      "metadata": {
        "colab": {
          "base_uri": "https://localhost:8080/"
        },
        "id": "2S33kt5DgtAs",
        "outputId": "98976ae3-6445-4620-a355-f581a9d899aa"
      },
      "execution_count": null,
      "outputs": [
        {
          "output_type": "execute_result",
          "data": {
            "text/plain": [
              "['broadway',\n",
              " 'pearl st',\n",
              " 'church st',\n",
              " 'greenwich st',\n",
              " 'warren st',\n",
              " 'fulton st',\n",
              " 'front st',\n",
              " 'nassau st',\n",
              " 'murray st',\n",
              " 'b rd st',\n",
              " 'water st',\n",
              " 'liberty st',\n",
              " 'william st',\n",
              " 'pine st',\n",
              " 'mercer st',\n",
              " '3rd ave',\n",
              " 'madison ave',\n",
              " 'lexington ave',\n",
              " '1st ave',\n",
              " '2nd ave',\n",
              " 'york ave',\n",
              " '86th st',\n",
              " '5th ave',\n",
              " 'park ave',\n",
              " '61st st',\n",
              " '71st st',\n",
              " '70th st',\n",
              " '87th st',\n",
              " '72nd st',\n",
              " '63rd st',\n",
              " 'bay st',\n",
              " 'bard ave',\n",
              " 'victory blvd',\n",
              " 'st marks pl',\n",
              " 'forest ave',\n",
              " 'central ave',\n",
              " 'castleton ave',\n",
              " 'othersee comments',\n",
              " 'hamilton ave',\n",
              " 'van duzer st',\n",
              " 'slosson ter',\n",
              " 'canal st',\n",
              " 'st pauls ave',\n",
              " 'ervelt ave',\n",
              " 'arthur ave',\n",
              " 'tremont ave',\n",
              " '187th st',\n",
              " 'hughes ave',\n",
              " 'webster ave',\n",
              " 'belmont ave',\n",
              " 'croton ave',\n",
              " 'belmont lot',\n",
              " 'prospect ave',\n",
              " 'hoffman st',\n",
              " 'southern blvd',\n",
              " '179th st',\n",
              " '178th st',\n",
              " 'washington ave',\n",
              " 'chester ave',\n",
              " 'crosby ave',\n",
              " 'buhre ave',\n",
              " 'baychester ave',\n",
              " 'chester sq',\n",
              " 'middletown rd',\n",
              " 'hutchinson river parky',\n",
              " 'edison ave',\n",
              " 'hobart ave',\n",
              " 'dreiser loop',\n",
              " 'bruckner blvd',\n",
              " 'zereg ave',\n",
              " 'williamsbridgerd',\n",
              " 'commerce ave',\n",
              " 'jamaica ave',\n",
              " '101st ave',\n",
              " 'queens blvd',\n",
              " 'metropolitan ave',\n",
              " 'lefferts blvd',\n",
              " 'atlantic ave',\n",
              " 'austin st',\n",
              " '89th ave',\n",
              " 'kew gardens rd',\n",
              " '83rd ave',\n",
              " '82nd rd',\n",
              " '91st ave',\n",
              " '85th ave',\n",
              " 'hillside ave',\n",
              " '116th st',\n",
              " 'arthur kill rd',\n",
              " 'richmond ave',\n",
              " 'wainwright ave',\n",
              " 'huguenot ave',\n",
              " 'mosely ave',\n",
              " 'amboy rd',\n",
              " 'veterans rd w',\n",
              " 'ellis st',\n",
              " 'veterans rd',\n",
              " 'yetman ave',\n",
              " 'arden ave',\n",
              " 'woodrow rd',\n",
              " 'correll ave',\n",
              " 'hylan blvd',\n",
              " 'luten ave',\n",
              " 'jerome ave',\n",
              " 'bainbridge ave',\n",
              " 'gun hill rd',\n",
              " 'kingsbridgerd',\n",
              " 'grand concourse',\n",
              " 'decatur ave',\n",
              " '204th st',\n",
              " 'valentine ave',\n",
              " 'mosholu parky',\n",
              " 'bedford park blvd',\n",
              " 'dekalb ave',\n",
              " 'fordham rd',\n",
              " 'university ave',\n",
              " 'crescententon ave',\n",
              " '8th ave',\n",
              " '4th ave',\n",
              " '7th ave',\n",
              " '6th ave',\n",
              " '52nd st',\n",
              " '50th st',\n",
              " '53rd st',\n",
              " '54th st',\n",
              " '55th st',\n",
              " '56th st',\n",
              " '58th st',\n",
              " '49th st',\n",
              " 'livingston st',\n",
              " 'court st',\n",
              " 'montague st',\n",
              " 'henry st',\n",
              " 'joralemon st',\n",
              " 'remsen st',\n",
              " 'clinton st',\n",
              " 'schermerhorn st',\n",
              " 'willoughby st',\n",
              " 'smith st',\n",
              " 'jay st',\n",
              " 'pacific st',\n",
              " 'state st',\n",
              " 'st nicholas ave',\n",
              " 'dyckman st',\n",
              " '181st st',\n",
              " 'sherman ave',\n",
              " '207th st',\n",
              " 'audubon ave',\n",
              " 'ft washington ave',\n",
              " '10th ave',\n",
              " '180th st',\n",
              " 'seaman ave',\n",
              " 'amsterdam ave',\n",
              " 'wadsworth ave',\n",
              " 'nagle ave',\n",
              " 'brighton beach ave',\n",
              " 'surf ave',\n",
              " 'coney island ave',\n",
              " 'ocean parky',\n",
              " 'stillwell ave',\n",
              " '15th st',\n",
              " 'brighton 6th st',\n",
              " 'neptune ave',\n",
              " 'neptun ave',\n",
              " 'brighton 4th st',\n",
              " 'brighton 7th st',\n",
              " '8th st',\n",
              " 'brighton 11th st',\n",
              " '10th st',\n",
              " 'orchard st',\n",
              " 'ludlow st',\n",
              " 'essex st',\n",
              " 'grand st',\n",
              " 'allen st',\n",
              " 'rivington st',\n",
              " 'stanton st',\n",
              " 'delancey st',\n",
              " 'houston st',\n",
              " 'madison st',\n",
              " 'pike st',\n",
              " 'springfield blvd',\n",
              " 'merrick blvd',\n",
              " '149th ave',\n",
              " 'union tparke',\n",
              " '76th ave',\n",
              " 'linden blvd',\n",
              " '217th st',\n",
              " '243rd st',\n",
              " '218th st',\n",
              " '219th st',\n",
              " '148th ave',\n",
              " 'francis lewis blvd',\n",
              " 'hempstead ave',\n",
              " 'burnside ave',\n",
              " 'morris ave',\n",
              " '188th st',\n",
              " 'walton ave',\n",
              " 'tiebout ave',\n",
              " 'davedson ave',\n",
              " '183rd st',\n",
              " 'kings hwy',\n",
              " 'ave u',\n",
              " 'emmons ave',\n",
              " 'nostand ave',\n",
              " 'ocean ave',\n",
              " '12th st',\n",
              " '13th st',\n",
              " '17th st',\n",
              " '16th st',\n",
              " '14th st',\n",
              " 'ave z',\n",
              " '18th st',\n",
              " 'sunnyside lot',\n",
              " 'roosevelt ave',\n",
              " 'greenpoint ave',\n",
              " '43rd ave',\n",
              " 'jackson ave',\n",
              " '47th ave',\n",
              " 'borden ave',\n",
              " 'vernon blvd',\n",
              " '44th dr',\n",
              " 'skillman ave',\n",
              " '48th ave',\n",
              " 'center blvd',\n",
              " '46th st',\n",
              " '45th st',\n",
              " '125th st',\n",
              " 'frederick douglass b',\n",
              " 'lenox ave',\n",
              " '124th st',\n",
              " '126th st',\n",
              " 'adam clayton powell',\n",
              " '119th st',\n",
              " '118th st',\n",
              " '120th st',\n",
              " '112th st',\n",
              " '117th st',\n",
              " '115th st',\n",
              " '122nd st',\n",
              " '13th ave',\n",
              " 'new utrecht ave',\n",
              " '18th ave',\n",
              " '14th ave',\n",
              " '16th ave',\n",
              " 'mcdonald ave',\n",
              " '48th st',\n",
              " '38th st',\n",
              " '43rd st',\n",
              " '39th st',\n",
              " '51st st',\n",
              " 'castle hill ave',\n",
              " 'unionport rd',\n",
              " 'ave',\n",
              " 'metropolitan oval',\n",
              " 'white plains rd',\n",
              " 'morrison ave',\n",
              " 'boynton ave',\n",
              " 'starling ave',\n",
              " 'taylor ave',\n",
              " 'leland ave',\n",
              " 'statford ave',\n",
              " 'watson ave',\n",
              " 'putnam ave',\n",
              " 'macon st',\n",
              " 'jefferson ave',\n",
              " 'hancock st',\n",
              " 'decatur st',\n",
              " 'stuyvesant ave',\n",
              " 'monroe st',\n",
              " 'chauncey st',\n",
              " 'halsey st',\n",
              " 'bainbridge st',\n",
              " 'lewis ave',\n",
              " 'ave a',\n",
              " '4th st',\n",
              " '7th st',\n",
              " '6th st',\n",
              " '11th st',\n",
              " '9th st',\n",
              " '3rd st',\n",
              " 'president st',\n",
              " 'prospect park',\n",
              " 'carroll st',\n",
              " 'union st',\n",
              " '23rd st',\n",
              " '26th st',\n",
              " '27th st',\n",
              " '28th st',\n",
              " '22nd st',\n",
              " '25th st',\n",
              " '24th st',\n",
              " '9th ave',\n",
              " '11th ave',\n",
              " 'rock parky',\n",
              " 'ave l',\n",
              " 'foster ave',\n",
              " 'flatlands ave',\n",
              " 'farragut rd',\n",
              " '102nd st',\n",
              " '95th st',\n",
              " '96th st',\n",
              " 'glenwood rd',\n",
              " '92nd st',\n",
              " '83rd st',\n",
              " '99th st',\n",
              " '82nd st',\n",
              " '94th st',\n",
              " 'boston rd',\n",
              " 'fulton ave',\n",
              " 'franklin ave',\n",
              " '169th st',\n",
              " 'union ave',\n",
              " 'tinton ave',\n",
              " '170th st',\n",
              " '168th st',\n",
              " 'jennings st',\n",
              " '166th st',\n",
              " '149th st',\n",
              " '138th st',\n",
              " 'courtlandt ave',\n",
              " 'melrose ave',\n",
              " 'brook ave',\n",
              " 'st anns ave',\n",
              " '151st st',\n",
              " 'willis ave',\n",
              " '152nd st',\n",
              " 'riverside dr',\n",
              " '165th st',\n",
              " 'fort washington ave',\n",
              " 'h ave ave',\n",
              " '164th st',\n",
              " '171st st',\n",
              " '177th st',\n",
              " 'steinway st',\n",
              " '30th ave',\n",
              " '31st st',\n",
              " '33rd st',\n",
              " '31st ave',\n",
              " 'ditmars blvd',\n",
              " '37th st',\n",
              " '35th st',\n",
              " '41st st',\n",
              " '36th st',\n",
              " '29th st',\n",
              " '34th st',\n",
              " '30th st',\n",
              " 'liberty ave',\n",
              " 'stanley ave',\n",
              " 'pennsylvani ave',\n",
              " 'van siclen ave',\n",
              " 'vermont st',\n",
              " 'pitkin ave',\n",
              " 'lincoln ave',\n",
              " 'wortman ave',\n",
              " 'autumn ave',\n",
              " 'fountain ave',\n",
              " 'louisian ave',\n",
              " 'flatbush ave',\n",
              " 'ave n',\n",
              " 'utic ave',\n",
              " 'ralph ave',\n",
              " 'ave j',\n",
              " '32nd st',\n",
              " 'ave m',\n",
              " 'campus rd',\n",
              " 'ave k',\n",
              " 'ave i',\n",
              " '145th st',\n",
              " 'convent ave',\n",
              " 'hamilton pl',\n",
              " '135th st',\n",
              " '148th st',\n",
              " '147th st',\n",
              " '146th st',\n",
              " '150th st',\n",
              " '144th st',\n",
              " 'edgecombe ave',\n",
              " '47th st',\n",
              " '57th st',\n",
              " 'morris park ave',\n",
              " 'allerton ave',\n",
              " 'lydig ave',\n",
              " 'cruger ave',\n",
              " 'holland ave',\n",
              " 'pelham parkway south',\n",
              " 'eastchester rd',\n",
              " 'wallace ave',\n",
              " 'barnes ave',\n",
              " 'matthews ave',\n",
              " 'bronx park east',\n",
              " 'bronxdale ave',\n",
              " 'olinville ave',\n",
              " 'central park',\n",
              " 'cpw',\n",
              " 'central park north',\n",
              " 'columbus ave',\n",
              " 'end ave',\n",
              " '106th st',\n",
              " '97th st',\n",
              " '90th st',\n",
              " '91st st',\n",
              " '88th st',\n",
              " '108th st',\n",
              " 'graham ave',\n",
              " 'lee ave',\n",
              " 'havemeyer st',\n",
              " 'bedford ave',\n",
              " 'division ave',\n",
              " 'wallabout st',\n",
              " 'roebling st',\n",
              " 'wythe ave',\n",
              " 'manhattan ave',\n",
              " 'marcy ave',\n",
              " 'meserole st',\n",
              " 's 5th st',\n",
              " 'debevoise st',\n",
              " 'washington st',\n",
              " 'hudson st',\n",
              " 'bleecker st',\n",
              " 'laguardia pl',\n",
              " 'bell blvd',\n",
              " 'northern blvd',\n",
              " '41st ave',\n",
              " '39th ave',\n",
              " 'bayside lot',\n",
              " '42nd ave',\n",
              " '213th st',\n",
              " '40th ave',\n",
              " 'douglaston parky',\n",
              " '38th ave',\n",
              " 'cloverdale blvd',\n",
              " '235th st',\n",
              " '35th ave',\n",
              " 'church ave',\n",
              " 'cortelyou rd',\n",
              " '21st st',\n",
              " '19th st',\n",
              " 'herkimer st',\n",
              " 'spencer st',\n",
              " 'willoughby ave',\n",
              " 'lafayette ave',\n",
              " 'myrtl ave',\n",
              " 'quincy st',\n",
              " 'baxter ave',\n",
              " 'coron ave',\n",
              " '57th ave',\n",
              " 'junction blvd',\n",
              " '55th ave',\n",
              " 'woodside ave',\n",
              " 'national st',\n",
              " '51st ave',\n",
              " '56th ave',\n",
              " 'bay parky',\n",
              " '20th ave',\n",
              " '65th st',\n",
              " 'bath ave',\n",
              " '21st ave',\n",
              " '64th st',\n",
              " '85th st',\n",
              " 'cross bay blvd',\n",
              " 'rock blvd',\n",
              " '93rd st',\n",
              " '121st st',\n",
              " 'van wyck expy',\n",
              " '123rd st',\n",
              " '40th st',\n",
              " '44th st',\n",
              " 'kingston ave',\n",
              " 'crown st',\n",
              " 'eastern parky',\n",
              " 'montgomery st',\n",
              " 'new york ave',\n",
              " 'rutland rd',\n",
              " 'clarkson ave',\n",
              " 'troy ave',\n",
              " 'lefferts ave',\n",
              " '98th st',\n",
              " '104th st',\n",
              " 'myrtle ave',\n",
              " 'fresh pond rd',\n",
              " 'grand ave',\n",
              " 'senec ave',\n",
              " 'onderdonk ave',\n",
              " 'cypress ave',\n",
              " '69th st',\n",
              " 'cornelia st',\n",
              " 'woodbine st',\n",
              " 'palmetto st',\n",
              " 'woodward ave',\n",
              " '231st st',\n",
              " 'sedgwick ave',\n",
              " 'riverdale ave',\n",
              " '238th st',\n",
              " 'johnson ave',\n",
              " 'bailey ave',\n",
              " 'netherland ave',\n",
              " '236th st',\n",
              " 'godwin ter',\n",
              " '233rd st',\n",
              " 'independence ave',\n",
              " '232nd st',\n",
              " 'oxford ave',\n",
              " 'new dorp ln',\n",
              " 'mason ave',\n",
              " 'seaveew ave',\n",
              " 'new dorp plz north',\n",
              " 'olympia blvd',\n",
              " 'new dorp plz south',\n",
              " 'richmond rd',\n",
              " 'clawson st',\n",
              " 'n rail rd ave',\n",
              " 'rose ave',\n",
              " 'eltingville blvd',\n",
              " 'ashland pl',\n",
              " 'clinton ave',\n",
              " 'carlton ave',\n",
              " 'clermont ave',\n",
              " 'adelphi st',\n",
              " 'wavely ave',\n",
              " 'vanderbilt ave',\n",
              " '71st ave',\n",
              " '63rd rd',\n",
              " '63rd dr',\n",
              " '70th rd',\n",
              " '71st rd',\n",
              " 'yellowstone blvd',\n",
              " '70th ave',\n",
              " '64th rd',\n",
              " 'saunders st',\n",
              " '64th ave',\n",
              " '72nd ave',\n",
              " '72nd rd',\n",
              " 'main st',\n",
              " 'kissena blvd',\n",
              " 'melbourne ave',\n",
              " 'parsons blvd',\n",
              " 'horace harding expy',\n",
              " '84th dr',\n",
              " 'midland parky',\n",
              " 'highland ave',\n",
              " 'jewel ave',\n",
              " '162nd st',\n",
              " 'rock ave',\n",
              " 'mother gaston blvd',\n",
              " 'chester st',\n",
              " 'saratog ave',\n",
              " 'howard ave',\n",
              " 'dean st',\n",
              " 'bristol st',\n",
              " 'sutter ave',\n",
              " 'rogers ave',\n",
              " 'lenox rd',\n",
              " 'ave d',\n",
              " '37th ave',\n",
              " '74th st',\n",
              " '81st st',\n",
              " '103rd st',\n",
              " '79th st',\n",
              " '80th st',\n",
              " '76th st',\n",
              " '34th ave',\n",
              " 'fox st',\n",
              " 'bryant ave',\n",
              " 'tiffany st',\n",
              " '163rd st',\n",
              " 'longfellow ave',\n",
              " 'randall ave',\n",
              " 'beck st',\n",
              " 'faile st',\n",
              " 'kelly st',\n",
              " 'intervale ave',\n",
              " 'longwood ave',\n",
              " 'whittier st',\n",
              " '73rd st',\n",
              " '75th st',\n",
              " '77th st',\n",
              " '84th st',\n",
              " 'bay ridge ave',\n",
              " 'shorerd',\n",
              " 'bay ridge parky',\n",
              " 'ovington ave',\n",
              " '67th st',\n",
              " '167th st',\n",
              " 'gerard ave',\n",
              " 'sheridan ave',\n",
              " 'river ave',\n",
              " 'teller ave',\n",
              " 'clay ave',\n",
              " 'college ave',\n",
              " 'townsend ave',\n",
              " 'st johns pl',\n",
              " 'sterling pl',\n",
              " 'park pl',\n",
              " 'st marks ave',\n",
              " 'prospect pl',\n",
              " 'bergen st',\n",
              " 'lincoln pl',\n",
              " 'knickerbocker ave',\n",
              " 'wyckoff ave',\n",
              " 'irving ave',\n",
              " 'stockholm st',\n",
              " 'bushwick ave',\n",
              " 'troutman st',\n",
              " 'evergreen ave',\n",
              " 'himrod st',\n",
              " 'wilson ave',\n",
              " 'hart st',\n",
              " 'stanhope st',\n",
              " 'jefferson st',\n",
              " 'beach 20th st',\n",
              " 'mott ave',\n",
              " 'seagirt blvd',\n",
              " 'beach 19th st',\n",
              " 'beach channel dr',\n",
              " 'beach 9th st',\n",
              " 'cornag ave',\n",
              " 'new h ave ave',\n",
              " 'beach 17th st',\n",
              " 'gateway blvd',\n",
              " 'almed ave',\n",
              " 'neilson st',\n",
              " 'caffrey ave',\n",
              " 'redfern ave',\n",
              " 'sutphin blvd',\n",
              " '90th ave',\n",
              " '161st st',\n",
              " '160th st',\n",
              " '153rd st',\n",
              " '88th ave',\n",
              " 'college point blvd',\n",
              " 'sanford ave',\n",
              " '40th rd',\n",
              " 'flushing lot 2',\n",
              " '141st st',\n",
              " 'beach 116th st',\n",
              " 'rock beach blvd',\n",
              " 'beach 129th st',\n",
              " 'shore front parky',\n",
              " 'shorfront parkwy',\n",
              " 'beach 102nd st',\n",
              " 'beach 108th st',\n",
              " 'beach 117th st',\n",
              " 'rock bch blvd',\n",
              " 'beach 84th st',\n",
              " 'beach 81st st',\n",
              " 'mott st',\n",
              " 'bowery',\n",
              " 'mulberry st',\n",
              " 'lafayette st',\n",
              " 'crosby st',\n",
              " 'elizaveth st',\n",
              " 'broome st',\n",
              " 'chrystie st',\n",
              " 'forsyth st',\n",
              " 'eldridge st',\n",
              " 'centre st',\n",
              " '132nd st',\n",
              " '114th st',\n",
              " 'claremont ave',\n",
              " 'morningside dr',\n",
              " '113th st',\n",
              " 'guy r brewer blvd',\n",
              " '130th ave',\n",
              " 'farmers blvd',\n",
              " 'baisley blvd',\n",
              " '137th ave',\n",
              " 'bedell st',\n",
              " '127th ave',\n",
              " '133rd ave',\n",
              " '166th pl',\n",
              " 'montauk st',\n",
              " 'meeker ave',\n",
              " 'n 6th st',\n",
              " 'driggs ave',\n",
              " 'berry st',\n",
              " 'n 7th st',\n",
              " 'kent st',\n",
              " 'java st',\n",
              " 'nassau ave',\n",
              " 'leonard st',\n",
              " 'franklin st',\n",
              " 'n 11th st',\n",
              " 'kent ave',\n",
              " 'sackett st',\n",
              " 'columbia st',\n",
              " 'baltic st',\n",
              " 'degraw st',\n",
              " 'hoyt st',\n",
              " 'van brunt st',\n",
              " 'port richmond ave',\n",
              " 'new st',\n",
              " 'richmond hill rd',\n",
              " 'essex dr',\n",
              " 'servic rd',\n",
              " 'jewett ave',\n",
              " 'nome ave',\n",
              " 'marsh ave',\n",
              " 'willowbrook rd',\n",
              " 'bronx blvd',\n",
              " 'burke ave',\n",
              " 'whitplains rd',\n",
              " 'carpenter ave',\n",
              " '229th st',\n",
              " '222nd st',\n",
              " 'bronxwood ave',\n",
              " '225th st',\n",
              " '226th st',\n",
              " '137th st',\n",
              " '142nd st',\n",
              " '143rd st',\n",
              " 'bradhurst ave']"
            ]
          },
          "metadata": {},
          "execution_count": 18
        }
      ]
    },
    {
      "cell_type": "code",
      "source": [
        "len(top_streets_list)"
      ],
      "metadata": {
        "colab": {
          "base_uri": "https://localhost:8080/"
        },
        "id": "UcKkzT6moMMx",
        "outputId": "28cf169f-66cb-416b-83b1-49ebe6f7f272"
      },
      "execution_count": null,
      "outputs": [
        {
          "output_type": "execute_result",
          "data": {
            "text/plain": [
              "710"
            ]
          },
          "metadata": {},
          "execution_count": 19
        }
      ]
    },
    {
      "cell_type": "code",
      "source": [
        "dfpl.filter(~pl.col('street_name').is_in(top_streets_list))"
      ],
      "metadata": {
        "colab": {
          "base_uri": "https://localhost:8080/",
          "height": 882
        },
        "id": "fdn7TWEjjZhz",
        "outputId": "ef9c01fc-4c14-4b84-f78f-f316bcee86a9"
      },
      "execution_count": null,
      "outputs": [
        {
          "output_type": "execute_result",
          "data": {
            "text/plain": [
              "shape: (7_269_802, 9)\n",
              "┌───────────┬───────────┬───────────┬───────────┬───┬───────────┬───────────┬───────────┬──────────┐\n",
              "│ plate_typ ┆ registrat ┆ vehicle_b ┆ violation ┆ … ┆ violation ┆ house_num ┆ street_na ┆ issue_da │\n",
              "│ e         ┆ ion_state ┆ ody_type  ┆ _descript ┆   ┆ _county   ┆ ber       ┆ me        ┆ tetime   │\n",
              "│ ---       ┆ ---       ┆ ---       ┆ ion       ┆   ┆ ---       ┆ ---       ┆ ---       ┆ ---      │\n",
              "│ cat       ┆ cat       ┆ cat       ┆ ---       ┆   ┆ cat       ┆ str       ┆ str       ┆ datetime │\n",
              "│           ┆           ┆           ┆ cat       ┆   ┆           ┆           ┆           ┆ [μs]     │\n",
              "╞═══════════╪═══════════╪═══════════╪═══════════╪═══╪═══════════╪═══════════╪═══════════╪══════════╡\n",
              "│ Passenger ┆ New York  ┆ Suburban  ┆ Wrong     ┆ … ┆ Manhattan ┆ 712       ┆ 175th st  ┆ 2013-08- │\n",
              "│           ┆           ┆           ┆ place     ┆   ┆           ┆           ┆           ┆ 04       │\n",
              "│           ┆           ┆           ┆           ┆   ┆           ┆           ┆           ┆ 07:52:00 │\n",
              "│ Commercia ┆ New York  ┆ Van       ┆ Wrong     ┆ … ┆ Manhattan ┆ 517       ┆ 176th st  ┆ 2013-08- │\n",
              "│ l         ┆           ┆           ┆ place     ┆   ┆           ┆           ┆           ┆ 05       │\n",
              "│           ┆           ┆           ┆           ┆   ┆           ┆           ┆           ┆ 14:32:00 │\n",
              "│ Passenger ┆ New       ┆ Pickup    ┆ No        ┆ … ┆ Manhattan ┆ 525       ┆ 175th st  ┆ 2013-08- │\n",
              "│           ┆ Jersey    ┆           ┆ standing  ┆   ┆           ┆           ┆           ┆ 11       │\n",
              "│           ┆           ┆           ┆           ┆   ┆           ┆           ┆           ┆ 18:17:00 │\n",
              "│ Passenger ┆ New       ┆ Delivery  ┆ No        ┆ … ┆ Brooklyn  ┆ 100       ┆ nportland ┆ 2013-08- │\n",
              "│           ┆ Jersey    ┆ Truck     ┆ parking   ┆   ┆           ┆           ┆ ave       ┆ 07       │\n",
              "│           ┆           ┆           ┆           ┆   ┆           ┆           ┆           ┆ 04:25:00 │\n",
              "│ …         ┆ …         ┆ …         ┆ …         ┆ … ┆ …         ┆ …         ┆ …         ┆ …        │\n",
              "│ Omnibus   ┆ New York  ┆ Van       ┆ No        ┆ … ┆ Queens    ┆ null      ┆ terminal  ┆ 2016-06- │\n",
              "│           ┆           ┆           ┆ standing  ┆   ┆           ┆           ┆ 7th       ┆ 30       │\n",
              "│           ┆           ┆           ┆           ┆   ┆           ┆           ┆ arrivals  ┆ 14:50:00 │\n",
              "│ Passenger ┆ New       ┆ Suburban  ┆ No        ┆ … ┆ Queens    ┆ null      ┆ terminal  ┆ 2016-06- │\n",
              "│           ┆ Jersey    ┆           ┆ standing  ┆   ┆           ┆           ┆ 8th       ┆ 30       │\n",
              "│           ┆           ┆           ┆           ┆   ┆           ┆           ┆ outerrdw  ┆ 06:20:00 │\n",
              "│ other     ┆ New York  ┆ Sedan     ┆ Wrong     ┆ … ┆ Queens    ┆ null      ┆ terminal  ┆ 2016-06- │\n",
              "│           ┆           ┆           ┆ place     ┆   ┆           ┆           ┆ 7th       ┆ 30       │\n",
              "│           ┆           ┆           ┆           ┆   ┆           ┆           ┆ arrivals  ┆ 04:12:00 │\n",
              "│ Passenger ┆ New York  ┆ Suburban  ┆ No        ┆ … ┆ Queens    ┆ null      ┆ terminal  ┆ 2016-06- │\n",
              "│           ┆           ┆           ┆ standing  ┆   ┆           ┆           ┆ 8th       ┆ 30       │\n",
              "│           ┆           ┆           ┆           ┆   ┆           ┆           ┆ arrivals  ┆ 06:15:00 │\n",
              "└───────────┴───────────┴───────────┴───────────┴───┴───────────┴───────────┴───────────┴──────────┘"
            ],
            "text/html": [
              "<div><style>\n",
              ".dataframe > thead > tr,\n",
              ".dataframe > tbody > tr {\n",
              "  text-align: right;\n",
              "  white-space: pre-wrap;\n",
              "}\n",
              "</style>\n",
              "<small>shape: (7_269_802, 9)</small><table border=\"1\" class=\"dataframe\"><thead><tr><th>plate_type</th><th>registration_state</th><th>vehicle_body_type</th><th>violation_description</th><th>violation_precinct</th><th>violation_county</th><th>house_number</th><th>street_name</th><th>issue_datetime</th></tr><tr><td>cat</td><td>cat</td><td>cat</td><td>cat</td><td>u16</td><td>cat</td><td>str</td><td>str</td><td>datetime[μs]</td></tr></thead><tbody><tr><td>&quot;Passenger&quot;</td><td>&quot;New York&quot;</td><td>&quot;Suburban&quot;</td><td>&quot;Wrong place&quot;</td><td>33</td><td>&quot;Manhattan&quot;</td><td>&quot;712&quot;</td><td>&quot;175th st&quot;</td><td>2013-08-04 07:52:00</td></tr><tr><td>&quot;Commercial&quot;</td><td>&quot;New York&quot;</td><td>&quot;Van&quot;</td><td>&quot;Wrong place&quot;</td><td>33</td><td>&quot;Manhattan&quot;</td><td>&quot;517&quot;</td><td>&quot;176th st&quot;</td><td>2013-08-05 14:32:00</td></tr><tr><td>&quot;Passenger&quot;</td><td>&quot;New Jersey&quot;</td><td>&quot;Pickup&quot;</td><td>&quot;No standing&quot;</td><td>33</td><td>&quot;Manhattan&quot;</td><td>&quot;525&quot;</td><td>&quot;175th st&quot;</td><td>2013-08-11 18:17:00</td></tr><tr><td>&quot;Passenger&quot;</td><td>&quot;New Jersey&quot;</td><td>&quot;Delivery Truck…</td><td>&quot;No parking&quot;</td><td>88</td><td>&quot;Brooklyn&quot;</td><td>&quot;100&quot;</td><td>&quot;nportland ave&quot;</td><td>2013-08-07 04:25:00</td></tr><tr><td>&quot;Passenger&quot;</td><td>&quot;New York&quot;</td><td>&quot;Sedan&quot;</td><td>&quot;No parking&quot;</td><td>88</td><td>&quot;Brooklyn&quot;</td><td>&quot;100&quot;</td><td>&quot;nportland ave&quot;</td><td>2013-08-07 04:37:00</td></tr><tr><td>&quot;Passenger&quot;</td><td>&quot;New Jersey&quot;</td><td>&quot;Sedan&quot;</td><td>&quot;No parking&quot;</td><td>79</td><td>&quot;Brooklyn&quot;</td><td>null</td><td>&quot;760th broadway…</td><td>2013-07-18 08:39:00</td></tr><tr><td>&quot;Passenger&quot;</td><td>&quot;New York&quot;</td><td>&quot;Sedan&quot;</td><td>&quot;No parking&quot;</td><td>79</td><td>&quot;Brooklyn&quot;</td><td>null</td><td>&quot;760th broadway…</td><td>2013-07-18 08:45:00</td></tr><tr><td>&quot;Passenger&quot;</td><td>&quot;New York&quot;</td><td>&quot;Sedan&quot;</td><td>&quot;No parking&quot;</td><td>79</td><td>&quot;Brooklyn&quot;</td><td>null</td><td>&quot;760th broadway…</td><td>2013-07-18 09:07:00</td></tr><tr><td>&quot;Passenger&quot;</td><td>&quot;New York&quot;</td><td>&quot;Sedan&quot;</td><td>&quot;No parking&quot;</td><td>79</td><td>&quot;Brooklyn&quot;</td><td>&quot;760&quot;</td><td>&quot;bwy&quot;</td><td>2013-08-12 18:56:00</td></tr><tr><td>&quot;Passenger&quot;</td><td>&quot;New York&quot;</td><td>&quot;Sedan&quot;</td><td>&quot;No parking&quot;</td><td>76</td><td>&quot;Brooklyn&quot;</td><td>&quot;221&quot;</td><td>&quot;congress st&quot;</td><td>2013-08-12 17:46:00</td></tr><tr><td>&quot;Passenger&quot;</td><td>&quot;New York&quot;</td><td>&quot;Sedan&quot;</td><td>&quot;No standing&quot;</td><td>78</td><td>&quot;Brooklyn&quot;</td><td>&quot;145&quot;</td><td>&quot;prospect parkw…</td><td>2013-07-26 11:42:00</td></tr><tr><td>&quot;Passenger&quot;</td><td>&quot;other&quot;</td><td>&quot;Suburban&quot;</td><td>&quot;No parking&quot;</td><td>88</td><td>&quot;Brooklyn&quot;</td><td>null</td><td>&quot;ns dekalb ave&quot;</td><td>2013-07-30 07:24:00</td></tr><tr><td>&hellip;</td><td>&hellip;</td><td>&hellip;</td><td>&hellip;</td><td>&hellip;</td><td>&hellip;</td><td>&hellip;</td><td>&hellip;</td><td>&hellip;</td></tr><tr><td>&quot;Passenger&quot;</td><td>&quot;New York&quot;</td><td>&quot;Sedan&quot;</td><td>&quot;Wrong place&quot;</td><td>43</td><td>&quot;Bronx&quot;</td><td>null</td><td>&quot;co metcalf ave…</td><td>2016-06-30 10:04:00</td></tr><tr><td>&quot;Passenger&quot;</td><td>&quot;other&quot;</td><td>&quot;Van&quot;</td><td>&quot;No parking&quot;</td><td>43</td><td>&quot;Bronx&quot;</td><td>&quot;1338&quot;</td><td>&quot;metcalf ave&quot;</td><td>2016-06-30 09:40:00</td></tr><tr><td>&quot;Passenger&quot;</td><td>&quot;New York&quot;</td><td>&quot;Suburban&quot;</td><td>&quot;No parking&quot;</td><td>42</td><td>&quot;Bronx&quot;</td><td>&quot;3463&quot;</td><td>&quot;thi rd ave&quot;</td><td>2016-06-30 11:30:00</td></tr><tr><td>&quot;Passenger&quot;</td><td>&quot;New York&quot;</td><td>&quot;Sedan&quot;</td><td>&quot;No parking&quot;</td><td>47</td><td>&quot;Bronx&quot;</td><td>&quot;678&quot;</td><td>&quot;223rd st&quot;</td><td>2016-06-30 07:50:00</td></tr><tr><td>&quot;Passenger&quot;</td><td>&quot;New York&quot;</td><td>&quot;Suburban&quot;</td><td>&quot;Wrong place&quot;</td><td>88</td><td>&quot;Brooklyn&quot;</td><td>&quot;36&quot;</td><td>&quot;st edwards st&quot;</td><td>2016-06-30 04:35:00</td></tr><tr><td>&quot;Omnibus&quot;</td><td>&quot;New York&quot;</td><td>&quot;Sedan&quot;</td><td>&quot;No standing&quot;</td><td>113</td><td>&quot;Queens&quot;</td><td>null</td><td>&quot;terminal 8th o…</td><td>2016-06-30 14:50:00</td></tr><tr><td>&quot;Omnibus&quot;</td><td>&quot;New York&quot;</td><td>&quot;Suburban&quot;</td><td>&quot;Wrong place&quot;</td><td>113</td><td>&quot;Queens&quot;</td><td>null</td><td>&quot;terminal 2nd b…</td><td>2016-06-30 16:30:00</td></tr><tr><td>&quot;Omnibus&quot;</td><td>&quot;New York&quot;</td><td>&quot;Suburban&quot;</td><td>&quot;No standing&quot;</td><td>113</td><td>&quot;Queens&quot;</td><td>null</td><td>&quot;terminal 1st a…</td><td>2016-06-30 15:03:00</td></tr><tr><td>&quot;Omnibus&quot;</td><td>&quot;New York&quot;</td><td>&quot;Van&quot;</td><td>&quot;No standing&quot;</td><td>113</td><td>&quot;Queens&quot;</td><td>null</td><td>&quot;terminal 7th a…</td><td>2016-06-30 14:50:00</td></tr><tr><td>&quot;Passenger&quot;</td><td>&quot;New Jersey&quot;</td><td>&quot;Suburban&quot;</td><td>&quot;No standing&quot;</td><td>113</td><td>&quot;Queens&quot;</td><td>null</td><td>&quot;terminal 8th o…</td><td>2016-06-30 06:20:00</td></tr><tr><td>&quot;other&quot;</td><td>&quot;New York&quot;</td><td>&quot;Sedan&quot;</td><td>&quot;Wrong place&quot;</td><td>113</td><td>&quot;Queens&quot;</td><td>null</td><td>&quot;terminal 7th a…</td><td>2016-06-30 04:12:00</td></tr><tr><td>&quot;Passenger&quot;</td><td>&quot;New York&quot;</td><td>&quot;Suburban&quot;</td><td>&quot;No standing&quot;</td><td>113</td><td>&quot;Queens&quot;</td><td>null</td><td>&quot;terminal 8th a…</td><td>2016-06-30 06:15:00</td></tr></tbody></table></div>"
            ]
          },
          "metadata": {},
          "execution_count": 20
        }
      ]
    },
    {
      "cell_type": "code",
      "source": [
        "dfpl = dfpl.with_columns(pl.col('street_name').cast(pl.Utf8).replace(old=top_streets_list, new=top_streets_list, default='other'))"
      ],
      "metadata": {
        "id": "Zb9BsE-dmVpd"
      },
      "execution_count": null,
      "outputs": []
    },
    {
      "cell_type": "code",
      "source": [
        "print('Est. memory_usage, mb: ', int(dfpl.estimated_size()/ 1024 / 1024) )\n",
        "dfpl.head(5)"
      ],
      "metadata": {
        "colab": {
          "base_uri": "https://localhost:8080/",
          "height": 272
        },
        "id": "0nfsHUUCueYV",
        "outputId": "b9d04f34-5bfd-40c6-9985-96d3a3595568"
      },
      "execution_count": null,
      "outputs": [
        {
          "output_type": "stream",
          "name": "stdout",
          "text": [
            "Est. memory_usage, mb:  1771\n"
          ]
        },
        {
          "output_type": "execute_result",
          "data": {
            "text/plain": [
              "shape: (5, 9)\n",
              "┌───────────┬───────────┬───────────┬───────────┬───┬───────────┬───────────┬───────────┬──────────┐\n",
              "│ plate_typ ┆ registrat ┆ vehicle_b ┆ violation ┆ … ┆ violation ┆ house_num ┆ street_na ┆ issue_da │\n",
              "│ e         ┆ ion_state ┆ ody_type  ┆ _descript ┆   ┆ _county   ┆ ber       ┆ me        ┆ tetime   │\n",
              "│ ---       ┆ ---       ┆ ---       ┆ ion       ┆   ┆ ---       ┆ ---       ┆ ---       ┆ ---      │\n",
              "│ cat       ┆ cat       ┆ cat       ┆ ---       ┆   ┆ cat       ┆ str       ┆ str       ┆ datetime │\n",
              "│           ┆           ┆           ┆ cat       ┆   ┆           ┆           ┆           ┆ [μs]     │\n",
              "╞═══════════╪═══════════╪═══════════╪═══════════╪═══╪═══════════╪═══════════╪═══════════╪══════════╡\n",
              "│ Passenger ┆ New York  ┆ Suburban  ┆ Wrong     ┆ … ┆ Manhattan ┆ 712       ┆ other     ┆ 2013-08- │\n",
              "│           ┆           ┆           ┆ place     ┆   ┆           ┆           ┆           ┆ 04       │\n",
              "│           ┆           ┆           ┆           ┆   ┆           ┆           ┆           ┆ 07:52:00 │\n",
              "│ Commercia ┆ New York  ┆ Van       ┆ Wrong     ┆ … ┆ Manhattan ┆ 201       ┆ 177th st  ┆ 2013-08- │\n",
              "│ l         ┆           ┆           ┆ place     ┆   ┆           ┆           ┆           ┆ 04       │\n",
              "│           ┆           ┆           ┆           ┆   ┆           ┆           ┆           ┆ 12:40:00 │\n",
              "│ Commercia ┆ New York  ┆ Pickup    ┆ Wrong     ┆ … ┆ Manhattan ┆ 520       ┆ 163rd st  ┆ 2013-08- │\n",
              "│ l         ┆           ┆           ┆ place     ┆   ┆           ┆           ┆           ┆ 05       │\n",
              "│           ┆           ┆           ┆           ┆   ┆           ┆           ┆           ┆ 12:43:00 │\n",
              "│ Commercia ┆ New York  ┆ Van       ┆ Wrong     ┆ … ┆ Manhattan ┆ 517       ┆ other     ┆ 2013-08- │\n",
              "│ l         ┆           ┆           ┆ place     ┆   ┆           ┆           ┆           ┆ 05       │\n",
              "│           ┆           ┆           ┆           ┆   ┆           ┆           ┆           ┆ 14:32:00 │\n",
              "│ Passenger ┆ New       ┆ Pickup    ┆ No        ┆ … ┆ Manhattan ┆ 525       ┆ other     ┆ 2013-08- │\n",
              "│           ┆ Jersey    ┆           ┆ standing  ┆   ┆           ┆           ┆           ┆ 11       │\n",
              "│           ┆           ┆           ┆           ┆   ┆           ┆           ┆           ┆ 18:17:00 │\n",
              "└───────────┴───────────┴───────────┴───────────┴───┴───────────┴───────────┴───────────┴──────────┘"
            ],
            "text/html": [
              "<div><style>\n",
              ".dataframe > thead > tr,\n",
              ".dataframe > tbody > tr {\n",
              "  text-align: right;\n",
              "  white-space: pre-wrap;\n",
              "}\n",
              "</style>\n",
              "<small>shape: (5, 9)</small><table border=\"1\" class=\"dataframe\"><thead><tr><th>plate_type</th><th>registration_state</th><th>vehicle_body_type</th><th>violation_description</th><th>violation_precinct</th><th>violation_county</th><th>house_number</th><th>street_name</th><th>issue_datetime</th></tr><tr><td>cat</td><td>cat</td><td>cat</td><td>cat</td><td>u16</td><td>cat</td><td>str</td><td>str</td><td>datetime[μs]</td></tr></thead><tbody><tr><td>&quot;Passenger&quot;</td><td>&quot;New York&quot;</td><td>&quot;Suburban&quot;</td><td>&quot;Wrong place&quot;</td><td>33</td><td>&quot;Manhattan&quot;</td><td>&quot;712&quot;</td><td>&quot;other&quot;</td><td>2013-08-04 07:52:00</td></tr><tr><td>&quot;Commercial&quot;</td><td>&quot;New York&quot;</td><td>&quot;Van&quot;</td><td>&quot;Wrong place&quot;</td><td>33</td><td>&quot;Manhattan&quot;</td><td>&quot;201&quot;</td><td>&quot;177th st&quot;</td><td>2013-08-04 12:40:00</td></tr><tr><td>&quot;Commercial&quot;</td><td>&quot;New York&quot;</td><td>&quot;Pickup&quot;</td><td>&quot;Wrong place&quot;</td><td>33</td><td>&quot;Manhattan&quot;</td><td>&quot;520&quot;</td><td>&quot;163rd st&quot;</td><td>2013-08-05 12:43:00</td></tr><tr><td>&quot;Commercial&quot;</td><td>&quot;New York&quot;</td><td>&quot;Van&quot;</td><td>&quot;Wrong place&quot;</td><td>33</td><td>&quot;Manhattan&quot;</td><td>&quot;517&quot;</td><td>&quot;other&quot;</td><td>2013-08-05 14:32:00</td></tr><tr><td>&quot;Passenger&quot;</td><td>&quot;New Jersey&quot;</td><td>&quot;Pickup&quot;</td><td>&quot;No standing&quot;</td><td>33</td><td>&quot;Manhattan&quot;</td><td>&quot;525&quot;</td><td>&quot;other&quot;</td><td>2013-08-11 18:17:00</td></tr></tbody></table></div>"
            ]
          },
          "metadata": {},
          "execution_count": 22
        }
      ]
    },
    {
      "cell_type": "code",
      "source": [
        "dfpl = dfpl.with_columns(\n",
        "    issue_date=pl.col(\"issue_datetime\").cast(pl.Date),\n",
        "    issue_hour=pl.col(\"issue_datetime\").dt.hour()\n",
        ").drop('issue_datetime')"
      ],
      "metadata": {
        "id": "GE8D18HZvlJD"
      },
      "execution_count": null,
      "outputs": []
    },
    {
      "cell_type": "code",
      "source": [
        "dfpl"
      ],
      "metadata": {
        "colab": {
          "base_uri": "https://localhost:8080/",
          "height": 882
        },
        "id": "_9GyLobhySFX",
        "outputId": "8c0e1670-72a2-4af2-ea3c-b7364a89ee6b"
      },
      "execution_count": null,
      "outputs": [
        {
          "output_type": "execute_result",
          "data": {
            "text/plain": [
              "shape: (32_307_336, 10)\n",
              "┌───────────┬───────────┬───────────┬───────────┬───┬───────────┬───────────┬───────────┬──────────┐\n",
              "│ plate_typ ┆ registrat ┆ vehicle_b ┆ violation ┆ … ┆ house_num ┆ street_na ┆ issue_dat ┆ issue_ho │\n",
              "│ e         ┆ ion_state ┆ ody_type  ┆ _descript ┆   ┆ ber       ┆ me        ┆ e         ┆ ur       │\n",
              "│ ---       ┆ ---       ┆ ---       ┆ ion       ┆   ┆ ---       ┆ ---       ┆ ---       ┆ ---      │\n",
              "│ cat       ┆ cat       ┆ cat       ┆ ---       ┆   ┆ str       ┆ str       ┆ date      ┆ i8       │\n",
              "│           ┆           ┆           ┆ cat       ┆   ┆           ┆           ┆           ┆          │\n",
              "╞═══════════╪═══════════╪═══════════╪═══════════╪═══╪═══════════╪═══════════╪═══════════╪══════════╡\n",
              "│ Passenger ┆ New York  ┆ Suburban  ┆ Wrong     ┆ … ┆ 712       ┆ other     ┆ 2013-08-0 ┆ 7        │\n",
              "│           ┆           ┆           ┆ place     ┆   ┆           ┆           ┆ 4         ┆          │\n",
              "│ Commercia ┆ New York  ┆ Van       ┆ Wrong     ┆ … ┆ 201       ┆ 177th st  ┆ 2013-08-0 ┆ 12       │\n",
              "│ l         ┆           ┆           ┆ place     ┆   ┆           ┆           ┆ 4         ┆          │\n",
              "│ Commercia ┆ New York  ┆ Pickup    ┆ Wrong     ┆ … ┆ 520       ┆ 163rd st  ┆ 2013-08-0 ┆ 12       │\n",
              "│ l         ┆           ┆           ┆ place     ┆   ┆           ┆           ┆ 5         ┆          │\n",
              "│ Commercia ┆ New York  ┆ Van       ┆ Wrong     ┆ … ┆ 517       ┆ other     ┆ 2013-08-0 ┆ 14       │\n",
              "│ l         ┆           ┆           ┆ place     ┆   ┆           ┆           ┆ 5         ┆          │\n",
              "│ …         ┆ …         ┆ …         ┆ …         ┆ … ┆ …         ┆ …         ┆ …         ┆ …        │\n",
              "│ other     ┆ New York  ┆ Sedan     ┆ Wrong     ┆ … ┆ null      ┆ other     ┆ 2016-06-3 ┆ 4        │\n",
              "│           ┆           ┆           ┆ place     ┆   ┆           ┆           ┆ 0         ┆          │\n",
              "│ Passenger ┆ New York  ┆ Suburban  ┆ No        ┆ … ┆ null      ┆ other     ┆ 2016-06-3 ┆ 6        │\n",
              "│           ┆           ┆           ┆ standing  ┆   ┆           ┆           ┆ 0         ┆          │\n",
              "│ Passenger ┆ New York  ┆ Suburban  ┆ No        ┆ … ┆ 1489      ┆ ave       ┆ 2016-06-3 ┆ 18       │\n",
              "│           ┆           ┆           ┆ standing  ┆   ┆           ┆           ┆ 0         ┆          │\n",
              "│ Passenger ┆ New York  ┆ Suburban  ┆ Wrong     ┆ … ┆ 1551      ┆ unionport ┆ 2016-06-3 ┆ 2        │\n",
              "│           ┆           ┆           ┆ place     ┆   ┆           ┆ rd        ┆ 0         ┆          │\n",
              "└───────────┴───────────┴───────────┴───────────┴───┴───────────┴───────────┴───────────┴──────────┘"
            ],
            "text/html": [
              "<div><style>\n",
              ".dataframe > thead > tr,\n",
              ".dataframe > tbody > tr {\n",
              "  text-align: right;\n",
              "  white-space: pre-wrap;\n",
              "}\n",
              "</style>\n",
              "<small>shape: (32_307_336, 10)</small><table border=\"1\" class=\"dataframe\"><thead><tr><th>plate_type</th><th>registration_state</th><th>vehicle_body_type</th><th>violation_description</th><th>violation_precinct</th><th>violation_county</th><th>house_number</th><th>street_name</th><th>issue_date</th><th>issue_hour</th></tr><tr><td>cat</td><td>cat</td><td>cat</td><td>cat</td><td>u16</td><td>cat</td><td>str</td><td>str</td><td>date</td><td>i8</td></tr></thead><tbody><tr><td>&quot;Passenger&quot;</td><td>&quot;New York&quot;</td><td>&quot;Suburban&quot;</td><td>&quot;Wrong place&quot;</td><td>33</td><td>&quot;Manhattan&quot;</td><td>&quot;712&quot;</td><td>&quot;other&quot;</td><td>2013-08-04</td><td>7</td></tr><tr><td>&quot;Commercial&quot;</td><td>&quot;New York&quot;</td><td>&quot;Van&quot;</td><td>&quot;Wrong place&quot;</td><td>33</td><td>&quot;Manhattan&quot;</td><td>&quot;201&quot;</td><td>&quot;177th st&quot;</td><td>2013-08-04</td><td>12</td></tr><tr><td>&quot;Commercial&quot;</td><td>&quot;New York&quot;</td><td>&quot;Pickup&quot;</td><td>&quot;Wrong place&quot;</td><td>33</td><td>&quot;Manhattan&quot;</td><td>&quot;520&quot;</td><td>&quot;163rd st&quot;</td><td>2013-08-05</td><td>12</td></tr><tr><td>&quot;Commercial&quot;</td><td>&quot;New York&quot;</td><td>&quot;Van&quot;</td><td>&quot;Wrong place&quot;</td><td>33</td><td>&quot;Manhattan&quot;</td><td>&quot;517&quot;</td><td>&quot;other&quot;</td><td>2013-08-05</td><td>14</td></tr><tr><td>&quot;Passenger&quot;</td><td>&quot;New Jersey&quot;</td><td>&quot;Pickup&quot;</td><td>&quot;No standing&quot;</td><td>33</td><td>&quot;Manhattan&quot;</td><td>&quot;525&quot;</td><td>&quot;other&quot;</td><td>2013-08-11</td><td>18</td></tr><tr><td>&quot;Passenger&quot;</td><td>&quot;New Jersey&quot;</td><td>&quot;Delivery Truck…</td><td>&quot;No parking&quot;</td><td>88</td><td>&quot;Brooklyn&quot;</td><td>&quot;100&quot;</td><td>&quot;other&quot;</td><td>2013-08-07</td><td>4</td></tr><tr><td>&quot;Passenger&quot;</td><td>&quot;New York&quot;</td><td>&quot;Sedan&quot;</td><td>&quot;No parking&quot;</td><td>88</td><td>&quot;Brooklyn&quot;</td><td>&quot;100&quot;</td><td>&quot;other&quot;</td><td>2013-08-07</td><td>4</td></tr><tr><td>&quot;Passenger&quot;</td><td>&quot;New Jersey&quot;</td><td>&quot;Sedan&quot;</td><td>&quot;No parking&quot;</td><td>79</td><td>&quot;Brooklyn&quot;</td><td>null</td><td>&quot;other&quot;</td><td>2013-07-18</td><td>8</td></tr><tr><td>&quot;Passenger&quot;</td><td>&quot;New York&quot;</td><td>&quot;Sedan&quot;</td><td>&quot;No parking&quot;</td><td>79</td><td>&quot;Brooklyn&quot;</td><td>null</td><td>&quot;other&quot;</td><td>2013-07-18</td><td>8</td></tr><tr><td>&quot;Passenger&quot;</td><td>&quot;New York&quot;</td><td>&quot;Sedan&quot;</td><td>&quot;No parking&quot;</td><td>79</td><td>&quot;Brooklyn&quot;</td><td>null</td><td>&quot;other&quot;</td><td>2013-07-18</td><td>9</td></tr><tr><td>&quot;Passenger&quot;</td><td>&quot;New York&quot;</td><td>&quot;Sedan&quot;</td><td>&quot;No parking&quot;</td><td>79</td><td>&quot;Brooklyn&quot;</td><td>&quot;760&quot;</td><td>&quot;other&quot;</td><td>2013-08-12</td><td>18</td></tr><tr><td>&quot;Commercial&quot;</td><td>&quot;New York&quot;</td><td>&quot;Van&quot;</td><td>&quot;No standing&quot;</td><td>13</td><td>&quot;Manhattan&quot;</td><td>&quot;59&quot;</td><td>&quot;21st st&quot;</td><td>2013-07-05</td><td>23</td></tr><tr><td>&hellip;</td><td>&hellip;</td><td>&hellip;</td><td>&hellip;</td><td>&hellip;</td><td>&hellip;</td><td>&hellip;</td><td>&hellip;</td><td>&hellip;</td><td>&hellip;</td></tr><tr><td>&quot;Passenger&quot;</td><td>&quot;New York&quot;</td><td>&quot;Sedan&quot;</td><td>&quot;No parking&quot;</td><td>47</td><td>&quot;Bronx&quot;</td><td>&quot;678&quot;</td><td>&quot;other&quot;</td><td>2016-06-30</td><td>7</td></tr><tr><td>&quot;Passenger&quot;</td><td>&quot;New York&quot;</td><td>&quot;Suburban&quot;</td><td>&quot;No parking&quot;</td><td>47</td><td>&quot;Bronx&quot;</td><td>&quot;4234&quot;</td><td>&quot;bronx blvd&quot;</td><td>2016-06-30</td><td>7</td></tr><tr><td>&quot;Passenger&quot;</td><td>&quot;New York&quot;</td><td>&quot;Suburban&quot;</td><td>&quot;Wrong place&quot;</td><td>88</td><td>&quot;Brooklyn&quot;</td><td>&quot;36&quot;</td><td>&quot;other&quot;</td><td>2016-06-30</td><td>4</td></tr><tr><td>&quot;Omnibus&quot;</td><td>&quot;New York&quot;</td><td>&quot;Sedan&quot;</td><td>&quot;No standing&quot;</td><td>113</td><td>&quot;Queens&quot;</td><td>null</td><td>&quot;other&quot;</td><td>2016-06-30</td><td>14</td></tr><tr><td>&quot;Omnibus&quot;</td><td>&quot;New York&quot;</td><td>&quot;Suburban&quot;</td><td>&quot;Wrong place&quot;</td><td>113</td><td>&quot;Queens&quot;</td><td>null</td><td>&quot;other&quot;</td><td>2016-06-30</td><td>16</td></tr><tr><td>&quot;Omnibus&quot;</td><td>&quot;New York&quot;</td><td>&quot;Suburban&quot;</td><td>&quot;No standing&quot;</td><td>113</td><td>&quot;Queens&quot;</td><td>null</td><td>&quot;other&quot;</td><td>2016-06-30</td><td>15</td></tr><tr><td>&quot;Omnibus&quot;</td><td>&quot;New York&quot;</td><td>&quot;Van&quot;</td><td>&quot;No standing&quot;</td><td>113</td><td>&quot;Queens&quot;</td><td>null</td><td>&quot;other&quot;</td><td>2016-06-30</td><td>14</td></tr><tr><td>&quot;Passenger&quot;</td><td>&quot;New Jersey&quot;</td><td>&quot;Suburban&quot;</td><td>&quot;No standing&quot;</td><td>113</td><td>&quot;Queens&quot;</td><td>null</td><td>&quot;other&quot;</td><td>2016-06-30</td><td>6</td></tr><tr><td>&quot;other&quot;</td><td>&quot;New York&quot;</td><td>&quot;Sedan&quot;</td><td>&quot;Wrong place&quot;</td><td>113</td><td>&quot;Queens&quot;</td><td>null</td><td>&quot;other&quot;</td><td>2016-06-30</td><td>4</td></tr><tr><td>&quot;Passenger&quot;</td><td>&quot;New York&quot;</td><td>&quot;Suburban&quot;</td><td>&quot;No standing&quot;</td><td>113</td><td>&quot;Queens&quot;</td><td>null</td><td>&quot;other&quot;</td><td>2016-06-30</td><td>6</td></tr><tr><td>&quot;Passenger&quot;</td><td>&quot;New York&quot;</td><td>&quot;Suburban&quot;</td><td>&quot;No standing&quot;</td><td>43</td><td>&quot;Bronx&quot;</td><td>&quot;1489&quot;</td><td>&quot;ave&quot;</td><td>2016-06-30</td><td>18</td></tr><tr><td>&quot;Passenger&quot;</td><td>&quot;New York&quot;</td><td>&quot;Suburban&quot;</td><td>&quot;Wrong place&quot;</td><td>43</td><td>&quot;Bronx&quot;</td><td>&quot;1551&quot;</td><td>&quot;unionport rd&quot;</td><td>2016-06-30</td><td>2</td></tr></tbody></table></div>"
            ]
          },
          "metadata": {},
          "execution_count": 24
        }
      ]
    },
    {
      "cell_type": "markdown",
      "source": [
        "# Aggregation for Tableau"
      ],
      "metadata": {
        "id": "vi-BcWhfzMWx"
      }
    },
    {
      "cell_type": "code",
      "source": [
        "# filter between dates\n",
        "\n",
        "start_date = datetime.datetime(2016, 7, 1)\n",
        "end_date = datetime.datetime(2017, 6, 30)\n",
        "\n",
        "dfpl_short = (dfpl.lazy()\n",
        "    .filter(pl.col(\"issue_date\").is_between(start_date, end_date))\n",
        "    .collect()\n",
        ")"
      ],
      "metadata": {
        "id": "G9Qy9eEV8UQR"
      },
      "execution_count": null,
      "outputs": []
    },
    {
      "cell_type": "code",
      "source": [
        "dfpl_tableau = dfpl_short.group_by([\n",
        "    'plate_type',\n",
        "    'registration_state',\n",
        "    'vehicle_body_type',\n",
        "    'violation_description',\n",
        "    'violation_precinct',\n",
        "    'violation_county',\n",
        "    'street_name',\n",
        "    'issue_date',\n",
        "    'issue_hour'\n",
        "]\n",
        "              ).agg(pl.col('plate_type').count().alias('violation_count')).sort(by='violation_count', descending=False)"
      ],
      "metadata": {
        "id": "fKXeGwbhzEMV"
      },
      "execution_count": null,
      "outputs": []
    },
    {
      "cell_type": "code",
      "source": [
        "output_file = 'data_tableau.csv'\n",
        "dfpl_tableau.write_csv(path+output_file)"
      ],
      "metadata": {
        "id": "iFHiRIzD5N4W"
      },
      "execution_count": null,
      "outputs": []
    },
    {
      "cell_type": "code",
      "source": [
        "gc.collect()"
      ],
      "metadata": {
        "colab": {
          "base_uri": "https://localhost:8080/"
        },
        "id": "kUOIWGBf6Ss0",
        "outputId": "fe898669-09c2-45cb-d655-f26dc54be37f"
      },
      "execution_count": null,
      "outputs": [
        {
          "output_type": "execute_result",
          "data": {
            "text/plain": [
              "479"
            ]
          },
          "metadata": {},
          "execution_count": 37
        }
      ]
    },
    {
      "cell_type": "code",
      "source": [],
      "metadata": {
        "id": "EO8vrSv6ALP_"
      },
      "execution_count": null,
      "outputs": []
    }
  ]
}