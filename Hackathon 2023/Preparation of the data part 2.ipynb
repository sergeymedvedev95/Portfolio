{
 "cells": [
  {
   "cell_type": "markdown",
   "id": "cd1b0e06-064a-4e0d-bcd1-06d223063c1e",
   "metadata": {},
   "source": [
    "# Hackathon part 2"
   ]
  },
  {
   "cell_type": "code",
   "execution_count": 1,
   "id": "82ee0b82-d077-48b0-836f-6aaf8da839af",
   "metadata": {
    "tags": []
   },
   "outputs": [],
   "source": [
    "import pandas as pd\n",
    "import numpy as np\n",
    "import matplotlib.pyplot as plt\n",
    "import seaborn as sns\n",
    "import sidetable\n",
    "import warnings\n",
    "import usaddress"
   ]
  },
  {
   "cell_type": "code",
   "execution_count": 2,
   "id": "451b2007-b25d-4850-ac36-d573b206239e",
   "metadata": {
    "tags": []
   },
   "outputs": [],
   "source": [
    "fff = pd.read_csv('/Users/Nina/Downloads/fff.csv')\n"
   ]
  },
  {
   "cell_type": "code",
   "execution_count": 3,
   "id": "ffc65230-edca-467b-a704-f5b07e81fd1c",
   "metadata": {
    "tags": []
   },
   "outputs": [
    {
     "name": "stdout",
     "output_type": "stream",
     "text": [
      "<class 'pandas.core.frame.DataFrame'>\n",
      "RangeIndex: 34092783 entries, 0 to 34092782\n",
      "Data columns (total 10 columns):\n",
      " #   Column                 Dtype \n",
      "---  ------                 ----- \n",
      " 0   plate_id               object\n",
      " 1   plate_type             object\n",
      " 2   registration_state     object\n",
      " 3   vehicle_body_type      object\n",
      " 4   violation_description  object\n",
      " 5   violation_precinct     int64 \n",
      " 6   violation_county       object\n",
      " 7   house_number           object\n",
      " 8   street_name            object\n",
      " 9   issue_datetime         object\n",
      "dtypes: int64(1), object(9)\n",
      "memory usage: 2.5+ GB\n"
     ]
    }
   ],
   "source": [
    "fff.info()"
   ]
  },
  {
   "cell_type": "code",
   "execution_count": 4,
   "id": "75dd4ca7-e4f8-4893-9ecf-ee1905a1cd17",
   "metadata": {
    "tags": []
   },
   "outputs": [
    {
     "name": "stdout",
     "output_type": "stream",
     "text": [
      "<class 'pandas.core.frame.DataFrame'>\n",
      "RangeIndex: 34092783 entries, 0 to 34092782\n",
      "Data columns (total 10 columns):\n",
      " #   Column                 Dtype         \n",
      "---  ------                 -----         \n",
      " 0   plate_id               object        \n",
      " 1   plate_type             category      \n",
      " 2   registration_state     category      \n",
      " 3   vehicle_body_type      category      \n",
      " 4   violation_description  object        \n",
      " 5   violation_precinct     int32         \n",
      " 6   violation_county       category      \n",
      " 7   house_number           object        \n",
      " 8   street_name            object        \n",
      " 9   issue_datetime         datetime64[ns]\n",
      "dtypes: category(4), datetime64[ns](1), int32(1), object(4)\n",
      "memory usage: 1.6+ GB\n",
      "None\n"
     ]
    }
   ],
   "source": [
    "fff['plate_type'] = fff['plate_type'].astype('category')\n",
    "fff['registration_state'] = fff['registration_state'].astype('category')\n",
    "fff['vehicle_body_type'] = fff['vehicle_body_type'].astype('category')\n",
    "fff['violation_county'] = fff['violation_county'].astype('category')\n",
    "\n",
    "# Convert column 9 to datetime\n",
    "fff['issue_datetime'] = pd.to_datetime(fff['issue_datetime'])\n",
    "\n",
    "# Convert column 5 to int32\n",
    "fff['violation_precinct'] = fff['violation_precinct'].astype('int32')\n",
    "\n",
    "# Display the DataFrame info to verify the changes\n",
    "print(fff.info())"
   ]
  },
  {
   "cell_type": "markdown",
   "id": "e1dc46ed-efeb-4686-8fd7-7333e1f41281",
   "metadata": {},
   "source": [
    "## vehicle_body_type cleaning(Sergey)"
   ]
  },
  {
   "cell_type": "code",
   "execution_count": 5,
   "id": "a9f70348-00d5-43b7-bb97-215cf8afa440",
   "metadata": {},
   "outputs": [
    {
     "data": {
      "text/plain": [
       "3841"
      ]
     },
     "execution_count": 5,
     "metadata": {},
     "output_type": "execute_result"
    }
   ],
   "source": [
    "fff['vehicle_body_type'].nunique()"
   ]
  },
  {
   "cell_type": "code",
   "execution_count": 6,
   "id": "0aab39ed-8cbc-42e1-a7a7-7f6b6f662ef0",
   "metadata": {
    "tags": []
   },
   "outputs": [],
   "source": [
    " \n",
    "remap_vehicle_types = {\"SUBN\" : 'Suburban', \n",
    "                       \"4DSD\" : 'Sedan', \n",
    "                       \"VAN\": 'Van', \n",
    "                       \"DELV\" : 'Delivery Truck', \n",
    "                       \"SDN\" : 'Sedan', \n",
    "                       \"2DSD\": 'Sedan', \n",
    "                       \"PICK\" : 'Pickup', \n",
    "                       \"REFG\" : 'Refrigerator Trailer', \n",
    "                       \"TRAC\": 'Tractor', \n",
    "                       \"TAXI\" : 'Taxi', \n",
    "                       \"UTIL\" : 'Utility', \n",
    "                       \"4 DR\": '4 Door', \n",
    "                       \"CONV\" : 'Convertible', \n",
    "                       \"BUS\" : 'Bus', \n",
    "                       \"4D\": '4 Door', \n",
    "                       \"WAGO\" : 'Wagon', \n",
    "                       \"TK\" : 'Truck', \n",
    "                       \"MCY\": 'Motorcycle',\n",
    "                       \"TRLR\" : 'Trailer', \n",
    "                       \"SW\" : 'Wagon', \n",
    "                       \"P-U\": 'Pickup',\n",
    "                       \"4S\" : 'Sedan', \n",
    "                       \"FLAT\": 'Flat Bed Truck',\n",
    "                       \"T/CR\": 'Tractor Crane',\n",
    "                       \"TRAI\": 'Trailer'}"
   ]
  },
  {
   "cell_type": "code",
   "execution_count": 7,
   "id": "9922f9e2-e39c-461b-b5fd-c50bbceee3ed",
   "metadata": {
    "tags": []
   },
   "outputs": [],
   "source": [
    "fff['vehicle_body_type'] = fff['vehicle_body_type'].map(remap_vehicle_types).fillna('Others')"
   ]
  },
  {
   "cell_type": "code",
   "execution_count": 8,
   "id": "bdbc7719-f916-4f62-9f39-06d7f7922825",
   "metadata": {
    "tags": []
   },
   "outputs": [
    {
     "data": {
      "text/plain": [
       "vehicle_body_type\n",
       "Sedan                   11744653\n",
       "Suburban                10871161\n",
       "Van                      5594714\n",
       "Delivery Truck           2885806\n",
       "Pickup                    988192\n",
       "Refrigerator Trailer      321957\n",
       "Others                    288800\n",
       "Tractor                   275043\n",
       "Utility                   273099\n",
       "Taxi                      150301\n",
       "Trailer                   146386\n",
       "Bus                       144502\n",
       "Convertible               141773\n",
       "Motorcycle                 96151\n",
       "Truck                      74443\n",
       "Flat Bed Truck             51850\n",
       "Tractor Crane              43436\n",
       "Wagon                        516\n",
       "Name: count, dtype: int64"
      ]
     },
     "execution_count": 8,
     "metadata": {},
     "output_type": "execute_result"
    }
   ],
   "source": [
    "fff['vehicle_body_type'].value_counts()"
   ]
  },
  {
   "cell_type": "code",
   "execution_count": null,
   "id": "601eb476-aeba-4076-bd54-888d39370e2e",
   "metadata": {},
   "outputs": [],
   "source": []
  },
  {
   "cell_type": "markdown",
   "id": "407fe62b-1c20-4e44-97dc-a4a802266371",
   "metadata": {
    "tags": []
   },
   "source": [
    "## Street names cleaning"
   ]
  },
  {
   "cell_type": "code",
   "execution_count": 9,
   "id": "65800b1c-df37-4414-bdbd-13dad16bde66",
   "metadata": {
    "tags": []
   },
   "outputs": [
    {
     "data": {
      "text/plain": [
       "235604"
      ]
     },
     "execution_count": 9,
     "metadata": {},
     "output_type": "execute_result"
    }
   ],
   "source": [
    "fff.street_name.nunique()"
   ]
  },
  {
   "cell_type": "code",
   "execution_count": 10,
   "id": "b9c6e689-6747-4c67-b9b2-d93680967a4a",
   "metadata": {
    "tags": []
   },
   "outputs": [
    {
     "data": {
      "text/plain": [
       "street_name\n",
       "Broadway            836357\n",
       "3rd Ave             628769\n",
       "5th Ave             403012\n",
       "Madison Ave         384190\n",
       "Lexington Ave       326870\n",
       "2nd Ave             304693\n",
       "1st Ave             286894\n",
       "7th Ave             256528\n",
       "Queens Blvd         235521\n",
       "Amsterdam Ave       226250\n",
       "8th Ave             226167\n",
       "6th Ave             214954\n",
       "Jamaica Ave         186588\n",
       "Columbus Ave        166624\n",
       "Park Ave            165237\n",
       "37th Ave            154562\n",
       "Coney Island Ave    148448\n",
       "Roosevelt Ave       143246\n",
       "White Plains Rd     136623\n",
       "Nostrand Ave        123219\n",
       "9th Ave             120383\n",
       "Main St             114245\n",
       "Fulton St           111524\n",
       "Myrtle Ave          109893\n",
       "Jerome Ave          106472\n",
       "Atlantic Ave        105445\n",
       "Flatbush Ave        105016\n",
       "Northern Blvd        99696\n",
       "St Nicholas Ave      99463\n",
       "Steinway St          98049\n",
       "Name: count, dtype: int64"
      ]
     },
     "execution_count": 10,
     "metadata": {},
     "output_type": "execute_result"
    }
   ],
   "source": [
    "#most popular streets\n",
    "fff.street_name.value_counts().head(30)"
   ]
  },
  {
   "cell_type": "code",
   "execution_count": 11,
   "id": "a60b8921-eb11-49d3-b4f4-78689598fdaf",
   "metadata": {
    "tags": []
   },
   "outputs": [
    {
     "data": {
      "text/plain": [
       "street_name\n",
       "Broadway               836357\n",
       "W Broadway              42007\n",
       "E Broadway              28995\n",
       "E Broadway.              6272\n",
       "Broadway / 31st Lot      6245\n",
       "Old Broadway             1642\n",
       "Broadway Ter              383\n",
       "Broadway Aly              261\n",
       "Name: count, dtype: int64"
      ]
     },
     "execution_count": 11,
     "metadata": {},
     "output_type": "execute_result"
    }
   ],
   "source": [
    "fff[fff['street_name'].str.contains('Broadwa')].street_name.value_counts()"
   ]
  },
  {
   "cell_type": "markdown",
   "id": "ea2a30cd-96cb-4996-b209-566a99f5e964",
   "metadata": {
    "tags": []
   },
   "source": [
    "Issue: '.'"
   ]
  },
  {
   "cell_type": "code",
   "execution_count": 12,
   "id": "9d758914-d654-4a10-853b-5839b5a87505",
   "metadata": {
    "tags": []
   },
   "outputs": [
    {
     "data": {
      "text/plain": [
       "array(['73rd Pl', '83rd St', '63rd Dr', '63rd Rd', '43rd Ave', '103rd St',\n",
       "       '73rd St', '33rd St', '23rd St', '43rd St', '53rd Ave', '23rd Ave',\n",
       "       '63rd St', '23rd Rd', '33rd Ave', '63rd Ave', '93rd St', '33rd Rd',\n",
       "       'E 63rd St', 'W 73rd St', 'W 63rd St', '3rd Ave', '123rd St',\n",
       "       '73rd Rd', 'W 143rd St', 'E 93rd St', 'W 93rd St', 'W 183rd St',\n",
       "       '133rd Ave', 'W 53rd St', 'E 83rd St', 'E 73rd St', 'E 53rd St',\n",
       "       'E 153rd St', 'W 83rd St', 'W 103rd St', 'W 173rd St',\n",
       "       'W 163rd St', 'W 123rd St', 'E 123rd St', '163rd St',\n",
       "       'Brighton 3rd St', 'E 173rd St', 'E 163rd St', '243rd St',\n",
       "       '193rd St', 'W 3rd St', '173rd St', '73rd Ave', '3rd Pl',\n",
       "       'E 33rd St', 'E 3rd St', 'W 33rd St', 'E 23rd St', 'W 43rd St',\n",
       "       'E 43rd St', 'E 183rd St', 'W 233rd St', 'Bay 23rd St',\n",
       "       'E 203rd St', 'E 103rd St', 'W 153rd St', 'E 233rd St', 'S 3rd St',\n",
       "       'N 3rd St', '83rd Ave', '133rd St', '93rd Ave', '223rd St',\n",
       "       '133rd Rd', '153rd St', '3rd St', '263rd St', '183rd St',\n",
       "       'W 23rd St', '53rd St', 'W 133rd St', 'E 193rd St', '163rd Ave',\n",
       "       '253rd St', 'E 143rd St', 'Bay 43rd St', '143rd St',\n",
       "       'Beach 123rd St', '103rd Ave', 'Beach 63rd St', '43rd Rd',\n",
       "       '203rd St', '23rd Ter', '53rd Pl', 'W 193rd St',\n",
       "       'Paerdegat 3rd St', '93rd Rd', '233rd St', 'Beach 43rd St',\n",
       "       'E 223rd St', '223rd Pl', '53rd Rd', '53rd Dr', 'E 53rd Pl',\n",
       "       'Beach 133rd St', 'W 203rd St', 'E 133rd St', 'Beach 143rd St',\n",
       "       '123rd Ave', '143rd Ave', 'E 243rd St', '153rd Ave', '103rd Rd',\n",
       "       '83rd Dr', '83rd Rd', 'Flatlands 3rd St', '183rd Pl', '163rd Rd',\n",
       "       '143rd Rd', '23rd Dr', '63rd Pl', 'Beach 73rd St', '73rd Ter',\n",
       "       'Beach 3rd St', '133rd Pl', '163rd Dr', '163rd Pl', '83rd Pl',\n",
       "       'Beach 93rd St', 'Bay 53rd St', '153rd Pl', 'W 263rd St',\n",
       "       'W 253rd St', 'Beach 53rd St', '103rd Dr', '143rd Pl', '233rd Pl',\n",
       "       '153rd Ln', '253rd Pl', 'Banner 3rd Ter', '193rd Ln',\n",
       "       'Brighton 3rd Ct', '153rd Ct', 'Kingsborough 3rd Wal',\n",
       "       'Beach 83rd St', '13rd Ave', 'Beach 33rd St', '203rd Pl',\n",
       "       'Brighton 3rd Rd', '133rd Dr', 'Banner 3rd Rd', 'Brighton 3rd Pl',\n",
       "       'Beach 193rd St', 'Brighton 3rd Walk'], dtype=object)"
      ]
     },
     "execution_count": 12,
     "metadata": {},
     "output_type": "execute_result"
    }
   ],
   "source": [
    "fff[fff['street_name'].str.contains('3rd')].street_name.unique()"
   ]
  },
  {
   "cell_type": "code",
   "execution_count": 13,
   "id": "91690e37-4eb9-4b67-8022-3597e05b37b6",
   "metadata": {
    "tags": []
   },
   "outputs": [
    {
     "data": {
      "text/plain": [
       "street_name\n",
       "Broadway               836357\n",
       "W Broadway              42007\n",
       "E Broadway              28995\n",
       "E Broadway.              6272\n",
       "Broadway / 31st Lot      6245\n",
       "Old Broadway             1642\n",
       "Broadway Ter              383\n",
       "Broadway Aly              261\n",
       "Name: count, dtype: int64"
      ]
     },
     "execution_count": 13,
     "metadata": {},
     "output_type": "execute_result"
    }
   ],
   "source": [
    "#see variants of Broadway\n",
    "fff[fff['street_name'].str.contains('roadwa')].street_name.value_counts()"
   ]
  },
  {
   "cell_type": "markdown",
   "id": "6cf16887-1432-4a27-b6bd-c23f34611d66",
   "metadata": {},
   "source": [
    "Issues: 1 and the same street is mentioned with predirectional(W,E) or without it, dot in the end."
   ]
  },
  {
   "cell_type": "code",
   "execution_count": 14,
   "id": "4b6af5b3-d6f7-439d-98dd-9dc1f4d5017e",
   "metadata": {
    "tags": []
   },
   "outputs": [
    {
     "data": {
      "text/plain": [
       "216033"
      ]
     },
     "execution_count": 14,
     "metadata": {},
     "output_type": "execute_result"
    }
   ],
   "source": [
    "# Remove '.' \n",
    "fff['street_name'] = fff['street_name'].str.replace('.', '')\n",
    "\n",
    "# Remove 'W ' and 'E ' at the beginning\n",
    "fff['street_name'] = fff['street_name'].str.replace('W ', '')\n",
    "fff['street_name'] = fff['street_name'].str.replace('E ', '')\n",
    "\n",
    "fff.street_name.nunique()\n"
   ]
  },
  {
   "cell_type": "markdown",
   "id": "d1ea920b-2d89-429b-8fad-bfaef6b92f26",
   "metadata": {},
   "source": [
    "We filtered out about 20000 street names in data only with Broadway cleaning!"
   ]
  },
  {
   "cell_type": "code",
   "execution_count": 15,
   "id": "edba3dd1-aab0-44b2-9317-c474ae20b8b7",
   "metadata": {
    "tags": []
   },
   "outputs": [
    {
     "data": {
      "text/plain": [
       "street_name\n",
       "Broadway               913631\n",
       "Broadway / 31st Lot      6245\n",
       "Old Broadway             1642\n",
       "Broadway Ter              383\n",
       "Broadway Aly              261\n",
       "Name: count, dtype: int64"
      ]
     },
     "execution_count": 15,
     "metadata": {},
     "output_type": "execute_result"
    }
   ],
   "source": [
    "fff[fff['street_name'].str.contains('Broadwa')].street_name.value_counts()"
   ]
  },
  {
   "cell_type": "code",
   "execution_count": 82,
   "id": "112eb2c6-cacb-4940-850e-718d8c38b1d9",
   "metadata": {
    "tags": []
   },
   "outputs": [
    {
     "data": {
      "text/html": [
       "<div>\n",
       "<style scoped>\n",
       "    .dataframe tbody tr th:only-of-type {\n",
       "        vertical-align: middle;\n",
       "    }\n",
       "\n",
       "    .dataframe tbody tr th {\n",
       "        vertical-align: top;\n",
       "    }\n",
       "\n",
       "    .dataframe thead th {\n",
       "        text-align: right;\n",
       "    }\n",
       "</style>\n",
       "<table border=\"1\" class=\"dataframe\">\n",
       "  <thead>\n",
       "    <tr style=\"text-align: right;\">\n",
       "      <th></th>\n",
       "      <th>street_name</th>\n",
       "      <th>count</th>\n",
       "    </tr>\n",
       "  </thead>\n",
       "  <tbody>\n",
       "    <tr>\n",
       "      <th>0</th>\n",
       "      <td></td>\n",
       "      <td>44462</td>\n",
       "    </tr>\n",
       "    <tr>\n",
       "      <th>1</th>\n",
       "      <td>(is 216) on 174th st</td>\n",
       "      <td>1</td>\n",
       "    </tr>\n",
       "    <tr>\n",
       "      <th>2</th>\n",
       "      <td>(sidof) 45th lenox a</td>\n",
       "      <td>1</td>\n",
       "    </tr>\n",
       "    <tr>\n",
       "      <th>3</th>\n",
       "      <td>1001st st</td>\n",
       "      <td>1</td>\n",
       "    </tr>\n",
       "    <tr>\n",
       "      <th>4</th>\n",
       "      <td>10024th avej</td>\n",
       "      <td>1</td>\n",
       "    </tr>\n",
       "    <tr>\n",
       "      <th>...</th>\n",
       "      <td>...</td>\n",
       "      <td>...</td>\n",
       "    </tr>\n",
       "    <tr>\n",
       "      <th>172591</th>\n",
       "      <td>zullette</td>\n",
       "      <td>3</td>\n",
       "    </tr>\n",
       "    <tr>\n",
       "      <th>172592</th>\n",
       "      <td>zulvett ave</td>\n",
       "      <td>1</td>\n",
       "    </tr>\n",
       "    <tr>\n",
       "      <th>172593</th>\n",
       "      <td>zut 38y</td>\n",
       "      <td>1</td>\n",
       "    </tr>\n",
       "    <tr>\n",
       "      <th>172594</th>\n",
       "      <td>zvlett ave</td>\n",
       "      <td>1</td>\n",
       "    </tr>\n",
       "    <tr>\n",
       "      <th>172595</th>\n",
       "      <td>zwicky ave</td>\n",
       "      <td>25</td>\n",
       "    </tr>\n",
       "  </tbody>\n",
       "</table>\n",
       "<p>172596 rows × 2 columns</p>\n",
       "</div>"
      ],
      "text/plain": [
       "                 street_name  count\n",
       "0                             44462\n",
       "1       (is 216) on 174th st      1\n",
       "2       (sidof) 45th lenox a      1\n",
       "3                  1001st st      1\n",
       "4               10024th avej      1\n",
       "...                      ...    ...\n",
       "172591              zullette      3\n",
       "172592           zulvett ave      1\n",
       "172593               zut 38y      1\n",
       "172594            zvlett ave      1\n",
       "172595            zwicky ave     25\n",
       "\n",
       "[172596 rows x 2 columns]"
      ]
     },
     "execution_count": 82,
     "metadata": {},
     "output_type": "execute_result"
    }
   ],
   "source": [
    "street = fff.street_name.value_counts().sort_index().reset_index()\n",
    "street"
   ]
  },
  {
   "cell_type": "code",
   "execution_count": 55,
   "id": "1a3097cb-e939-40e9-b524-22abb2fd0742",
   "metadata": {
    "tags": []
   },
   "outputs": [
    {
     "data": {
      "text/plain": [
       "0                            \n",
       "1        (is 216) on 174th st\n",
       "2        (sidof) 45th lenox a\n",
       "3                         034\n",
       "4                     03rd st\n",
       "5                    048th st\n",
       "6                     04th st\n",
       "7                0th 138th st\n",
       "8                           1\n",
       "9                       1 ave\n",
       "10                         10\n",
       "11                     10 ave\n",
       "12                        100\n",
       "13                  1001st st\n",
       "14               10024th avej\n",
       "15                       1009\n",
       "16                    100f of\n",
       "17                      100ft\n",
       "18                 100n j ave\n",
       "19                     100s t\n",
       "20                      100st\n",
       "21                   100st st\n",
       "22                      100th\n",
       "23                   100th 01\n",
       "24            100th 127th ave\n",
       "25            100th 133rd ave\n",
       "26            100th 134th ave\n",
       "27             100th 170th st\n",
       "28              100th 28th st\n",
       "29              100th 31st rd\n",
       "30      100th 5251cloverdaleb\n",
       "31              100th 5th ave\n",
       "32             100th adams io\n",
       "33            100th atforp he\n",
       "34                  100th ave\n",
       "35                 100th avve\n",
       "36         100th bay ridg ave\n",
       "37       100th baychester ave\n",
       "38            100th bedell st\n",
       "39    100th borth of 49th ave\n",
       "40         100th cn of boerum\n",
       "41         100th cn of cadman\n",
       "42       100th cn of schermer\n",
       "43           100th cn of york\n",
       "44        100th cn of york st\n",
       "45                100th co 13\n",
       "46          100th co 203rd st\n",
       "47               100th co 235\n",
       "48          100th co 57th ave\n",
       "49           100th co 66th st\n",
       "50        100th co beach 32nd\n",
       "51             100th co dover\n",
       "52       100th co jackson ave\n",
       "53        100th co marion ave\n",
       "54       100th co of schermer\n",
       "55                   100th dr\n",
       "56                100th drive\n",
       "57                   100th dt\n",
       "58          100th eb of marcy\n",
       "59       100th en bond ny ave\n",
       "Name: street_name, dtype: object"
      ]
     },
     "execution_count": 55,
     "metadata": {},
     "output_type": "execute_result"
    }
   ],
   "source": [
    "street.street_name.sort_values().head(60)"
   ]
  },
  {
   "cell_type": "code",
   "execution_count": null,
   "id": "a9daeeb6-64cf-4f29-ba0e-2a6e7bb75c49",
   "metadata": {
    "tags": []
   },
   "outputs": [],
   "source": [
    "street.street_name.sort_values().sample(60)"
   ]
  },
  {
   "cell_type": "code",
   "execution_count": 57,
   "id": "ea069ec2-f99c-4c98-992d-1f97d0b1efea",
   "metadata": {
    "tags": []
   },
   "outputs": [
    {
     "data": {
      "text/plain": [
       "173703                 zeck ct\n",
       "173704               zedeg ave\n",
       "173705               zeger ave\n",
       "173706              zegreg ave\n",
       "173707               zeieg ave\n",
       "173708               zelzer pl\n",
       "173709               zeneg ave\n",
       "173710                  zenega\n",
       "173711               zenion st\n",
       "173712              zephyr ave\n",
       "173713               zerag ave\n",
       "173714                zerc ave\n",
       "173715                   zerea\n",
       "173716               zereb ave\n",
       "173717               zerec ave\n",
       "173718              zeredg ave\n",
       "173719                   zereg\n",
       "173720               zereg ave\n",
       "173721                  zerega\n",
       "173722              zerega ave\n",
       "173723             zereger ave\n",
       "173724                  zeregu\n",
       "173725              zeregu ave\n",
       "173726               zereh ave\n",
       "173727              zererg ave\n",
       "173728                zerg ave\n",
       "173729               zerge ave\n",
       "173730              zergeg ave\n",
       "173731               zerrg ave\n",
       "173732               zeveg ave\n",
       "173733                 zion st\n",
       "173734              zivoni ave\n",
       "173735               znanga pl\n",
       "173736                   zo rd\n",
       "173737                zo river\n",
       "173738             zo thys ali\n",
       "173739                  zoe st\n",
       "173740              zoeller rd\n",
       "173741                    zola\n",
       "173742               zoller rd\n",
       "173743                     zoo\n",
       "173744                  zoo st\n",
       "173745               zoreg ave\n",
       "173746                    zost\n",
       "173747            zr mynem rme\n",
       "173748    zsinljksia isdwiuidn\n",
       "173749              ztlett ave\n",
       "173750        zttmnwhzmwmmrhyi\n",
       "173751              zulett ave\n",
       "173752                zulettav\n",
       "173753                 zulette\n",
       "173754             zulette ave\n",
       "173755              zullet ave\n",
       "173756             zullett ave\n",
       "173757               zullettav\n",
       "173758                zullette\n",
       "173759             zulvett ave\n",
       "173760                 zut 38y\n",
       "173761              zvlett ave\n",
       "173762              zwicky ave\n",
       "Name: street_name, dtype: object"
      ]
     },
     "execution_count": 57,
     "metadata": {},
     "output_type": "execute_result"
    }
   ],
   "source": [
    "street.street_name.sort_values().tail(60)"
   ]
  },
  {
   "cell_type": "markdown",
   "id": "a925ebe4-08c8-4869-b2d9-156264b39a02",
   "metadata": {
    "tags": []
   },
   "source": [
    "Issues in streets.street_name: make lower case, remove leading and trailing whitespaces, drop '.', '`', 'E', 'W'\n",
    "replace 'street'> 'st',... Let's clean them."
   ]
  },
  {
   "cell_type": "markdown",
   "id": "a929afe8-9755-4da7-ae08-43f86eafbc74",
   "metadata": {},
   "source": [
    "First try on a street df"
   ]
  },
  {
   "cell_type": "code",
   "execution_count": 81,
   "id": "1131495b-6a36-43b3-8589-2fbdd76f2047",
   "metadata": {
    "tags": []
   },
   "outputs": [
    {
     "name": "stdout",
     "output_type": "stream",
     "text": [
      "Unique street names after transformations: 172596\n"
     ]
    }
   ],
   "source": [
    "# the same with fff\n",
    "fff['street_name'] = (\n",
    "    fff['street_name']\n",
    "    .str.lower()  # Convert txxo lower case\n",
    "    .str.strip()  # Remove leading and trailing whitespaces\n",
    "    .str.replace('.|`|,|#|_|/|-', '')  # Remove dots,backticks...\n",
    "    .str.replace('street', 'st')\n",
    "    .str.replace('stereet', 'st')\n",
    "    .str.replace('streeet', 'st')# Replace 'street' with 'st'\n",
    "    .str.replace('strt', 'st')\n",
    "    .str.replace('stq', 'st')\n",
    "    .str.replace('stt', 'st')\n",
    "    .str.replace('steet', 'st')\n",
    "    .str.replace('sreet', 'st')\n",
    "    .str.replace('sret', 'st')\n",
    "    .str.replace('str', 'st')\n",
    "    .str.replace('srt', 'st')\n",
    "    .str.replace('treet', 'st')\n",
    "    .str.replace('ae', 'ave')\n",
    "    .str.replace('`', '')  # Remove backticks\n",
    "    .str.replace(',', '')\n",
    "    .str.replace('#', '')\n",
    "    .str.replace('-', '')\n",
    "    .str.replace('+', '')\n",
    "    .str.replace('/', '')\n",
    "    .str.replace('road', 'rd')\n",
    "    .str.replace('avenue', 'ave')\n",
    "    .str.replace('avny', 'ave')\n",
    "    .str.replace('avco', 'ave')\n",
    "    .str.replace('avwe', 'ave')\n",
    "    .str.replace('avene', 'ave')\n",
    "    .str.replace('aven', 'ave')\n",
    "    .str.replace('ae', 'ave')\n",
    "    .str.replace('avnue', 'ave')\n",
    "    .str.replace('abe', 'ave')\n",
    "    .str.replace('av enue', 'ave')\n",
    "    .str.replace(' a v', 'ave')\n",
    "    .str.replace('avon', 'ave')\n",
    "    .str.replace('a ave', 'ave')\n",
    "    .str.replace('avewnue', 'ave')\n",
    "    .str.replace('ase', 'ave')\n",
    "    .str.replace('aver', 'ave')\n",
    "    .str.replace('aveuie', 'ave')\n",
    "    .str.replace('ave ny', 'ave')\n",
    "    .str.replace('ave0', 'ave')\n",
    "    .str.replace('aveu3', 'ave')\n",
    "    .str.replace('ave3', 'ave')\n",
    "    .str.replace('avw', 'ave')\n",
    "    .str.replace('avi', 'ave')\n",
    "    .str.replace('aveq', 'ave')\n",
    "    .str.replace('aves', 'ave')\n",
    "    .str.replace('avge', 'ave')\n",
    "    .str.replace('brdway', 'broadway')\n",
    "    .str.replace('place', 'pl')\n",
    "    .str.replace('pk', 'park')\n",
    "    .str.replace('1 ', '1st ')\n",
    "    .str.replace('2 ', '2nd ')\n",
    "    .str.replace('3 ', '3rd ')\n",
    "    .str.replace('4 ', '4th ')\n",
    "    .str.replace('5 ', '5th ')\n",
    "    .str.replace('6 ', '6th ')\n",
    "    .str.replace('7 ', '7th ')\n",
    "    .str.replace('8 ', '8th ')\n",
    "    .str.replace('9 ', '9th ')\n",
    "    .str.replace('0 ', '0th ')\n",
    "    .str.replace(' rd', 'rd')\n",
    "    .str.replace(' nd', 'nd')\n",
    "    .str.replace('park lot', '')\n",
    "    .str.replace('parking lot', '')\n",
    "    .str.replace('parkg', '')\n",
    "    .str.replace('parkg lot', '')\n",
    "    .str.replace('crec', 'crescent')\n",
    "    .str.replace('cresc', 'crescent')\n",
    "    .str.replace('cress', 'crescent')\n",
    "    .str.replace('crest', 'crescent')\n",
    "    .str.replace('crsct', 'crescent')\n",
    "    .str.replace('creston', 'crescent')\n",
    "    .str.replace('crecent', 'crescent')\n",
    "    .str.replace('cresant', 'crescent')\n",
    "    .str.replace('cresent', 'crescent')\n",
    "    .str.replace(r'blg\\b', 'blvd', regex=True)\n",
    "    .str.replace(r' bl\\b', ' blvd', regex=True)\n",
    "    .str.replace(r' bd\\b', ' blvd', regex=True)\n",
    "    .str.replace('blvdvd', 'blvd')\n",
    "    .str.replace(r'\\d+ft ', '', regex=True)\n",
    "    .str.replace('1000th ', '')\n",
    "    .str.replace(r'\\d+th ft ', '', regex=True)\n",
    "    .str.replace(r'^0+',  '',regex=True)\n",
    "    .str.replace(r'\\d+th co ', '',regex=True)\n",
    "    .str.replace(r'\\d+th eo ', '',regex=True)\n",
    "    .str.replace(r'\\d+th from', '',regex=True)\n",
    "    .str.replace(r'\\d+th cn of', '',regex=True)\n",
    "    .str.replace(r'\\d+th nco', '',regex=True)\n",
    "    .str.replace('  ', ' ')\n",
    "    .str.replace(r'\\d+th no', '',regex=True)\n",
    "    .str.replace(r'\\d+th  so', '',regex=True)\n",
    "    .str.replace(r'\\d+th of', '',regex=True)\n",
    "    .str.replace('100th  co', '',regex=True)\n",
    "    .str.replace('east ', '')\n",
    "    .str.replace('away', '')\n",
    "    .str.replace('west', '')\n",
    "    .str.replace('wof ', '')\n",
    "    .str.replace('south of ', '')\n",
    "    .str.replace('north of ', '')\n",
    "    .str.replace('  ', ' ')\n",
    "    .str.replace(r' av$', ' ave', regex=True)\n",
    "    .str.replace(r'^\\d+$', '',regex=True)\n",
    "    .str.replace(r'(\\w)(ave)\\b', r'\\1 \\2', regex=True)\n",
    "    .str.replace(r'(\\D)(rd)\\b', r'\\1 \\2', regex=True)\n",
    "    .str.replace(r'(\\w)(str)\\b', r'\\1 \\2', regex=True)\n",
    "    .str.replace(r'a rd\\b', 'ard', regex=True)\n",
    "    .str.replace(r'o rd\\b', 'ord', regex=True)\n",
    "    .str.replace(r'e rd\\b', 'erd', regex=True)\n",
    "    .str.replace(r'jamaic\\b', 'jamaica',regex=True )\n",
    "\n",
    "    .str.strip()\n",
    ")\n",
    "\n",
    "\n",
    "# Display unique street names after transformations\n",
    "print(\"Unique street names after transformations:\", fff['street_name'].nunique())"
   ]
  },
  {
   "cell_type": "code",
   "execution_count": 88,
   "id": "4cb22aed-186b-4f75-85d4-413a7375da90",
   "metadata": {
    "tags": []
   },
   "outputs": [
    {
     "data": {
      "text/plain": [
       "street_name\n",
       "broadway                 988580\n",
       "3rd ave                  697007\n",
       "5th ave                  448735\n",
       "madison ave              411574\n",
       "lexington ave            353496\n",
       "                          ...  \n",
       "shcenck st                    1\n",
       "fo 10440th coron ave          1\n",
       "320th w15351                  1\n",
       "deccatur st                   1\n",
       "so terminal 6th jfkia         1\n",
       "Name: count, Length: 172596, dtype: int64"
      ]
     },
     "execution_count": 88,
     "metadata": {},
     "output_type": "execute_result"
    }
   ],
   "source": [
    "fff.street_name.value_counts().tail()"
   ]
  },
  {
   "cell_type": "code",
   "execution_count": 89,
   "id": "0e92af16-17ea-40d3-b96c-7d5a69e40f2b",
   "metadata": {
    "tags": []
   },
   "outputs": [
    {
     "name": "stdout",
     "output_type": "stream",
     "text": [
      "<class 'pandas.core.frame.DataFrame'>\n",
      "RangeIndex: 34092783 entries, 0 to 34092782\n",
      "Data columns (total 10 columns):\n",
      " #   Column                 Dtype         \n",
      "---  ------                 -----         \n",
      " 0   plate_id               object        \n",
      " 1   plate_type             category      \n",
      " 2   registration_state     category      \n",
      " 3   vehicle_body_type      object        \n",
      " 4   violation_description  object        \n",
      " 5   violation_precinct     int32         \n",
      " 6   violation_county       category      \n",
      " 7   house_number           object        \n",
      " 8   street_name            object        \n",
      " 9   issue_datetime         datetime64[ns]\n",
      "dtypes: category(3), datetime64[ns](1), int32(1), object(5)\n",
      "memory usage: 1.7+ GB\n"
     ]
    }
   ],
   "source": [
    "fff.info()"
   ]
  },
  {
   "cell_type": "code",
   "execution_count": 90,
   "id": "faf8d052-18ce-404a-9cce-81d64be735c8",
   "metadata": {
    "tags": []
   },
   "outputs": [
    {
     "data": {
      "text/html": [
       "<div>\n",
       "<style scoped>\n",
       "    .dataframe tbody tr th:only-of-type {\n",
       "        vertical-align: middle;\n",
       "    }\n",
       "\n",
       "    .dataframe tbody tr th {\n",
       "        vertical-align: top;\n",
       "    }\n",
       "\n",
       "    .dataframe thead th {\n",
       "        text-align: right;\n",
       "    }\n",
       "</style>\n",
       "<table border=\"1\" class=\"dataframe\">\n",
       "  <thead>\n",
       "    <tr style=\"text-align: right;\">\n",
       "      <th></th>\n",
       "      <th>missing</th>\n",
       "      <th>total</th>\n",
       "      <th>percent</th>\n",
       "    </tr>\n",
       "  </thead>\n",
       "  <tbody>\n",
       "    <tr>\n",
       "      <th>house_number</th>\n",
       "      <td>609567</td>\n",
       "      <td>34092783</td>\n",
       "      <td>1.787965</td>\n",
       "    </tr>\n",
       "    <tr>\n",
       "      <th>plate_id</th>\n",
       "      <td>0</td>\n",
       "      <td>34092783</td>\n",
       "      <td>0.000000</td>\n",
       "    </tr>\n",
       "    <tr>\n",
       "      <th>plate_type</th>\n",
       "      <td>0</td>\n",
       "      <td>34092783</td>\n",
       "      <td>0.000000</td>\n",
       "    </tr>\n",
       "    <tr>\n",
       "      <th>registration_state</th>\n",
       "      <td>0</td>\n",
       "      <td>34092783</td>\n",
       "      <td>0.000000</td>\n",
       "    </tr>\n",
       "    <tr>\n",
       "      <th>vehicle_body_type</th>\n",
       "      <td>0</td>\n",
       "      <td>34092783</td>\n",
       "      <td>0.000000</td>\n",
       "    </tr>\n",
       "    <tr>\n",
       "      <th>violation_description</th>\n",
       "      <td>0</td>\n",
       "      <td>34092783</td>\n",
       "      <td>0.000000</td>\n",
       "    </tr>\n",
       "    <tr>\n",
       "      <th>violation_precinct</th>\n",
       "      <td>0</td>\n",
       "      <td>34092783</td>\n",
       "      <td>0.000000</td>\n",
       "    </tr>\n",
       "    <tr>\n",
       "      <th>violation_county</th>\n",
       "      <td>0</td>\n",
       "      <td>34092783</td>\n",
       "      <td>0.000000</td>\n",
       "    </tr>\n",
       "    <tr>\n",
       "      <th>street_name</th>\n",
       "      <td>0</td>\n",
       "      <td>34092783</td>\n",
       "      <td>0.000000</td>\n",
       "    </tr>\n",
       "    <tr>\n",
       "      <th>issue_datetime</th>\n",
       "      <td>0</td>\n",
       "      <td>34092783</td>\n",
       "      <td>0.000000</td>\n",
       "    </tr>\n",
       "  </tbody>\n",
       "</table>\n",
       "</div>"
      ],
      "text/plain": [
       "                       missing     total   percent\n",
       "house_number            609567  34092783  1.787965\n",
       "plate_id                     0  34092783  0.000000\n",
       "plate_type                   0  34092783  0.000000\n",
       "registration_state           0  34092783  0.000000\n",
       "vehicle_body_type            0  34092783  0.000000\n",
       "violation_description        0  34092783  0.000000\n",
       "violation_precinct           0  34092783  0.000000\n",
       "violation_county             0  34092783  0.000000\n",
       "street_name                  0  34092783  0.000000\n",
       "issue_datetime               0  34092783  0.000000"
      ]
     },
     "execution_count": 90,
     "metadata": {},
     "output_type": "execute_result"
    }
   ],
   "source": [
    "fff.stb.missing()"
   ]
  },
  {
   "cell_type": "markdown",
   "id": "fac7a451-9f2a-4d12-bd40-c93cdae2ae12",
   "metadata": {},
   "source": [
    "We have 1.7+GB of data in 10 columns 34092783 rows, 1.79% of house number values are missing.\n",
    "\n",
    "## Exclude one issue streets"
   ]
  },
  {
   "cell_type": "code",
   "execution_count": 91,
   "id": "69ff504c-05bd-4869-aa0d-136753853dee",
   "metadata": {
    "tags": []
   },
   "outputs": [
    {
     "data": {
      "text/html": [
       "<div>\n",
       "<style scoped>\n",
       "    .dataframe tbody tr th:only-of-type {\n",
       "        vertical-align: middle;\n",
       "    }\n",
       "\n",
       "    .dataframe tbody tr th {\n",
       "        vertical-align: top;\n",
       "    }\n",
       "\n",
       "    .dataframe thead th {\n",
       "        text-align: right;\n",
       "    }\n",
       "</style>\n",
       "<table border=\"1\" class=\"dataframe\">\n",
       "  <thead>\n",
       "    <tr style=\"text-align: right;\">\n",
       "      <th></th>\n",
       "      <th>street_name</th>\n",
       "      <th>count</th>\n",
       "    </tr>\n",
       "  </thead>\n",
       "  <tbody>\n",
       "    <tr>\n",
       "      <th>0</th>\n",
       "      <td>broadway</td>\n",
       "      <td>988580</td>\n",
       "    </tr>\n",
       "    <tr>\n",
       "      <th>1</th>\n",
       "      <td>3rd ave</td>\n",
       "      <td>697007</td>\n",
       "    </tr>\n",
       "    <tr>\n",
       "      <th>2</th>\n",
       "      <td>5th ave</td>\n",
       "      <td>448735</td>\n",
       "    </tr>\n",
       "    <tr>\n",
       "      <th>3</th>\n",
       "      <td>madison ave</td>\n",
       "      <td>411574</td>\n",
       "    </tr>\n",
       "    <tr>\n",
       "      <th>4</th>\n",
       "      <td>lexington ave</td>\n",
       "      <td>353496</td>\n",
       "    </tr>\n",
       "    <tr>\n",
       "      <th>...</th>\n",
       "      <td>...</td>\n",
       "      <td>...</td>\n",
       "    </tr>\n",
       "    <tr>\n",
       "      <th>172591</th>\n",
       "      <td>shcenck st</td>\n",
       "      <td>1</td>\n",
       "    </tr>\n",
       "    <tr>\n",
       "      <th>172592</th>\n",
       "      <td>fo 10440th coron ave</td>\n",
       "      <td>1</td>\n",
       "    </tr>\n",
       "    <tr>\n",
       "      <th>172593</th>\n",
       "      <td>320th w15351</td>\n",
       "      <td>1</td>\n",
       "    </tr>\n",
       "    <tr>\n",
       "      <th>172594</th>\n",
       "      <td>deccatur st</td>\n",
       "      <td>1</td>\n",
       "    </tr>\n",
       "    <tr>\n",
       "      <th>172595</th>\n",
       "      <td>so terminal 6th jfkia</td>\n",
       "      <td>1</td>\n",
       "    </tr>\n",
       "  </tbody>\n",
       "</table>\n",
       "<p>172596 rows × 2 columns</p>\n",
       "</div>"
      ],
      "text/plain": [
       "                  street_name   count\n",
       "0                    broadway  988580\n",
       "1                     3rd ave  697007\n",
       "2                     5th ave  448735\n",
       "3                 madison ave  411574\n",
       "4               lexington ave  353496\n",
       "...                       ...     ...\n",
       "172591             shcenck st       1\n",
       "172592   fo 10440th coron ave       1\n",
       "172593           320th w15351       1\n",
       "172594            deccatur st       1\n",
       "172595  so terminal 6th jfkia       1\n",
       "\n",
       "[172596 rows x 2 columns]"
      ]
     },
     "execution_count": 91,
     "metadata": {},
     "output_type": "execute_result"
    }
   ],
   "source": [
    "#check number of cases per street\n",
    "str_count= fff.street_name.value_counts().reset_index()\n",
    "str_count"
   ]
  },
  {
   "cell_type": "code",
   "execution_count": 92,
   "id": "3e11d769-4a73-4372-9fa2-581b56ccba3a",
   "metadata": {
    "tags": []
   },
   "outputs": [
    {
     "data": {
      "text/html": [
       "<div>\n",
       "<style scoped>\n",
       "    .dataframe tbody tr th:only-of-type {\n",
       "        vertical-align: middle;\n",
       "    }\n",
       "\n",
       "    .dataframe tbody tr th {\n",
       "        vertical-align: top;\n",
       "    }\n",
       "\n",
       "    .dataframe thead th {\n",
       "        text-align: right;\n",
       "    }\n",
       "</style>\n",
       "<table border=\"1\" class=\"dataframe\">\n",
       "  <thead>\n",
       "    <tr style=\"text-align: right;\">\n",
       "      <th></th>\n",
       "      <th>street_name</th>\n",
       "      <th>count</th>\n",
       "    </tr>\n",
       "  </thead>\n",
       "  <tbody>\n",
       "    <tr>\n",
       "      <th>56410</th>\n",
       "      <td>wb sn 7th</td>\n",
       "      <td>1</td>\n",
       "    </tr>\n",
       "    <tr>\n",
       "      <th>56411</th>\n",
       "      <td>manaham ave</td>\n",
       "      <td>1</td>\n",
       "    </tr>\n",
       "    <tr>\n",
       "      <th>56412</th>\n",
       "      <td>sb io lexington ave</td>\n",
       "      <td>1</td>\n",
       "    </tr>\n",
       "    <tr>\n",
       "      <th>56413</th>\n",
       "      <td>flatbush avne</td>\n",
       "      <td>1</td>\n",
       "    </tr>\n",
       "    <tr>\n",
       "      <th>56414</th>\n",
       "      <td>desarc dr</td>\n",
       "      <td>1</td>\n",
       "    </tr>\n",
       "    <tr>\n",
       "      <th>...</th>\n",
       "      <td>...</td>\n",
       "      <td>...</td>\n",
       "    </tr>\n",
       "    <tr>\n",
       "      <th>172591</th>\n",
       "      <td>shcenck st</td>\n",
       "      <td>1</td>\n",
       "    </tr>\n",
       "    <tr>\n",
       "      <th>172592</th>\n",
       "      <td>fo 10440th coron ave</td>\n",
       "      <td>1</td>\n",
       "    </tr>\n",
       "    <tr>\n",
       "      <th>172593</th>\n",
       "      <td>320th w15351</td>\n",
       "      <td>1</td>\n",
       "    </tr>\n",
       "    <tr>\n",
       "      <th>172594</th>\n",
       "      <td>deccatur st</td>\n",
       "      <td>1</td>\n",
       "    </tr>\n",
       "    <tr>\n",
       "      <th>172595</th>\n",
       "      <td>so terminal 6th jfkia</td>\n",
       "      <td>1</td>\n",
       "    </tr>\n",
       "  </tbody>\n",
       "</table>\n",
       "<p>116186 rows × 2 columns</p>\n",
       "</div>"
      ],
      "text/plain": [
       "                  street_name  count\n",
       "56410               wb sn 7th      1\n",
       "56411             manaham ave      1\n",
       "56412     sb io lexington ave      1\n",
       "56413           flatbush avne      1\n",
       "56414               desarc dr      1\n",
       "...                       ...    ...\n",
       "172591             shcenck st      1\n",
       "172592   fo 10440th coron ave      1\n",
       "172593           320th w15351      1\n",
       "172594            deccatur st      1\n",
       "172595  so terminal 6th jfkia      1\n",
       "\n",
       "[116186 rows x 2 columns]"
      ]
     },
     "execution_count": 92,
     "metadata": {},
     "output_type": "execute_result"
    }
   ],
   "source": [
    "#find streets which had issues only once\n",
    "str_count[str_count['count']==1]\n"
   ]
  },
  {
   "cell_type": "code",
   "execution_count": 93,
   "id": "dd4596c2-a6ff-4015-881a-6bd3447d04fc",
   "metadata": {
    "tags": []
   },
   "outputs": [
    {
     "data": {
      "text/plain": [
       "0.6731673966951726"
      ]
     },
     "execution_count": 93,
     "metadata": {},
     "output_type": "execute_result"
    }
   ],
   "source": [
    "# find the share of these streets\n",
    "116186/len(str_count)"
   ]
  },
  {
   "cell_type": "code",
   "execution_count": 94,
   "id": "7b0d8ca5-fa75-44b9-94b7-5cb73d8c0180",
   "metadata": {
    "tags": []
   },
   "outputs": [
    {
     "data": {
      "text/html": [
       "<div>\n",
       "<style scoped>\n",
       "    .dataframe tbody tr th:only-of-type {\n",
       "        vertical-align: middle;\n",
       "    }\n",
       "\n",
       "    .dataframe tbody tr th {\n",
       "        vertical-align: top;\n",
       "    }\n",
       "\n",
       "    .dataframe thead th {\n",
       "        text-align: right;\n",
       "    }\n",
       "</style>\n",
       "<table border=\"1\" class=\"dataframe\">\n",
       "  <thead>\n",
       "    <tr style=\"text-align: right;\">\n",
       "      <th></th>\n",
       "      <th>street_name</th>\n",
       "      <th>count</th>\n",
       "    </tr>\n",
       "  </thead>\n",
       "  <tbody>\n",
       "    <tr>\n",
       "      <th>5200</th>\n",
       "      <td>burchell ave</td>\n",
       "      <td>99</td>\n",
       "    </tr>\n",
       "    <tr>\n",
       "      <th>5201</th>\n",
       "      <td>queen blvd</td>\n",
       "      <td>99</td>\n",
       "    </tr>\n",
       "    <tr>\n",
       "      <th>5202</th>\n",
       "      <td>bx park e</td>\n",
       "      <td>99</td>\n",
       "    </tr>\n",
       "    <tr>\n",
       "      <th>5203</th>\n",
       "      <td>81st rd</td>\n",
       "      <td>99</td>\n",
       "    </tr>\n",
       "    <tr>\n",
       "      <th>5204</th>\n",
       "      <td>fillmor ave</td>\n",
       "      <td>99</td>\n",
       "    </tr>\n",
       "    <tr>\n",
       "      <th>...</th>\n",
       "      <td>...</td>\n",
       "      <td>...</td>\n",
       "    </tr>\n",
       "    <tr>\n",
       "      <th>172591</th>\n",
       "      <td>shcenck st</td>\n",
       "      <td>1</td>\n",
       "    </tr>\n",
       "    <tr>\n",
       "      <th>172592</th>\n",
       "      <td>fo 10440th coron ave</td>\n",
       "      <td>1</td>\n",
       "    </tr>\n",
       "    <tr>\n",
       "      <th>172593</th>\n",
       "      <td>320th w15351</td>\n",
       "      <td>1</td>\n",
       "    </tr>\n",
       "    <tr>\n",
       "      <th>172594</th>\n",
       "      <td>deccatur st</td>\n",
       "      <td>1</td>\n",
       "    </tr>\n",
       "    <tr>\n",
       "      <th>172595</th>\n",
       "      <td>so terminal 6th jfkia</td>\n",
       "      <td>1</td>\n",
       "    </tr>\n",
       "  </tbody>\n",
       "</table>\n",
       "<p>167396 rows × 2 columns</p>\n",
       "</div>"
      ],
      "text/plain": [
       "                  street_name  count\n",
       "5200             burchell ave     99\n",
       "5201               queen blvd     99\n",
       "5202                bx park e     99\n",
       "5203                  81st rd     99\n",
       "5204              fillmor ave     99\n",
       "...                       ...    ...\n",
       "172591             shcenck st      1\n",
       "172592   fo 10440th coron ave      1\n",
       "172593           320th w15351      1\n",
       "172594            deccatur st      1\n",
       "172595  so terminal 6th jfkia      1\n",
       "\n",
       "[167396 rows x 2 columns]"
      ]
     },
     "execution_count": 94,
     "metadata": {},
     "output_type": "execute_result"
    }
   ],
   "source": [
    "# find streets which had  <100 issues\n",
    "str_count[str_count['count']< 100]"
   ]
  },
  {
   "cell_type": "code",
   "execution_count": 95,
   "id": "38189b6e-1b50-4ac6-aae9-3e1bcafb0fc6",
   "metadata": {
    "tags": []
   },
   "outputs": [
    {
     "data": {
      "text/plain": [
       "0.9698718394400797"
      ]
     },
     "execution_count": 95,
     "metadata": {},
     "output_type": "execute_result"
    }
   ],
   "source": [
    "167396/len(str_count)"
   ]
  },
  {
   "cell_type": "markdown",
   "id": "656d5ab9-df22-41b3-bf7f-94d41be4e40d",
   "metadata": {},
   "source": [
    "67% of all street appear in fff only once, 97% of all streets have less than 100 issues in 4 years. Let's find their share in the whole fff."
   ]
  },
  {
   "cell_type": "code",
   "execution_count": 96,
   "id": "287ca0c9-0663-4dd1-a09d-44c27e0767ce",
   "metadata": {
    "tags": []
   },
   "outputs": [
    {
     "name": "stdout",
     "output_type": "stream",
     "text": [
      "<class 'pandas.core.frame.DataFrame'>\n",
      "Index: 116186 entries, 10 to 34092778\n",
      "Data columns (total 10 columns):\n",
      " #   Column                 Non-Null Count   Dtype         \n",
      "---  ------                 --------------   -----         \n",
      " 0   plate_id               116186 non-null  object        \n",
      " 1   plate_type             116186 non-null  category      \n",
      " 2   registration_state     116186 non-null  category      \n",
      " 3   vehicle_body_type      116186 non-null  object        \n",
      " 4   violation_description  116186 non-null  object        \n",
      " 5   violation_precinct     116186 non-null  int32         \n",
      " 6   violation_county       116186 non-null  category      \n",
      " 7   house_number           45928 non-null   object        \n",
      " 8   street_name            116186 non-null  object        \n",
      " 9   issue_datetime         116186 non-null  datetime64[ns]\n",
      "dtypes: category(3), datetime64[ns](1), int32(1), object(5)\n",
      "memory usage: 7.0+ MB\n"
     ]
    }
   ],
   "source": [
    "# Filter out rows where 'street_name' appear only once\n",
    "threshold = 1\n",
    "counts = fff['street_name'].value_counts()\n",
    "desired_values = counts[counts <= threshold].index\n",
    "one_issue = fff[fff['street_name'].isin(desired_values)]\n",
    "\n",
    "one_issue.info()"
   ]
  },
  {
   "cell_type": "code",
   "execution_count": 30,
   "id": "7cd5b279-c781-4471-b34e-9eac4622537f",
   "metadata": {
    "tags": []
   },
   "outputs": [
    {
     "data": {
      "text/plain": [
       "0.0034297581397212426"
      ]
     },
     "execution_count": 30,
     "metadata": {},
     "output_type": "execute_result"
    }
   ],
   "source": [
    "len(one_issue)/len(fff)"
   ]
  },
  {
   "cell_type": "markdown",
   "id": "7f843b64-7598-4430-ac77-5660e1282859",
   "metadata": {},
   "source": [
    "So these streets appear in data only once(mostly typos and errors), constitute 0.34% of data but 67.3% of all streets."
   ]
  },
  {
   "cell_type": "code",
   "execution_count": 31,
   "id": "4337df94-b054-49e7-b818-885e62f417c3",
   "metadata": {
    "tags": []
   },
   "outputs": [
    {
     "data": {
      "text/html": [
       "<div>\n",
       "<style scoped>\n",
       "    .dataframe tbody tr th:only-of-type {\n",
       "        vertical-align: middle;\n",
       "    }\n",
       "\n",
       "    .dataframe tbody tr th {\n",
       "        vertical-align: top;\n",
       "    }\n",
       "\n",
       "    .dataframe thead th {\n",
       "        text-align: right;\n",
       "    }\n",
       "</style>\n",
       "<table border=\"1\" class=\"dataframe\">\n",
       "  <thead>\n",
       "    <tr style=\"text-align: right;\">\n",
       "      <th></th>\n",
       "      <th>missing</th>\n",
       "      <th>total</th>\n",
       "      <th>percent</th>\n",
       "    </tr>\n",
       "  </thead>\n",
       "  <tbody>\n",
       "    <tr>\n",
       "      <th>house_number</th>\n",
       "      <td>70718</td>\n",
       "      <td>116930</td>\n",
       "      <td>60.478919</td>\n",
       "    </tr>\n",
       "    <tr>\n",
       "      <th>plate_id</th>\n",
       "      <td>0</td>\n",
       "      <td>116930</td>\n",
       "      <td>0.000000</td>\n",
       "    </tr>\n",
       "    <tr>\n",
       "      <th>plate_type</th>\n",
       "      <td>0</td>\n",
       "      <td>116930</td>\n",
       "      <td>0.000000</td>\n",
       "    </tr>\n",
       "    <tr>\n",
       "      <th>registration_state</th>\n",
       "      <td>0</td>\n",
       "      <td>116930</td>\n",
       "      <td>0.000000</td>\n",
       "    </tr>\n",
       "    <tr>\n",
       "      <th>vehicle_body_type</th>\n",
       "      <td>0</td>\n",
       "      <td>116930</td>\n",
       "      <td>0.000000</td>\n",
       "    </tr>\n",
       "    <tr>\n",
       "      <th>violation_description</th>\n",
       "      <td>0</td>\n",
       "      <td>116930</td>\n",
       "      <td>0.000000</td>\n",
       "    </tr>\n",
       "    <tr>\n",
       "      <th>violation_precinct</th>\n",
       "      <td>0</td>\n",
       "      <td>116930</td>\n",
       "      <td>0.000000</td>\n",
       "    </tr>\n",
       "    <tr>\n",
       "      <th>violation_county</th>\n",
       "      <td>0</td>\n",
       "      <td>116930</td>\n",
       "      <td>0.000000</td>\n",
       "    </tr>\n",
       "    <tr>\n",
       "      <th>street_name</th>\n",
       "      <td>0</td>\n",
       "      <td>116930</td>\n",
       "      <td>0.000000</td>\n",
       "    </tr>\n",
       "    <tr>\n",
       "      <th>issue_datetime</th>\n",
       "      <td>0</td>\n",
       "      <td>116930</td>\n",
       "      <td>0.000000</td>\n",
       "    </tr>\n",
       "  </tbody>\n",
       "</table>\n",
       "</div>"
      ],
      "text/plain": [
       "                       missing   total    percent\n",
       "house_number             70718  116930  60.478919\n",
       "plate_id                     0  116930   0.000000\n",
       "plate_type                   0  116930   0.000000\n",
       "registration_state           0  116930   0.000000\n",
       "vehicle_body_type            0  116930   0.000000\n",
       "violation_description        0  116930   0.000000\n",
       "violation_precinct           0  116930   0.000000\n",
       "violation_county             0  116930   0.000000\n",
       "street_name                  0  116930   0.000000\n",
       "issue_datetime               0  116930   0.000000"
      ]
     },
     "execution_count": 31,
     "metadata": {},
     "output_type": "execute_result"
    }
   ],
   "source": [
    "one_issue.stb.missing()"
   ]
  },
  {
   "cell_type": "markdown",
   "id": "307e07ac-fbf3-442f-b4cf-8ee7b52ae4f4",
   "metadata": {},
   "source": [
    "So, in one_issue the majority of street names are typos or errors(invalid street names), and in 60% cases they also don't have house numbers. We may easily drop them."
   ]
  },
  {
   "cell_type": "code",
   "execution_count": 97,
   "id": "42825dcd-b9d5-461e-a7ff-3768f8b0e51a",
   "metadata": {
    "tags": []
   },
   "outputs": [
    {
     "name": "stdout",
     "output_type": "stream",
     "text": [
      "<class 'pandas.core.frame.DataFrame'>\n",
      "Index: 587705 entries, 5 to 34092779\n",
      "Data columns (total 10 columns):\n",
      " #   Column                 Non-Null Count   Dtype         \n",
      "---  ------                 --------------   -----         \n",
      " 0   plate_id               587705 non-null  object        \n",
      " 1   plate_type             587705 non-null  category      \n",
      " 2   registration_state     587705 non-null  category      \n",
      " 3   vehicle_body_type      587705 non-null  object        \n",
      " 4   violation_description  587705 non-null  object        \n",
      " 5   violation_precinct     587705 non-null  int32         \n",
      " 6   violation_county       587705 non-null  category      \n",
      " 7   house_number           305286 non-null  object        \n",
      " 8   street_name            587705 non-null  object        \n",
      " 9   issue_datetime         587705 non-null  datetime64[ns]\n",
      "dtypes: category(3), datetime64[ns](1), int32(1), object(5)\n",
      "memory usage: 35.3+ MB\n"
     ]
    }
   ],
   "source": [
    "threshold = 100\n",
    "counts = fff['street_name'].value_counts()\n",
    "desired_values = counts[counts <threshold].index\n",
    "hundred_is = fff[fff['street_name'].isin(desired_values)]\n",
    "\n",
    "hundred_is.info()"
   ]
  },
  {
   "cell_type": "code",
   "execution_count": 99,
   "id": "3bfba74c-cecd-47cf-930c-d93a3b0fb538",
   "metadata": {
    "tags": []
   },
   "outputs": [
    {
     "data": {
      "text/plain": [
       "0.017238399106344587"
      ]
     },
     "execution_count": 99,
     "metadata": {},
     "output_type": "execute_result"
    }
   ],
   "source": [
    "len(hundred_is)/len(fff)"
   ]
  },
  {
   "cell_type": "code",
   "execution_count": 34,
   "id": "0d131da5-49fa-4fbd-a91a-5e17c005df45",
   "metadata": {
    "tags": []
   },
   "outputs": [
    {
     "data": {
      "text/html": [
       "<div>\n",
       "<style scoped>\n",
       "    .dataframe tbody tr th:only-of-type {\n",
       "        vertical-align: middle;\n",
       "    }\n",
       "\n",
       "    .dataframe tbody tr th {\n",
       "        vertical-align: top;\n",
       "    }\n",
       "\n",
       "    .dataframe thead th {\n",
       "        text-align: right;\n",
       "    }\n",
       "</style>\n",
       "<table border=\"1\" class=\"dataframe\">\n",
       "  <thead>\n",
       "    <tr style=\"text-align: right;\">\n",
       "      <th></th>\n",
       "      <th>missing</th>\n",
       "      <th>total</th>\n",
       "      <th>percent</th>\n",
       "    </tr>\n",
       "  </thead>\n",
       "  <tbody>\n",
       "    <tr>\n",
       "      <th>house_number</th>\n",
       "      <td>282974</td>\n",
       "      <td>593112</td>\n",
       "      <td>47.710045</td>\n",
       "    </tr>\n",
       "    <tr>\n",
       "      <th>plate_id</th>\n",
       "      <td>0</td>\n",
       "      <td>593112</td>\n",
       "      <td>0.000000</td>\n",
       "    </tr>\n",
       "    <tr>\n",
       "      <th>plate_type</th>\n",
       "      <td>0</td>\n",
       "      <td>593112</td>\n",
       "      <td>0.000000</td>\n",
       "    </tr>\n",
       "    <tr>\n",
       "      <th>registration_state</th>\n",
       "      <td>0</td>\n",
       "      <td>593112</td>\n",
       "      <td>0.000000</td>\n",
       "    </tr>\n",
       "    <tr>\n",
       "      <th>vehicle_body_type</th>\n",
       "      <td>0</td>\n",
       "      <td>593112</td>\n",
       "      <td>0.000000</td>\n",
       "    </tr>\n",
       "    <tr>\n",
       "      <th>violation_description</th>\n",
       "      <td>0</td>\n",
       "      <td>593112</td>\n",
       "      <td>0.000000</td>\n",
       "    </tr>\n",
       "    <tr>\n",
       "      <th>violation_precinct</th>\n",
       "      <td>0</td>\n",
       "      <td>593112</td>\n",
       "      <td>0.000000</td>\n",
       "    </tr>\n",
       "    <tr>\n",
       "      <th>violation_county</th>\n",
       "      <td>0</td>\n",
       "      <td>593112</td>\n",
       "      <td>0.000000</td>\n",
       "    </tr>\n",
       "    <tr>\n",
       "      <th>street_name</th>\n",
       "      <td>0</td>\n",
       "      <td>593112</td>\n",
       "      <td>0.000000</td>\n",
       "    </tr>\n",
       "    <tr>\n",
       "      <th>issue_datetime</th>\n",
       "      <td>0</td>\n",
       "      <td>593112</td>\n",
       "      <td>0.000000</td>\n",
       "    </tr>\n",
       "  </tbody>\n",
       "</table>\n",
       "</div>"
      ],
      "text/plain": [
       "                       missing   total    percent\n",
       "house_number            282974  593112  47.710045\n",
       "plate_id                     0  593112   0.000000\n",
       "plate_type                   0  593112   0.000000\n",
       "registration_state           0  593112   0.000000\n",
       "vehicle_body_type            0  593112   0.000000\n",
       "violation_description        0  593112   0.000000\n",
       "violation_precinct           0  593112   0.000000\n",
       "violation_county             0  593112   0.000000\n",
       "street_name                  0  593112   0.000000\n",
       "issue_datetime               0  593112   0.000000"
      ]
     },
     "execution_count": 34,
     "metadata": {},
     "output_type": "execute_result"
    }
   ],
   "source": [
    "hundred_is.stb.missing()"
   ]
  },
  {
   "cell_type": "markdown",
   "id": "3581d33d-2141-4771-b75c-80199d34c2a1",
   "metadata": {},
   "source": [
    "1,7% of data are streets with less than 100 issues - 97% of all streets.  these street definitely don't need more parking lots."
   ]
  },
  {
   "cell_type": "markdown",
   "id": "1a36dc6f-f239-4a63-856f-8d588ba6c3e8",
   "metadata": {},
   "source": [
    "Let's exclude rows with one_issue streets from our data"
   ]
  },
  {
   "cell_type": "code",
   "execution_count": 100,
   "id": "42849ee3-a3d3-4525-8036-4e429133d97d",
   "metadata": {
    "tags": []
   },
   "outputs": [
    {
     "name": "stdout",
     "output_type": "stream",
     "text": [
      "<class 'pandas.core.frame.DataFrame'>\n",
      "RangeIndex: 33976597 entries, 0 to 33976596\n",
      "Data columns (total 10 columns):\n",
      " #   Column                 Dtype         \n",
      "---  ------                 -----         \n",
      " 0   plate_id               object        \n",
      " 1   plate_type             category      \n",
      " 2   registration_state     category      \n",
      " 3   vehicle_body_type      object        \n",
      " 4   violation_description  object        \n",
      " 5   violation_precinct     int32         \n",
      " 6   violation_county       category      \n",
      " 7   house_number           object        \n",
      " 8   street_name            object        \n",
      " 9   issue_datetime         datetime64[ns]\n",
      "dtypes: category(3), datetime64[ns](1), int32(1), object(5)\n",
      "memory usage: 1.7+ GB\n"
     ]
    }
   ],
   "source": [
    "threshold = 1\n",
    "counts = fff['street_name'].value_counts()\n",
    "desired_values = counts[counts > threshold].index\n",
    "data = fff[fff['street_name'].isin(desired_values)]\n",
    "data = data.reset_index(drop=True)\n",
    "data.info()"
   ]
  },
  {
   "cell_type": "code",
   "execution_count": 36,
   "id": "9c114fbf-9213-40b4-8d1a-7cebb6f99fb0",
   "metadata": {
    "tags": []
   },
   "outputs": [
    {
     "data": {
      "text/plain": [
       "0.9965702418602788"
      ]
     },
     "execution_count": 36,
     "metadata": {},
     "output_type": "execute_result"
    }
   ],
   "source": [
    "len(data)/len(fff) "
   ]
  },
  {
   "cell_type": "code",
   "execution_count": 101,
   "id": "02fa650e-3993-4101-b236-88a48f39962d",
   "metadata": {
    "tags": []
   },
   "outputs": [
    {
     "data": {
      "text/html": [
       "<div>\n",
       "<style scoped>\n",
       "    .dataframe tbody tr th:only-of-type {\n",
       "        vertical-align: middle;\n",
       "    }\n",
       "\n",
       "    .dataframe tbody tr th {\n",
       "        vertical-align: top;\n",
       "    }\n",
       "\n",
       "    .dataframe thead th {\n",
       "        text-align: right;\n",
       "    }\n",
       "</style>\n",
       "<table border=\"1\" class=\"dataframe\">\n",
       "  <thead>\n",
       "    <tr style=\"text-align: right;\">\n",
       "      <th></th>\n",
       "      <th>missing</th>\n",
       "      <th>total</th>\n",
       "      <th>percent</th>\n",
       "    </tr>\n",
       "  </thead>\n",
       "  <tbody>\n",
       "    <tr>\n",
       "      <th>house_number</th>\n",
       "      <td>539309</td>\n",
       "      <td>33976597</td>\n",
       "      <td>1.587296</td>\n",
       "    </tr>\n",
       "    <tr>\n",
       "      <th>plate_id</th>\n",
       "      <td>0</td>\n",
       "      <td>33976597</td>\n",
       "      <td>0.000000</td>\n",
       "    </tr>\n",
       "    <tr>\n",
       "      <th>plate_type</th>\n",
       "      <td>0</td>\n",
       "      <td>33976597</td>\n",
       "      <td>0.000000</td>\n",
       "    </tr>\n",
       "    <tr>\n",
       "      <th>registration_state</th>\n",
       "      <td>0</td>\n",
       "      <td>33976597</td>\n",
       "      <td>0.000000</td>\n",
       "    </tr>\n",
       "    <tr>\n",
       "      <th>vehicle_body_type</th>\n",
       "      <td>0</td>\n",
       "      <td>33976597</td>\n",
       "      <td>0.000000</td>\n",
       "    </tr>\n",
       "    <tr>\n",
       "      <th>violation_description</th>\n",
       "      <td>0</td>\n",
       "      <td>33976597</td>\n",
       "      <td>0.000000</td>\n",
       "    </tr>\n",
       "    <tr>\n",
       "      <th>violation_precinct</th>\n",
       "      <td>0</td>\n",
       "      <td>33976597</td>\n",
       "      <td>0.000000</td>\n",
       "    </tr>\n",
       "    <tr>\n",
       "      <th>violation_county</th>\n",
       "      <td>0</td>\n",
       "      <td>33976597</td>\n",
       "      <td>0.000000</td>\n",
       "    </tr>\n",
       "    <tr>\n",
       "      <th>street_name</th>\n",
       "      <td>0</td>\n",
       "      <td>33976597</td>\n",
       "      <td>0.000000</td>\n",
       "    </tr>\n",
       "    <tr>\n",
       "      <th>issue_datetime</th>\n",
       "      <td>0</td>\n",
       "      <td>33976597</td>\n",
       "      <td>0.000000</td>\n",
       "    </tr>\n",
       "  </tbody>\n",
       "</table>\n",
       "</div>"
      ],
      "text/plain": [
       "                       missing     total   percent\n",
       "house_number            539309  33976597  1.587296\n",
       "plate_id                     0  33976597  0.000000\n",
       "plate_type                   0  33976597  0.000000\n",
       "registration_state           0  33976597  0.000000\n",
       "vehicle_body_type            0  33976597  0.000000\n",
       "violation_description        0  33976597  0.000000\n",
       "violation_precinct           0  33976597  0.000000\n",
       "violation_county             0  33976597  0.000000\n",
       "street_name                  0  33976597  0.000000\n",
       "issue_datetime               0  33976597  0.000000"
      ]
     },
     "execution_count": 101,
     "metadata": {},
     "output_type": "execute_result"
    }
   ],
   "source": [
    "data.stb.missing()"
   ]
  },
  {
   "cell_type": "markdown",
   "id": "b6c18f32-353f-4ee6-9ae0-6aaef6ad1a90",
   "metadata": {
    "tags": []
   },
   "source": [
    "## to csv"
   ]
  },
  {
   "cell_type": "code",
   "execution_count": 102,
   "id": "5a46c577-7d64-482c-a971-f0a774142c8b",
   "metadata": {
    "tags": []
   },
   "outputs": [],
   "source": [
    "file_path = '/Users/Nina/Downloads/data.csv'\n",
    "data.to_csv(file_path, index=False)"
   ]
  },
  {
   "cell_type": "code",
   "execution_count": null,
   "id": "6a342628-11db-4a76-8765-4eb733f483cd",
   "metadata": {},
   "outputs": [],
   "source": []
  }
 ],
 "metadata": {
  "kernelspec": {
   "display_name": "Python 3 (ipykernel)",
   "language": "python",
   "name": "python3"
  },
  "language_info": {
   "codemirror_mode": {
    "name": "ipython",
    "version": 3
   },
   "file_extension": ".py",
   "mimetype": "text/x-python",
   "name": "python",
   "nbconvert_exporter": "python",
   "pygments_lexer": "ipython3",
   "version": "3.11.5"
  }
 },
 "nbformat": 4,
 "nbformat_minor": 5
}
